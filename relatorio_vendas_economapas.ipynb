{
 "cells": [
  {
   "cell_type": "markdown",
   "id": "3677079e",
   "metadata": {},
   "source": [
    "# Desafio Técnico Economapas (Relatório de Vendas 2020/2021)"
   ]
  },
  {
   "cell_type": "markdown",
   "id": "3dfcd373",
   "metadata": {},
   "source": [
    "## 1)\tAs tabelas fornecidas, no arquivo anexo, contêm dados relativos à prospecção de potenciais clientes (leads), e aqueles que foram efetivamente convertidos, tornando-se clientes (vendidos). A partir desses dados, elabore uma análise, tendo como objetivo explicar os fatores que mais impactam para que um lead seja convertido. A análise deverá contemplar, minimamente, os seguintes quesitos:"
   ]
  },
  {
   "cell_type": "markdown",
   "id": "6435afc3",
   "metadata": {},
   "source": [
    "## a.\tQuais os fatores/características você considerou na análise?"
   ]
  },
  {
   "cell_type": "markdown",
   "id": "60fb55c3",
   "metadata": {},
   "source": [
    "As tabelas fornecidas em formato de documento .xlsx contendo sheets com diversas informações de Leads; para essa análise foram levadas em consideração as informações do Ledas que foram concluídos como vendas, uma vez que queremos entender os fatores que possam ter levado as sucesso de cada um deles. Foi feito tratamento dos dados contidos na tabela, uma vez que haviam dados duplicados e meu objetivo era juntá-los num único DataFrame, posteriormente salvo em um arquivo .csv que disponibilizo na pasta. "
   ]
  },
  {
   "cell_type": "code",
   "execution_count": 173,
   "id": "977dd7d3",
   "metadata": {},
   "outputs": [],
   "source": [
    "# importação das bibliotecas necessarias para a análise dos dados\n",
    "\n",
    "import pandas as pd\n",
    "import numpy as np\n",
    "import matplotlib.pyplot as plt\n",
    "import seaborn as sns\n",
    "import os\n",
    "import warnings\n",
    "warnings.filterwarnings('ignore')\n",
    "\n",
    "# leitura do csv em um Dataframe pandas\n",
    "\n",
    "df = pd.read_csv('desafio.csv')"
   ]
  },
  {
   "cell_type": "code",
   "execution_count": 174,
   "id": "2c4d2d49",
   "metadata": {},
   "outputs": [
    {
     "data": {
      "text/html": [
       "<div>\n",
       "<style scoped>\n",
       "    .dataframe tbody tr th:only-of-type {\n",
       "        vertical-align: middle;\n",
       "    }\n",
       "\n",
       "    .dataframe tbody tr th {\n",
       "        vertical-align: top;\n",
       "    }\n",
       "\n",
       "    .dataframe thead th {\n",
       "        text-align: right;\n",
       "    }\n",
       "</style>\n",
       "<table border=\"1\" class=\"dataframe\">\n",
       "  <thead>\n",
       "    <tr style=\"text-align: right;\">\n",
       "      <th></th>\n",
       "      <th>LEAD_ID</th>\n",
       "      <th>DATA CADASTRO</th>\n",
       "      <th>VENDIDO</th>\n",
       "      <th>ORIGEM</th>\n",
       "      <th>SUB-ORIGEM</th>\n",
       "      <th>MERCADO</th>\n",
       "      <th>PORTE</th>\n",
       "      <th>OBJETIVO</th>\n",
       "      <th>LOCAL</th>\n",
       "    </tr>\n",
       "  </thead>\n",
       "  <tbody>\n",
       "    <tr>\n",
       "      <th>0</th>\n",
       "      <td>11316042</td>\n",
       "      <td>2021-02-10 16:23:30</td>\n",
       "      <td>NÃO</td>\n",
       "      <td>Orgânico</td>\n",
       "      <td>NaN</td>\n",
       "      <td>Varejo</td>\n",
       "      <td>1-10</td>\n",
       "      <td>Abertura/Expansão</td>\n",
       "      <td>Belém - PA</td>\n",
       "    </tr>\n",
       "    <tr>\n",
       "      <th>1</th>\n",
       "      <td>11374979</td>\n",
       "      <td>2021-02-17 11:10:28</td>\n",
       "      <td>NÃO</td>\n",
       "      <td>Orgânico</td>\n",
       "      <td>NaN</td>\n",
       "      <td>Varejo</td>\n",
       "      <td>11-50</td>\n",
       "      <td>NaN</td>\n",
       "      <td>São Paulo, SP</td>\n",
       "    </tr>\n",
       "    <tr>\n",
       "      <th>2</th>\n",
       "      <td>11997870</td>\n",
       "      <td>2021-04-15 11:06:00</td>\n",
       "      <td>NÃO</td>\n",
       "      <td>Prospecção Ativa</td>\n",
       "      <td>Sales Navigator</td>\n",
       "      <td>Varejo</td>\n",
       "      <td>NaN</td>\n",
       "      <td>NaN</td>\n",
       "      <td>-</td>\n",
       "    </tr>\n",
       "    <tr>\n",
       "      <th>3</th>\n",
       "      <td>11930537</td>\n",
       "      <td>2021-04-09 13:10:21</td>\n",
       "      <td>NÃO</td>\n",
       "      <td>Prospecção Ativa</td>\n",
       "      <td>Sales Navigator</td>\n",
       "      <td>Varejo</td>\n",
       "      <td>NaN</td>\n",
       "      <td>NaN</td>\n",
       "      <td>-</td>\n",
       "    </tr>\n",
       "    <tr>\n",
       "      <th>4</th>\n",
       "      <td>11899381</td>\n",
       "      <td>2021-04-07 13:13:49</td>\n",
       "      <td>NÃO</td>\n",
       "      <td>Prospecção Ativa</td>\n",
       "      <td>Sales Navigator</td>\n",
       "      <td>Varejo</td>\n",
       "      <td>NaN</td>\n",
       "      <td>NaN</td>\n",
       "      <td>-</td>\n",
       "    </tr>\n",
       "    <tr>\n",
       "      <th>...</th>\n",
       "      <td>...</td>\n",
       "      <td>...</td>\n",
       "      <td>...</td>\n",
       "      <td>...</td>\n",
       "      <td>...</td>\n",
       "      <td>...</td>\n",
       "      <td>...</td>\n",
       "      <td>...</td>\n",
       "      <td>...</td>\n",
       "    </tr>\n",
       "    <tr>\n",
       "      <th>2266</th>\n",
       "      <td>11331813</td>\n",
       "      <td>2021-02-11 23:24:10</td>\n",
       "      <td>NÃO</td>\n",
       "      <td>Facebook</td>\n",
       "      <td>facebook - cpc</td>\n",
       "      <td>Varejo</td>\n",
       "      <td>11-50</td>\n",
       "      <td>Planejamento estratégico</td>\n",
       "      <td>São Paulo - SP</td>\n",
       "    </tr>\n",
       "    <tr>\n",
       "      <th>2267</th>\n",
       "      <td>10846258</td>\n",
       "      <td>2020-12-30 19:26:54</td>\n",
       "      <td>NÃO</td>\n",
       "      <td>Facebook</td>\n",
       "      <td>facebook - cpc</td>\n",
       "      <td>Varejo</td>\n",
       "      <td>1-10</td>\n",
       "      <td>Abertura/Expansão</td>\n",
       "      <td>Belo Horizonte - MG</td>\n",
       "    </tr>\n",
       "    <tr>\n",
       "      <th>2268</th>\n",
       "      <td>11562089</td>\n",
       "      <td>2021-03-07 21:33:44</td>\n",
       "      <td>NÃO</td>\n",
       "      <td>Facebook</td>\n",
       "      <td>facebook - cpc</td>\n",
       "      <td>Varejo</td>\n",
       "      <td>1-10</td>\n",
       "      <td>Outro</td>\n",
       "      <td>Fortaleza - CE</td>\n",
       "    </tr>\n",
       "    <tr>\n",
       "      <th>2269</th>\n",
       "      <td>11561275</td>\n",
       "      <td>2021-03-07 15:19:06</td>\n",
       "      <td>NÃO</td>\n",
       "      <td>Facebook</td>\n",
       "      <td>facebook - cpc</td>\n",
       "      <td>Varejo</td>\n",
       "      <td>0</td>\n",
       "      <td>Ações de marketing/vendas</td>\n",
       "      <td>Rio de Janeiro - RJ</td>\n",
       "    </tr>\n",
       "    <tr>\n",
       "      <th>2270</th>\n",
       "      <td>11566253</td>\n",
       "      <td>2021-03-08 10:22:05</td>\n",
       "      <td>NÃO</td>\n",
       "      <td>Facebook</td>\n",
       "      <td>facebook - cpc</td>\n",
       "      <td>Varejo</td>\n",
       "      <td>0</td>\n",
       "      <td>Abertura/Expansão</td>\n",
       "      <td>João Pessoa - PB</td>\n",
       "    </tr>\n",
       "  </tbody>\n",
       "</table>\n",
       "<p>2271 rows × 9 columns</p>\n",
       "</div>"
      ],
      "text/plain": [
       "       LEAD_ID        DATA CADASTRO VENDIDO            ORIGEM  \\\n",
       "0     11316042  2021-02-10 16:23:30     NÃO          Orgânico   \n",
       "1     11374979  2021-02-17 11:10:28     NÃO          Orgânico   \n",
       "2     11997870  2021-04-15 11:06:00     NÃO  Prospecção Ativa   \n",
       "3     11930537  2021-04-09 13:10:21     NÃO  Prospecção Ativa   \n",
       "4     11899381  2021-04-07 13:13:49     NÃO  Prospecção Ativa   \n",
       "...        ...                  ...     ...               ...   \n",
       "2266  11331813  2021-02-11 23:24:10     NÃO          Facebook   \n",
       "2267  10846258  2020-12-30 19:26:54     NÃO          Facebook   \n",
       "2268  11562089  2021-03-07 21:33:44     NÃO          Facebook   \n",
       "2269  11561275  2021-03-07 15:19:06     NÃO          Facebook   \n",
       "2270  11566253  2021-03-08 10:22:05     NÃO          Facebook   \n",
       "\n",
       "           SUB-ORIGEM MERCADO  PORTE                   OBJETIVO  \\\n",
       "0                 NaN  Varejo   1-10          Abertura/Expansão   \n",
       "1                 NaN  Varejo  11-50                        NaN   \n",
       "2     Sales Navigator  Varejo    NaN                        NaN   \n",
       "3     Sales Navigator  Varejo    NaN                        NaN   \n",
       "4     Sales Navigator  Varejo    NaN                        NaN   \n",
       "...               ...     ...    ...                        ...   \n",
       "2266   facebook - cpc  Varejo  11-50   Planejamento estratégico   \n",
       "2267   facebook - cpc  Varejo   1-10          Abertura/Expansão   \n",
       "2268   facebook - cpc  Varejo   1-10                      Outro   \n",
       "2269   facebook - cpc  Varejo      0  Ações de marketing/vendas   \n",
       "2270   facebook - cpc  Varejo      0          Abertura/Expansão   \n",
       "\n",
       "                    LOCAL  \n",
       "0              Belém - PA  \n",
       "1           São Paulo, SP  \n",
       "2                       -  \n",
       "3                       -  \n",
       "4                       -  \n",
       "...                   ...  \n",
       "2266       São Paulo - SP  \n",
       "2267  Belo Horizonte - MG  \n",
       "2268       Fortaleza - CE  \n",
       "2269  Rio de Janeiro - RJ  \n",
       "2270     João Pessoa - PB  \n",
       "\n",
       "[2271 rows x 9 columns]"
      ]
     },
     "execution_count": 174,
     "metadata": {},
     "output_type": "execute_result"
    }
   ],
   "source": [
    "df"
   ]
  },
  {
   "cell_type": "markdown",
   "id": "9c39c896",
   "metadata": {},
   "source": [
    "O Dataframe é composto basicamente de dados do tipo 'object';"
   ]
  },
  {
   "cell_type": "code",
   "execution_count": 175,
   "id": "d831032f",
   "metadata": {},
   "outputs": [
    {
     "name": "stdout",
     "output_type": "stream",
     "text": [
      "<class 'pandas.core.frame.DataFrame'>\n",
      "RangeIndex: 2271 entries, 0 to 2270\n",
      "Data columns (total 9 columns):\n",
      " #   Column         Non-Null Count  Dtype \n",
      "---  ------         --------------  ----- \n",
      " 0   LEAD_ID        2271 non-null   int64 \n",
      " 1   DATA CADASTRO  2271 non-null   object\n",
      " 2   VENDIDO        2271 non-null   object\n",
      " 3   ORIGEM         2271 non-null   object\n",
      " 4   SUB-ORIGEM     1464 non-null   object\n",
      " 5   MERCADO        2176 non-null   object\n",
      " 6   PORTE          2076 non-null   object\n",
      " 7   OBJETIVO       2058 non-null   object\n",
      " 8   LOCAL          2271 non-null   object\n",
      "dtypes: int64(1), object(8)\n",
      "memory usage: 159.8+ KB\n"
     ]
    }
   ],
   "source": [
    "df.info()"
   ]
  },
  {
   "cell_type": "code",
   "execution_count": 176,
   "id": "a3d72091",
   "metadata": {},
   "outputs": [
    {
     "data": {
      "text/plain": [
       "LEAD_ID           0.000000\n",
       "DATA CADASTRO     0.000000\n",
       "VENDIDO           0.000000\n",
       "ORIGEM            0.000000\n",
       "SUB-ORIGEM       35.535007\n",
       "MERCADO           4.183179\n",
       "PORTE             8.586526\n",
       "OBJETIVO          9.379128\n",
       "LOCAL             0.000000\n",
       "dtype: float64"
      ]
     },
     "execution_count": 176,
     "metadata": {},
     "output_type": "execute_result"
    }
   ],
   "source": [
    "df.isnull().sum()/len(df)*100"
   ]
  },
  {
   "cell_type": "code",
   "execution_count": 177,
   "id": "37cb2f78",
   "metadata": {},
   "outputs": [],
   "source": [
    "# excluindo a coluna '' por possuir muitos dados faltantes; \n",
    "\n",
    "df = df.drop(['SUB-ORIGEM'], axis=1)"
   ]
  },
  {
   "cell_type": "code",
   "execution_count": 178,
   "id": "afb893a4",
   "metadata": {},
   "outputs": [
    {
     "data": {
      "text/plain": [
       "'2020-12-01 00:09:34'"
      ]
     },
     "execution_count": 178,
     "metadata": {},
     "output_type": "execute_result"
    }
   ],
   "source": [
    "df['DATA CADASTRO'].min()"
   ]
  },
  {
   "cell_type": "code",
   "execution_count": 179,
   "id": "7ce3c400",
   "metadata": {},
   "outputs": [
    {
     "data": {
      "text/plain": [
       "'2021-04-18 23:05:38'"
      ]
     },
     "execution_count": 179,
     "metadata": {},
     "output_type": "execute_result"
    }
   ],
   "source": [
    "df['DATA CADASTRO'].max()"
   ]
  },
  {
   "cell_type": "markdown",
   "id": "e0fdbd05",
   "metadata": {},
   "source": [
    "O DataFrame é composto por dados de 01/12/2020 à 18/04/2021"
   ]
  },
  {
   "cell_type": "markdown",
   "id": "0810a617",
   "metadata": {},
   "source": [
    "A coluna 'SUB-ORIGEM' possui cerca de 35.5% de dados faltantes, o que inclinou para que não fosse usada na análise;"
   ]
  },
  {
   "cell_type": "code",
   "execution_count": 180,
   "id": "bde9517a",
   "metadata": {},
   "outputs": [
    {
     "data": {
      "application/vnd.plotly.v1+json": {
       "config": {
        "plotlyServerURL": "https://plot.ly"
       },
       "data": [
        {
         "domain": {
          "x": [
           0,
           1
          ],
          "y": [
           0,
           1
          ]
         },
         "hovertemplate": "VENDIDO=%{label}<extra></extra>",
         "labels": [
          "NÃO",
          "NÃO",
          "NÃO",
          "NÃO",
          "NÃO",
          "NÃO",
          "NÃO",
          "NÃO",
          "NÃO",
          "NÃO",
          "NÃO",
          "NÃO",
          "NÃO",
          "NÃO",
          "NÃO",
          "NÃO",
          "NÃO",
          "NÃO",
          "NÃO",
          "NÃO",
          "NÃO",
          "NÃO",
          "NÃO",
          "NÃO",
          "NÃO",
          "NÃO",
          "NÃO",
          "NÃO",
          "NÃO",
          "NÃO",
          "NÃO",
          "NÃO",
          "NÃO",
          "NÃO",
          "NÃO",
          "NÃO",
          "NÃO",
          "NÃO",
          "NÃO",
          "NÃO",
          "NÃO",
          "NÃO",
          "NÃO",
          "NÃO",
          "NÃO",
          "NÃO",
          "NÃO",
          "NÃO",
          "NÃO",
          "NÃO",
          "NÃO",
          "NÃO",
          "NÃO",
          "NÃO",
          "NÃO",
          "NÃO",
          "NÃO",
          "NÃO",
          "NÃO",
          "NÃO",
          "NÃO",
          "NÃO",
          "NÃO",
          "NÃO",
          "NÃO",
          "NÃO",
          "NÃO",
          "NÃO",
          "NÃO",
          "NÃO",
          "NÃO",
          "NÃO",
          "NÃO",
          "NÃO",
          "NÃO",
          "NÃO",
          "NÃO",
          "NÃO",
          "NÃO",
          "NÃO",
          "NÃO",
          "NÃO",
          "NÃO",
          "NÃO",
          "NÃO",
          "NÃO",
          "NÃO",
          "NÃO",
          "NÃO",
          "NÃO",
          "NÃO",
          "NÃO",
          "NÃO",
          "NÃO",
          "NÃO",
          "NÃO",
          "NÃO",
          "NÃO",
          "NÃO",
          "NÃO",
          "NÃO",
          "NÃO",
          "NÃO",
          "NÃO",
          "NÃO",
          "NÃO",
          "NÃO",
          "NÃO",
          "NÃO",
          "NÃO",
          "NÃO",
          "NÃO",
          "NÃO",
          "NÃO",
          "NÃO",
          "NÃO",
          "NÃO",
          "NÃO",
          "NÃO",
          "NÃO",
          "NÃO",
          "NÃO",
          "NÃO",
          "NÃO",
          "NÃO",
          "NÃO",
          "NÃO",
          "NÃO",
          "NÃO",
          "NÃO",
          "NÃO",
          "NÃO",
          "NÃO",
          "NÃO",
          "NÃO",
          "NÃO",
          "NÃO",
          "NÃO",
          "NÃO",
          "NÃO",
          "NÃO",
          "NÃO",
          "NÃO",
          "NÃO",
          "NÃO",
          "NÃO",
          "NÃO",
          "NÃO",
          "NÃO",
          "NÃO",
          "NÃO",
          "NÃO",
          "NÃO",
          "NÃO",
          "NÃO",
          "NÃO",
          "NÃO",
          "NÃO",
          "NÃO",
          "NÃO",
          "NÃO",
          "NÃO",
          "NÃO",
          "NÃO",
          "NÃO",
          "NÃO",
          "NÃO",
          "NÃO",
          "NÃO",
          "NÃO",
          "NÃO",
          "NÃO",
          "NÃO",
          "NÃO",
          "NÃO",
          "NÃO",
          "NÃO",
          "NÃO",
          "NÃO",
          "NÃO",
          "NÃO",
          "NÃO",
          "NÃO",
          "NÃO",
          "NÃO",
          "NÃO",
          "NÃO",
          "NÃO",
          "NÃO",
          "NÃO",
          "NÃO",
          "NÃO",
          "NÃO",
          "NÃO",
          "NÃO",
          "NÃO",
          "NÃO",
          "NÃO",
          "NÃO",
          "NÃO",
          "NÃO",
          "NÃO",
          "NÃO",
          "NÃO",
          "NÃO",
          "NÃO",
          "NÃO",
          "NÃO",
          "NÃO",
          "NÃO",
          "NÃO",
          "NÃO",
          "NÃO",
          "NÃO",
          "NÃO",
          "NÃO",
          "NÃO",
          "NÃO",
          "NÃO",
          "NÃO",
          "NÃO",
          "NÃO",
          "NÃO",
          "NÃO",
          "NÃO",
          "NÃO",
          "NÃO",
          "NÃO",
          "NÃO",
          "NÃO",
          "NÃO",
          "NÃO",
          "NÃO",
          "NÃO",
          "NÃO",
          "NÃO",
          "NÃO",
          "NÃO",
          "NÃO",
          "NÃO",
          "NÃO",
          "NÃO",
          "NÃO",
          "NÃO",
          "NÃO",
          "NÃO",
          "NÃO",
          "NÃO",
          "NÃO",
          "NÃO",
          "NÃO",
          "NÃO",
          "NÃO",
          "NÃO",
          "NÃO",
          "NÃO",
          "NÃO",
          "NÃO",
          "NÃO",
          "NÃO",
          "NÃO",
          "NÃO",
          "NÃO",
          "NÃO",
          "NÃO",
          "NÃO",
          "NÃO",
          "NÃO",
          "SIM",
          "SIM",
          "SIM",
          "SIM",
          "SIM",
          "SIM",
          "SIM",
          "SIM",
          "SIM",
          "NÃO",
          "SIM",
          "SIM",
          "SIM",
          "SIM",
          "SIM",
          "NÃO",
          "SIM",
          "SIM",
          "SIM",
          "SIM",
          "NÃO",
          "SIM",
          "SIM",
          "SIM",
          "SIM",
          "SIM",
          "SIM",
          "SIM",
          "SIM",
          "SIM",
          "SIM",
          "SIM",
          "SIM",
          "SIM",
          "SIM",
          "SIM",
          "NÃO",
          "SIM",
          "SIM",
          "SIM",
          "SIM",
          "SIM",
          "SIM",
          "SIM",
          "SIM",
          "SIM",
          "SIM",
          "SIM",
          "SIM",
          "SIM",
          "NÃO",
          "NÃO",
          "SIM",
          "SIM",
          "SIM",
          "SIM",
          "SIM",
          "SIM",
          "SIM",
          "SIM",
          "SIM",
          "SIM",
          "SIM",
          "SIM",
          "SIM",
          "SIM",
          "SIM",
          "SIM",
          "SIM",
          "SIM",
          "NÃO",
          "SIM",
          "SIM",
          "SIM",
          "SIM",
          "SIM",
          "SIM",
          "SIM",
          "SIM",
          "NÃO",
          "NÃO",
          "NÃO",
          "NÃO",
          "NÃO",
          "NÃO",
          "NÃO",
          "NÃO",
          "NÃO",
          "NÃO",
          "NÃO",
          "NÃO",
          "NÃO",
          "NÃO",
          "NÃO",
          "NÃO",
          "NÃO",
          "NÃO",
          "NÃO",
          "NÃO",
          "NÃO",
          "NÃO",
          "NÃO",
          "NÃO",
          "NÃO",
          "NÃO",
          "NÃO",
          "NÃO",
          "NÃO",
          "NÃO",
          "NÃO",
          "NÃO",
          "NÃO",
          "NÃO",
          "NÃO",
          "NÃO",
          "NÃO",
          "NÃO",
          "NÃO",
          "NÃO",
          "NÃO",
          "NÃO",
          "NÃO",
          "NÃO",
          "NÃO",
          "NÃO",
          "NÃO",
          "NÃO",
          "NÃO",
          "NÃO",
          "NÃO",
          "NÃO",
          "NÃO",
          "NÃO",
          "NÃO",
          "NÃO",
          "NÃO",
          "NÃO",
          "NÃO",
          "NÃO",
          "NÃO",
          "NÃO",
          "NÃO",
          "NÃO",
          "NÃO",
          "NÃO",
          "NÃO",
          "NÃO",
          "NÃO",
          "NÃO",
          "NÃO",
          "NÃO",
          "NÃO",
          "NÃO",
          "NÃO",
          "NÃO",
          "NÃO",
          "NÃO",
          "NÃO",
          "NÃO",
          "NÃO",
          "NÃO",
          "NÃO",
          "NÃO",
          "NÃO",
          "NÃO",
          "NÃO",
          "NÃO",
          "NÃO",
          "NÃO",
          "NÃO",
          "NÃO",
          "NÃO",
          "NÃO",
          "NÃO",
          "NÃO",
          "NÃO",
          "NÃO",
          "NÃO",
          "NÃO",
          "NÃO",
          "NÃO",
          "NÃO",
          "NÃO",
          "NÃO",
          "NÃO",
          "NÃO",
          "NÃO",
          "NÃO",
          "NÃO",
          "NÃO",
          "NÃO",
          "NÃO",
          "NÃO",
          "NÃO",
          "NÃO",
          "NÃO",
          "NÃO",
          "NÃO",
          "NÃO",
          "NÃO",
          "NÃO",
          "NÃO",
          "NÃO",
          "NÃO",
          "NÃO",
          "NÃO",
          "NÃO",
          "NÃO",
          "NÃO",
          "NÃO",
          "NÃO",
          "NÃO",
          "NÃO",
          "NÃO",
          "NÃO",
          "NÃO",
          "NÃO",
          "NÃO",
          "NÃO",
          "NÃO",
          "NÃO",
          "NÃO",
          "NÃO",
          "NÃO",
          "NÃO",
          "NÃO",
          "NÃO",
          "NÃO",
          "NÃO",
          "NÃO",
          "NÃO",
          "NÃO",
          "NÃO",
          "NÃO",
          "NÃO",
          "NÃO",
          "NÃO",
          "NÃO",
          "NÃO",
          "NÃO",
          "NÃO",
          "NÃO",
          "NÃO",
          "NÃO",
          "NÃO",
          "NÃO",
          "NÃO",
          "NÃO",
          "NÃO",
          "NÃO",
          "NÃO",
          "NÃO",
          "NÃO",
          "NÃO",
          "NÃO",
          "NÃO",
          "NÃO",
          "NÃO",
          "NÃO",
          "NÃO",
          "NÃO",
          "NÃO",
          "NÃO",
          "NÃO",
          "NÃO",
          "NÃO",
          "NÃO",
          "NÃO",
          "NÃO",
          "NÃO",
          "NÃO",
          "NÃO",
          "NÃO",
          "NÃO",
          "NÃO",
          "NÃO",
          "NÃO",
          "NÃO",
          "NÃO",
          "NÃO",
          "NÃO",
          "NÃO",
          "NÃO",
          "NÃO",
          "NÃO",
          "NÃO",
          "NÃO",
          "NÃO",
          "NÃO",
          "NÃO",
          "NÃO",
          "NÃO",
          "NÃO",
          "NÃO",
          "NÃO",
          "NÃO",
          "NÃO",
          "NÃO",
          "NÃO",
          "NÃO",
          "NÃO",
          "NÃO",
          "NÃO",
          "NÃO",
          "NÃO",
          "NÃO",
          "NÃO",
          "NÃO",
          "NÃO",
          "NÃO",
          "NÃO",
          "NÃO",
          "NÃO",
          "NÃO",
          "NÃO",
          "NÃO",
          "NÃO",
          "NÃO",
          "NÃO",
          "NÃO",
          "NÃO",
          "NÃO",
          "NÃO",
          "NÃO",
          "NÃO",
          "NÃO",
          "NÃO",
          "NÃO",
          "NÃO",
          "NÃO",
          "NÃO",
          "NÃO",
          "NÃO",
          "NÃO",
          "NÃO",
          "NÃO",
          "NÃO",
          "NÃO",
          "NÃO",
          "NÃO",
          "NÃO",
          "NÃO",
          "NÃO",
          "NÃO",
          "NÃO",
          "NÃO",
          "NÃO",
          "NÃO",
          "NÃO",
          "NÃO",
          "NÃO",
          "NÃO",
          "NÃO",
          "NÃO",
          "NÃO",
          "NÃO",
          "NÃO",
          "NÃO",
          "NÃO",
          "NÃO",
          "NÃO",
          "NÃO",
          "NÃO",
          "NÃO",
          "NÃO",
          "NÃO",
          "NÃO",
          "NÃO",
          "NÃO",
          "NÃO",
          "NÃO",
          "NÃO",
          "NÃO",
          "NÃO",
          "NÃO",
          "NÃO",
          "NÃO",
          "NÃO",
          "NÃO",
          "NÃO",
          "NÃO",
          "NÃO",
          "NÃO",
          "NÃO",
          "NÃO",
          "NÃO",
          "NÃO",
          "NÃO",
          "NÃO",
          "NÃO",
          "NÃO",
          "NÃO",
          "NÃO",
          "NÃO",
          "NÃO",
          "NÃO",
          "NÃO",
          "NÃO",
          "NÃO",
          "NÃO",
          "NÃO",
          "NÃO",
          "NÃO",
          "NÃO",
          "NÃO",
          "NÃO",
          "NÃO",
          "NÃO",
          "NÃO",
          "NÃO",
          "NÃO",
          "NÃO",
          "NÃO",
          "NÃO",
          "NÃO",
          "NÃO",
          "NÃO",
          "NÃO",
          "NÃO",
          "NÃO",
          "NÃO",
          "NÃO",
          "NÃO",
          "NÃO",
          "NÃO",
          "NÃO",
          "NÃO",
          "NÃO",
          "NÃO",
          "NÃO",
          "NÃO",
          "NÃO",
          "NÃO",
          "NÃO",
          "NÃO",
          "NÃO",
          "NÃO",
          "NÃO",
          "NÃO",
          "NÃO",
          "NÃO",
          "NÃO",
          "NÃO",
          "NÃO",
          "NÃO",
          "NÃO",
          "NÃO",
          "NÃO",
          "NÃO",
          "NÃO",
          "NÃO",
          "NÃO",
          "NÃO",
          "NÃO",
          "NÃO",
          "NÃO",
          "NÃO",
          "NÃO",
          "NÃO",
          "NÃO",
          "NÃO",
          "NÃO",
          "NÃO",
          "NÃO",
          "NÃO",
          "NÃO",
          "NÃO",
          "NÃO",
          "NÃO",
          "NÃO",
          "NÃO",
          "NÃO",
          "NÃO",
          "NÃO",
          "NÃO",
          "NÃO",
          "NÃO",
          "NÃO",
          "NÃO",
          "NÃO",
          "NÃO",
          "NÃO",
          "NÃO",
          "NÃO",
          "NÃO",
          "NÃO",
          "NÃO",
          "NÃO",
          "NÃO",
          "NÃO",
          "NÃO",
          "NÃO",
          "NÃO",
          "NÃO",
          "NÃO",
          "NÃO",
          "NÃO",
          "NÃO",
          "NÃO",
          "NÃO",
          "NÃO",
          "NÃO",
          "NÃO",
          "NÃO",
          "NÃO",
          "NÃO",
          "NÃO",
          "NÃO",
          "NÃO",
          "NÃO",
          "NÃO",
          "NÃO",
          "NÃO",
          "NÃO",
          "NÃO",
          "NÃO",
          "NÃO",
          "NÃO",
          "NÃO",
          "NÃO",
          "NÃO",
          "NÃO",
          "NÃO",
          "NÃO",
          "NÃO",
          "NÃO",
          "NÃO",
          "NÃO",
          "NÃO",
          "NÃO",
          "NÃO",
          "NÃO",
          "NÃO",
          "NÃO",
          "NÃO",
          "NÃO",
          "NÃO",
          "NÃO",
          "NÃO",
          "NÃO",
          "NÃO",
          "NÃO",
          "NÃO",
          "NÃO",
          "NÃO",
          "NÃO",
          "NÃO",
          "NÃO",
          "NÃO",
          "NÃO",
          "NÃO",
          "NÃO",
          "NÃO",
          "NÃO",
          "NÃO",
          "NÃO",
          "NÃO",
          "NÃO",
          "NÃO",
          "NÃO",
          "NÃO",
          "NÃO",
          "NÃO",
          "NÃO",
          "NÃO",
          "NÃO",
          "NÃO",
          "NÃO",
          "NÃO",
          "NÃO",
          "NÃO",
          "NÃO",
          "NÃO",
          "NÃO",
          "NÃO",
          "NÃO",
          "NÃO",
          "NÃO",
          "NÃO",
          "NÃO",
          "NÃO",
          "NÃO",
          "NÃO",
          "NÃO",
          "NÃO",
          "NÃO",
          "NÃO",
          "NÃO",
          "NÃO",
          "NÃO",
          "NÃO",
          "NÃO",
          "NÃO",
          "NÃO",
          "NÃO",
          "NÃO",
          "NÃO",
          "NÃO",
          "NÃO",
          "NÃO",
          "NÃO",
          "NÃO",
          "NÃO",
          "NÃO",
          "NÃO",
          "NÃO",
          "NÃO",
          "NÃO",
          "NÃO",
          "NÃO",
          "NÃO",
          "NÃO",
          "NÃO",
          "NÃO",
          "NÃO",
          "NÃO",
          "NÃO",
          "NÃO",
          "NÃO",
          "NÃO",
          "NÃO",
          "NÃO",
          "NÃO",
          "NÃO",
          "NÃO",
          "NÃO",
          "NÃO",
          "NÃO",
          "NÃO",
          "NÃO",
          "NÃO",
          "NÃO",
          "NÃO",
          "NÃO",
          "NÃO",
          "NÃO",
          "NÃO",
          "NÃO",
          "NÃO",
          "NÃO",
          "NÃO",
          "NÃO",
          "NÃO",
          "NÃO",
          "NÃO",
          "NÃO",
          "NÃO",
          "NÃO",
          "NÃO",
          "NÃO",
          "NÃO",
          "NÃO",
          "NÃO",
          "NÃO",
          "NÃO",
          "NÃO",
          "NÃO",
          "NÃO",
          "NÃO",
          "NÃO",
          "NÃO",
          "NÃO",
          "NÃO",
          "NÃO",
          "NÃO",
          "NÃO",
          "NÃO",
          "NÃO",
          "NÃO",
          "NÃO",
          "NÃO",
          "NÃO",
          "NÃO",
          "NÃO",
          "NÃO",
          "NÃO",
          "NÃO",
          "NÃO",
          "NÃO",
          "NÃO",
          "NÃO",
          "NÃO",
          "NÃO",
          "NÃO",
          "NÃO",
          "NÃO",
          "NÃO",
          "NÃO",
          "NÃO",
          "NÃO",
          "NÃO",
          "NÃO",
          "NÃO",
          "NÃO",
          "NÃO",
          "NÃO",
          "NÃO",
          "NÃO",
          "NÃO",
          "NÃO",
          "NÃO",
          "NÃO",
          "NÃO",
          "NÃO",
          "NÃO",
          "NÃO",
          "NÃO",
          "NÃO",
          "NÃO",
          "NÃO",
          "NÃO",
          "NÃO",
          "NÃO",
          "NÃO",
          "NÃO",
          "NÃO",
          "NÃO",
          "NÃO",
          "NÃO",
          "NÃO",
          "NÃO",
          "NÃO",
          "NÃO",
          "NÃO",
          "NÃO",
          "NÃO",
          "NÃO",
          "NÃO",
          "NÃO",
          "NÃO",
          "NÃO",
          "NÃO",
          "NÃO",
          "NÃO",
          "NÃO",
          "NÃO",
          "NÃO",
          "NÃO",
          "NÃO",
          "NÃO",
          "NÃO",
          "NÃO",
          "NÃO",
          "NÃO",
          "NÃO",
          "NÃO",
          "NÃO",
          "NÃO",
          "NÃO",
          "NÃO",
          "NÃO",
          "NÃO",
          "NÃO",
          "NÃO",
          "NÃO",
          "NÃO",
          "NÃO",
          "NÃO",
          "NÃO",
          "NÃO",
          "NÃO",
          "NÃO",
          "NÃO",
          "NÃO",
          "NÃO",
          "NÃO",
          "NÃO",
          "NÃO",
          "NÃO",
          "NÃO",
          "NÃO",
          "NÃO",
          "NÃO",
          "NÃO",
          "NÃO",
          "NÃO",
          "NÃO",
          "NÃO",
          "NÃO",
          "NÃO",
          "NÃO",
          "NÃO",
          "NÃO",
          "NÃO",
          "NÃO",
          "NÃO",
          "NÃO",
          "NÃO",
          "NÃO",
          "NÃO",
          "NÃO",
          "NÃO",
          "NÃO",
          "NÃO",
          "NÃO",
          "NÃO",
          "NÃO",
          "NÃO",
          "NÃO",
          "NÃO",
          "NÃO",
          "NÃO",
          "NÃO",
          "NÃO",
          "NÃO",
          "NÃO",
          "NÃO",
          "NÃO",
          "NÃO",
          "NÃO",
          "NÃO",
          "NÃO",
          "NÃO",
          "NÃO",
          "NÃO",
          "NÃO",
          "NÃO",
          "NÃO",
          "NÃO",
          "NÃO",
          "NÃO",
          "NÃO",
          "NÃO",
          "NÃO",
          "NÃO",
          "NÃO",
          "NÃO",
          "NÃO",
          "NÃO",
          "NÃO",
          "NÃO",
          "NÃO",
          "NÃO",
          "NÃO",
          "NÃO",
          "NÃO",
          "NÃO",
          "NÃO",
          "NÃO",
          "NÃO",
          "NÃO",
          "NÃO",
          "NÃO",
          "NÃO",
          "NÃO",
          "NÃO",
          "NÃO",
          "NÃO",
          "NÃO",
          "NÃO",
          "NÃO",
          "NÃO",
          "NÃO",
          "NÃO",
          "NÃO",
          "NÃO",
          "NÃO",
          "NÃO",
          "NÃO",
          "NÃO",
          "NÃO",
          "NÃO",
          "NÃO",
          "NÃO",
          "NÃO",
          "NÃO",
          "NÃO",
          "NÃO",
          "NÃO",
          "NÃO",
          "NÃO",
          "NÃO",
          "NÃO",
          "NÃO",
          "NÃO",
          "NÃO",
          "NÃO",
          "NÃO",
          "NÃO",
          "NÃO",
          "NÃO",
          "NÃO",
          "NÃO",
          "NÃO",
          "NÃO",
          "NÃO",
          "NÃO",
          "NÃO",
          "NÃO",
          "NÃO",
          "NÃO",
          "NÃO",
          "NÃO",
          "NÃO",
          "NÃO",
          "NÃO",
          "NÃO",
          "NÃO",
          "NÃO",
          "NÃO",
          "NÃO",
          "NÃO",
          "NÃO",
          "NÃO",
          "NÃO",
          "NÃO",
          "NÃO",
          "NÃO",
          "NÃO",
          "NÃO",
          "NÃO",
          "NÃO",
          "NÃO",
          "NÃO",
          "NÃO",
          "NÃO",
          "NÃO",
          "NÃO",
          "NÃO",
          "NÃO",
          "NÃO",
          "NÃO",
          "NÃO",
          "NÃO",
          "NÃO",
          "NÃO",
          "NÃO",
          "NÃO",
          "NÃO",
          "NÃO",
          "NÃO",
          "NÃO",
          "NÃO",
          "NÃO",
          "NÃO",
          "NÃO",
          "NÃO",
          "NÃO",
          "NÃO",
          "NÃO",
          "NÃO",
          "NÃO",
          "NÃO",
          "NÃO",
          "NÃO",
          "NÃO",
          "NÃO",
          "NÃO",
          "NÃO",
          "NÃO",
          "NÃO",
          "NÃO",
          "NÃO",
          "NÃO",
          "NÃO",
          "NÃO",
          "NÃO",
          "NÃO",
          "NÃO",
          "NÃO",
          "NÃO",
          "NÃO",
          "NÃO",
          "NÃO",
          "NÃO",
          "NÃO",
          "NÃO",
          "NÃO",
          "NÃO",
          "NÃO",
          "NÃO",
          "NÃO",
          "NÃO",
          "NÃO",
          "NÃO",
          "NÃO",
          "NÃO",
          "NÃO",
          "NÃO",
          "NÃO",
          "NÃO",
          "NÃO",
          "NÃO",
          "NÃO",
          "NÃO",
          "NÃO",
          "NÃO",
          "NÃO",
          "NÃO",
          "NÃO",
          "NÃO",
          "NÃO",
          "NÃO",
          "NÃO",
          "NÃO",
          "NÃO",
          "NÃO",
          "NÃO",
          "NÃO",
          "NÃO",
          "NÃO",
          "NÃO",
          "NÃO",
          "NÃO",
          "NÃO",
          "NÃO",
          "NÃO",
          "NÃO",
          "NÃO",
          "NÃO",
          "NÃO",
          "NÃO",
          "NÃO",
          "NÃO",
          "NÃO",
          "NÃO",
          "NÃO",
          "NÃO",
          "NÃO",
          "NÃO",
          "NÃO",
          "NÃO",
          "NÃO",
          "NÃO",
          "NÃO",
          "NÃO",
          "NÃO",
          "NÃO",
          "NÃO",
          "NÃO",
          "NÃO",
          "NÃO",
          "NÃO",
          "NÃO",
          "NÃO",
          "NÃO",
          "NÃO",
          "NÃO",
          "NÃO",
          "NÃO",
          "NÃO",
          "NÃO",
          "NÃO",
          "NÃO",
          "NÃO",
          "NÃO",
          "NÃO",
          "NÃO",
          "NÃO",
          "NÃO",
          "NÃO",
          "NÃO",
          "NÃO",
          "NÃO",
          "NÃO",
          "NÃO",
          "NÃO",
          "NÃO",
          "NÃO",
          "NÃO",
          "NÃO",
          "NÃO",
          "NÃO",
          "NÃO",
          "NÃO",
          "NÃO",
          "NÃO",
          "NÃO",
          "NÃO",
          "NÃO",
          "NÃO",
          "NÃO",
          "NÃO",
          "NÃO",
          "NÃO",
          "NÃO",
          "NÃO",
          "NÃO",
          "NÃO",
          "NÃO",
          "NÃO",
          "NÃO",
          "NÃO",
          "NÃO",
          "NÃO",
          "NÃO",
          "NÃO",
          "NÃO",
          "NÃO",
          "NÃO",
          "NÃO",
          "NÃO",
          "NÃO",
          "NÃO",
          "NÃO",
          "NÃO",
          "NÃO",
          "NÃO",
          "NÃO",
          "NÃO",
          "NÃO",
          "NÃO",
          "NÃO",
          "NÃO",
          "NÃO",
          "NÃO",
          "NÃO",
          "NÃO",
          "NÃO",
          "NÃO",
          "NÃO",
          "NÃO",
          "NÃO",
          "NÃO",
          "NÃO",
          "NÃO",
          "NÃO",
          "NÃO",
          "NÃO",
          "NÃO",
          "NÃO",
          "NÃO",
          "NÃO",
          "NÃO",
          "NÃO",
          "NÃO",
          "NÃO",
          "NÃO",
          "NÃO",
          "NÃO",
          "NÃO",
          "NÃO",
          "NÃO",
          "NÃO",
          "NÃO",
          "NÃO",
          "NÃO",
          "NÃO",
          "NÃO",
          "NÃO",
          "NÃO",
          "NÃO",
          "NÃO",
          "NÃO",
          "NÃO",
          "NÃO",
          "NÃO",
          "NÃO",
          "NÃO",
          "NÃO",
          "NÃO",
          "NÃO",
          "NÃO",
          "NÃO",
          "NÃO",
          "NÃO",
          "NÃO",
          "NÃO",
          "NÃO",
          "NÃO",
          "NÃO",
          "NÃO",
          "NÃO",
          "NÃO",
          "NÃO",
          "NÃO",
          "NÃO",
          "NÃO",
          "NÃO",
          "NÃO",
          "NÃO",
          "NÃO",
          "NÃO",
          "NÃO",
          "NÃO",
          "NÃO",
          "NÃO",
          "NÃO",
          "NÃO",
          "NÃO",
          "NÃO",
          "NÃO",
          "NÃO",
          "NÃO",
          "NÃO",
          "NÃO",
          "NÃO",
          "NÃO",
          "NÃO",
          "NÃO",
          "NÃO",
          "NÃO",
          "NÃO",
          "NÃO",
          "NÃO",
          "NÃO",
          "NÃO",
          "NÃO",
          "NÃO",
          "NÃO",
          "NÃO",
          "NÃO",
          "NÃO",
          "NÃO",
          "NÃO",
          "NÃO",
          "NÃO",
          "NÃO",
          "NÃO",
          "NÃO",
          "NÃO",
          "NÃO",
          "NÃO",
          "NÃO",
          "NÃO",
          "NÃO",
          "NÃO",
          "NÃO",
          "NÃO",
          "NÃO",
          "NÃO",
          "NÃO",
          "NÃO",
          "NÃO",
          "NÃO",
          "NÃO",
          "NÃO",
          "NÃO",
          "NÃO",
          "NÃO",
          "NÃO",
          "NÃO",
          "NÃO",
          "NÃO",
          "NÃO",
          "NÃO",
          "NÃO",
          "NÃO",
          "NÃO",
          "NÃO",
          "NÃO",
          "NÃO",
          "NÃO",
          "NÃO",
          "NÃO",
          "NÃO",
          "NÃO",
          "NÃO",
          "NÃO",
          "NÃO",
          "NÃO",
          "NÃO",
          "NÃO",
          "NÃO",
          "NÃO",
          "NÃO",
          "NÃO",
          "NÃO",
          "NÃO",
          "NÃO",
          "NÃO",
          "NÃO",
          "NÃO",
          "NÃO",
          "NÃO",
          "NÃO",
          "NÃO",
          "NÃO",
          "NÃO",
          "NÃO",
          "NÃO",
          "NÃO",
          "NÃO",
          "NÃO",
          "NÃO",
          "NÃO",
          "NÃO",
          "NÃO",
          "NÃO",
          "NÃO",
          "NÃO",
          "NÃO",
          "NÃO",
          "NÃO",
          "NÃO",
          "NÃO",
          "NÃO",
          "NÃO",
          "NÃO",
          "NÃO",
          "NÃO",
          "NÃO",
          "NÃO",
          "NÃO",
          "NÃO",
          "NÃO",
          "NÃO",
          "NÃO",
          "NÃO",
          "NÃO",
          "NÃO",
          "NÃO",
          "NÃO",
          "NÃO",
          "NÃO",
          "NÃO",
          "NÃO",
          "NÃO",
          "NÃO",
          "NÃO",
          "NÃO",
          "NÃO",
          "NÃO",
          "NÃO",
          "NÃO",
          "NÃO",
          "NÃO",
          "NÃO",
          "NÃO",
          "NÃO",
          "NÃO",
          "NÃO",
          "NÃO",
          "NÃO",
          "NÃO",
          "NÃO",
          "NÃO",
          "NÃO",
          "NÃO",
          "NÃO",
          "NÃO",
          "NÃO",
          "NÃO",
          "NÃO",
          "NÃO",
          "NÃO",
          "NÃO",
          "NÃO",
          "NÃO",
          "NÃO",
          "NÃO",
          "NÃO",
          "NÃO",
          "NÃO",
          "NÃO",
          "NÃO",
          "NÃO",
          "NÃO",
          "NÃO",
          "NÃO",
          "NÃO",
          "NÃO",
          "NÃO",
          "NÃO",
          "NÃO",
          "NÃO",
          "NÃO",
          "NÃO",
          "NÃO",
          "NÃO",
          "NÃO",
          "NÃO",
          "NÃO",
          "NÃO",
          "NÃO",
          "NÃO",
          "NÃO",
          "NÃO",
          "NÃO",
          "NÃO",
          "NÃO",
          "NÃO",
          "NÃO",
          "NÃO",
          "NÃO",
          "NÃO",
          "NÃO",
          "NÃO",
          "NÃO",
          "NÃO",
          "NÃO",
          "NÃO",
          "NÃO",
          "NÃO",
          "NÃO",
          "NÃO",
          "NÃO",
          "NÃO",
          "NÃO",
          "NÃO",
          "NÃO",
          "NÃO",
          "NÃO",
          "NÃO",
          "NÃO",
          "NÃO",
          "NÃO",
          "NÃO",
          "NÃO",
          "NÃO",
          "NÃO",
          "NÃO",
          "NÃO",
          "NÃO",
          "NÃO",
          "NÃO",
          "NÃO",
          "NÃO",
          "NÃO",
          "NÃO",
          "NÃO",
          "NÃO",
          "NÃO",
          "NÃO",
          "NÃO",
          "NÃO",
          "NÃO",
          "NÃO",
          "NÃO",
          "NÃO",
          "NÃO",
          "NÃO",
          "NÃO",
          "NÃO",
          "NÃO",
          "NÃO",
          "NÃO",
          "NÃO",
          "NÃO",
          "NÃO",
          "NÃO",
          "NÃO",
          "NÃO",
          "NÃO",
          "NÃO",
          "NÃO",
          "NÃO",
          "NÃO",
          "NÃO",
          "NÃO",
          "NÃO",
          "NÃO",
          "NÃO",
          "NÃO",
          "NÃO",
          "NÃO",
          "NÃO",
          "NÃO",
          "NÃO",
          "NÃO",
          "NÃO",
          "NÃO",
          "NÃO",
          "NÃO",
          "NÃO",
          "NÃO",
          "NÃO",
          "NÃO",
          "NÃO",
          "NÃO",
          "NÃO",
          "NÃO",
          "NÃO",
          "NÃO",
          "NÃO",
          "NÃO",
          "NÃO",
          "NÃO",
          "NÃO",
          "NÃO",
          "NÃO",
          "NÃO",
          "NÃO",
          "NÃO",
          "NÃO",
          "NÃO",
          "NÃO",
          "NÃO",
          "NÃO",
          "NÃO",
          "NÃO",
          "NÃO",
          "NÃO",
          "NÃO",
          "NÃO",
          "NÃO",
          "NÃO",
          "NÃO",
          "NÃO",
          "NÃO",
          "NÃO",
          "NÃO",
          "NÃO",
          "NÃO",
          "NÃO",
          "NÃO",
          "NÃO",
          "NÃO",
          "NÃO",
          "NÃO",
          "NÃO",
          "NÃO",
          "NÃO",
          "NÃO",
          "NÃO",
          "NÃO",
          "NÃO",
          "NÃO",
          "NÃO",
          "NÃO",
          "NÃO",
          "NÃO",
          "NÃO",
          "NÃO",
          "NÃO",
          "NÃO",
          "NÃO",
          "NÃO",
          "NÃO",
          "NÃO",
          "NÃO",
          "NÃO",
          "NÃO",
          "NÃO",
          "NÃO",
          "NÃO",
          "NÃO",
          "NÃO",
          "NÃO",
          "NÃO",
          "NÃO",
          "NÃO",
          "NÃO",
          "NÃO",
          "NÃO",
          "NÃO",
          "NÃO",
          "NÃO",
          "NÃO",
          "NÃO",
          "NÃO",
          "NÃO",
          "NÃO",
          "NÃO",
          "NÃO",
          "NÃO",
          "NÃO",
          "NÃO",
          "NÃO",
          "NÃO",
          "NÃO",
          "NÃO",
          "NÃO",
          "NÃO",
          "NÃO",
          "NÃO",
          "NÃO",
          "NÃO",
          "NÃO",
          "NÃO",
          "NÃO",
          "NÃO",
          "NÃO",
          "NÃO",
          "NÃO",
          "NÃO",
          "NÃO",
          "NÃO",
          "NÃO",
          "NÃO",
          "NÃO",
          "NÃO",
          "NÃO",
          "NÃO",
          "NÃO",
          "NÃO",
          "NÃO",
          "NÃO",
          "NÃO",
          "NÃO",
          "NÃO",
          "NÃO",
          "NÃO",
          "NÃO",
          "NÃO",
          "NÃO",
          "NÃO",
          "NÃO",
          "NÃO",
          "NÃO",
          "NÃO",
          "NÃO",
          "NÃO",
          "NÃO",
          "NÃO",
          "NÃO",
          "NÃO",
          "NÃO",
          "NÃO",
          "NÃO",
          "NÃO",
          "NÃO",
          "NÃO",
          "NÃO",
          "NÃO",
          "NÃO",
          "NÃO",
          "NÃO",
          "NÃO",
          "NÃO",
          "NÃO",
          "NÃO",
          "NÃO",
          "NÃO",
          "NÃO",
          "NÃO",
          "NÃO",
          "NÃO",
          "NÃO",
          "NÃO",
          "NÃO",
          "NÃO",
          "NÃO",
          "NÃO",
          "NÃO",
          "NÃO",
          "NÃO",
          "NÃO",
          "NÃO",
          "NÃO",
          "NÃO",
          "NÃO",
          "NÃO",
          "NÃO",
          "NÃO",
          "NÃO",
          "NÃO",
          "NÃO",
          "NÃO",
          "NÃO",
          "NÃO",
          "NÃO",
          "NÃO",
          "NÃO",
          "NÃO",
          "NÃO",
          "NÃO",
          "NÃO",
          "NÃO",
          "NÃO",
          "NÃO",
          "NÃO",
          "NÃO",
          "NÃO",
          "NÃO",
          "NÃO",
          "NÃO",
          "NÃO",
          "NÃO",
          "NÃO",
          "NÃO",
          "NÃO",
          "NÃO",
          "NÃO",
          "NÃO",
          "NÃO",
          "NÃO",
          "NÃO",
          "NÃO",
          "NÃO",
          "NÃO",
          "NÃO",
          "NÃO",
          "NÃO",
          "NÃO",
          "NÃO",
          "NÃO",
          "NÃO",
          "NÃO",
          "NÃO",
          "NÃO",
          "NÃO",
          "NÃO",
          "NÃO",
          "NÃO",
          "NÃO",
          "NÃO",
          "NÃO",
          "NÃO",
          "NÃO",
          "NÃO",
          "NÃO",
          "NÃO",
          "NÃO",
          "NÃO",
          "NÃO",
          "NÃO",
          "NÃO",
          "NÃO",
          "NÃO",
          "NÃO",
          "NÃO",
          "NÃO",
          "NÃO",
          "NÃO",
          "NÃO",
          "NÃO",
          "NÃO",
          "NÃO",
          "NÃO",
          "NÃO",
          "NÃO",
          "NÃO",
          "NÃO",
          "NÃO",
          "NÃO",
          "NÃO",
          "NÃO",
          "NÃO",
          "NÃO",
          "NÃO",
          "NÃO",
          "NÃO",
          "NÃO",
          "NÃO",
          "NÃO",
          "NÃO",
          "NÃO",
          "NÃO",
          "NÃO",
          "NÃO",
          "NÃO",
          "NÃO",
          "NÃO",
          "NÃO",
          "NÃO",
          "NÃO",
          "NÃO",
          "NÃO",
          "NÃO",
          "NÃO",
          "NÃO",
          "NÃO",
          "NÃO",
          "NÃO",
          "NÃO",
          "NÃO",
          "NÃO",
          "NÃO",
          "NÃO",
          "NÃO",
          "NÃO",
          "NÃO",
          "NÃO",
          "NÃO",
          "NÃO",
          "NÃO",
          "NÃO",
          "NÃO",
          "NÃO",
          "NÃO",
          "NÃO",
          "NÃO",
          "NÃO",
          "NÃO",
          "NÃO",
          "NÃO",
          "NÃO",
          "NÃO",
          "NÃO",
          "NÃO",
          "NÃO",
          "NÃO",
          "NÃO",
          "NÃO",
          "NÃO",
          "NÃO",
          "NÃO",
          "NÃO",
          "NÃO",
          "NÃO",
          "NÃO",
          "NÃO",
          "NÃO",
          "NÃO",
          "NÃO",
          "NÃO",
          "NÃO",
          "NÃO",
          "NÃO",
          "NÃO",
          "NÃO",
          "NÃO",
          "NÃO",
          "NÃO",
          "NÃO",
          "NÃO",
          "NÃO",
          "NÃO",
          "NÃO",
          "NÃO",
          "NÃO",
          "NÃO",
          "NÃO",
          "NÃO",
          "NÃO",
          "NÃO",
          "NÃO",
          "NÃO",
          "NÃO",
          "NÃO",
          "NÃO",
          "NÃO",
          "NÃO",
          "NÃO",
          "NÃO",
          "NÃO",
          "NÃO",
          "NÃO",
          "NÃO",
          "NÃO",
          "NÃO",
          "NÃO",
          "NÃO",
          "NÃO",
          "NÃO",
          "NÃO",
          "NÃO",
          "NÃO",
          "NÃO",
          "NÃO",
          "NÃO",
          "NÃO",
          "NÃO",
          "NÃO",
          "NÃO",
          "NÃO",
          "NÃO",
          "NÃO",
          "NÃO",
          "NÃO",
          "NÃO",
          "NÃO",
          "NÃO",
          "NÃO",
          "NÃO",
          "NÃO",
          "NÃO",
          "NÃO",
          "NÃO",
          "NÃO",
          "NÃO",
          "NÃO",
          "NÃO",
          "NÃO",
          "NÃO",
          "NÃO",
          "NÃO",
          "NÃO",
          "NÃO",
          "NÃO",
          "NÃO",
          "NÃO",
          "NÃO",
          "NÃO",
          "NÃO",
          "NÃO",
          "NÃO",
          "NÃO",
          "NÃO",
          "NÃO",
          "NÃO",
          "NÃO",
          "NÃO",
          "NÃO",
          "NÃO",
          "NÃO",
          "NÃO",
          "NÃO",
          "NÃO",
          "NÃO",
          "NÃO",
          "NÃO",
          "NÃO",
          "NÃO",
          "NÃO",
          "NÃO",
          "NÃO",
          "NÃO",
          "NÃO",
          "NÃO",
          "NÃO",
          "NÃO",
          "NÃO",
          "NÃO",
          "NÃO",
          "NÃO",
          "NÃO",
          "NÃO",
          "NÃO",
          "NÃO",
          "NÃO",
          "NÃO",
          "NÃO",
          "NÃO",
          "NÃO",
          "NÃO",
          "NÃO",
          "NÃO",
          "NÃO",
          "NÃO",
          "NÃO",
          "NÃO",
          "NÃO",
          "NÃO",
          "NÃO",
          "NÃO",
          "NÃO",
          "NÃO",
          "NÃO",
          "NÃO",
          "NÃO",
          "NÃO",
          "NÃO",
          "NÃO",
          "NÃO",
          "NÃO",
          "NÃO",
          "NÃO",
          "NÃO",
          "NÃO",
          "NÃO",
          "NÃO",
          "NÃO",
          "NÃO",
          "NÃO",
          "NÃO",
          "NÃO",
          "NÃO",
          "NÃO",
          "NÃO",
          "NÃO",
          "NÃO",
          "NÃO",
          "NÃO",
          "NÃO",
          "NÃO",
          "NÃO",
          "NÃO",
          "NÃO",
          "NÃO",
          "NÃO",
          "NÃO",
          "NÃO",
          "NÃO",
          "NÃO",
          "NÃO",
          "NÃO",
          "NÃO",
          "NÃO",
          "NÃO",
          "NÃO",
          "NÃO",
          "NÃO",
          "NÃO",
          "NÃO",
          "NÃO",
          "NÃO",
          "NÃO",
          "NÃO",
          "NÃO",
          "NÃO",
          "NÃO",
          "NÃO",
          "NÃO",
          "NÃO",
          "NÃO",
          "NÃO",
          "NÃO",
          "NÃO",
          "NÃO",
          "NÃO",
          "NÃO",
          "NÃO",
          "NÃO",
          "NÃO",
          "NÃO",
          "NÃO",
          "NÃO",
          "NÃO",
          "NÃO",
          "NÃO",
          "NÃO",
          "NÃO",
          "NÃO",
          "NÃO",
          "NÃO",
          "NÃO",
          "NÃO",
          "NÃO",
          "NÃO",
          "NÃO",
          "NÃO"
         ],
         "legendgroup": "",
         "name": "",
         "showlegend": true,
         "type": "pie"
        }
       ],
       "layout": {
        "legend": {
         "tracegroupgap": 0
        },
        "template": {
         "data": {
          "bar": [
           {
            "error_x": {
             "color": "#2a3f5f"
            },
            "error_y": {
             "color": "#2a3f5f"
            },
            "marker": {
             "line": {
              "color": "#E5ECF6",
              "width": 0.5
             },
             "pattern": {
              "fillmode": "overlay",
              "size": 10,
              "solidity": 0.2
             }
            },
            "type": "bar"
           }
          ],
          "barpolar": [
           {
            "marker": {
             "line": {
              "color": "#E5ECF6",
              "width": 0.5
             },
             "pattern": {
              "fillmode": "overlay",
              "size": 10,
              "solidity": 0.2
             }
            },
            "type": "barpolar"
           }
          ],
          "carpet": [
           {
            "aaxis": {
             "endlinecolor": "#2a3f5f",
             "gridcolor": "white",
             "linecolor": "white",
             "minorgridcolor": "white",
             "startlinecolor": "#2a3f5f"
            },
            "baxis": {
             "endlinecolor": "#2a3f5f",
             "gridcolor": "white",
             "linecolor": "white",
             "minorgridcolor": "white",
             "startlinecolor": "#2a3f5f"
            },
            "type": "carpet"
           }
          ],
          "choropleth": [
           {
            "colorbar": {
             "outlinewidth": 0,
             "ticks": ""
            },
            "type": "choropleth"
           }
          ],
          "contour": [
           {
            "colorbar": {
             "outlinewidth": 0,
             "ticks": ""
            },
            "colorscale": [
             [
              0,
              "#0d0887"
             ],
             [
              0.1111111111111111,
              "#46039f"
             ],
             [
              0.2222222222222222,
              "#7201a8"
             ],
             [
              0.3333333333333333,
              "#9c179e"
             ],
             [
              0.4444444444444444,
              "#bd3786"
             ],
             [
              0.5555555555555556,
              "#d8576b"
             ],
             [
              0.6666666666666666,
              "#ed7953"
             ],
             [
              0.7777777777777778,
              "#fb9f3a"
             ],
             [
              0.8888888888888888,
              "#fdca26"
             ],
             [
              1,
              "#f0f921"
             ]
            ],
            "type": "contour"
           }
          ],
          "contourcarpet": [
           {
            "colorbar": {
             "outlinewidth": 0,
             "ticks": ""
            },
            "type": "contourcarpet"
           }
          ],
          "heatmap": [
           {
            "colorbar": {
             "outlinewidth": 0,
             "ticks": ""
            },
            "colorscale": [
             [
              0,
              "#0d0887"
             ],
             [
              0.1111111111111111,
              "#46039f"
             ],
             [
              0.2222222222222222,
              "#7201a8"
             ],
             [
              0.3333333333333333,
              "#9c179e"
             ],
             [
              0.4444444444444444,
              "#bd3786"
             ],
             [
              0.5555555555555556,
              "#d8576b"
             ],
             [
              0.6666666666666666,
              "#ed7953"
             ],
             [
              0.7777777777777778,
              "#fb9f3a"
             ],
             [
              0.8888888888888888,
              "#fdca26"
             ],
             [
              1,
              "#f0f921"
             ]
            ],
            "type": "heatmap"
           }
          ],
          "heatmapgl": [
           {
            "colorbar": {
             "outlinewidth": 0,
             "ticks": ""
            },
            "colorscale": [
             [
              0,
              "#0d0887"
             ],
             [
              0.1111111111111111,
              "#46039f"
             ],
             [
              0.2222222222222222,
              "#7201a8"
             ],
             [
              0.3333333333333333,
              "#9c179e"
             ],
             [
              0.4444444444444444,
              "#bd3786"
             ],
             [
              0.5555555555555556,
              "#d8576b"
             ],
             [
              0.6666666666666666,
              "#ed7953"
             ],
             [
              0.7777777777777778,
              "#fb9f3a"
             ],
             [
              0.8888888888888888,
              "#fdca26"
             ],
             [
              1,
              "#f0f921"
             ]
            ],
            "type": "heatmapgl"
           }
          ],
          "histogram": [
           {
            "marker": {
             "pattern": {
              "fillmode": "overlay",
              "size": 10,
              "solidity": 0.2
             }
            },
            "type": "histogram"
           }
          ],
          "histogram2d": [
           {
            "colorbar": {
             "outlinewidth": 0,
             "ticks": ""
            },
            "colorscale": [
             [
              0,
              "#0d0887"
             ],
             [
              0.1111111111111111,
              "#46039f"
             ],
             [
              0.2222222222222222,
              "#7201a8"
             ],
             [
              0.3333333333333333,
              "#9c179e"
             ],
             [
              0.4444444444444444,
              "#bd3786"
             ],
             [
              0.5555555555555556,
              "#d8576b"
             ],
             [
              0.6666666666666666,
              "#ed7953"
             ],
             [
              0.7777777777777778,
              "#fb9f3a"
             ],
             [
              0.8888888888888888,
              "#fdca26"
             ],
             [
              1,
              "#f0f921"
             ]
            ],
            "type": "histogram2d"
           }
          ],
          "histogram2dcontour": [
           {
            "colorbar": {
             "outlinewidth": 0,
             "ticks": ""
            },
            "colorscale": [
             [
              0,
              "#0d0887"
             ],
             [
              0.1111111111111111,
              "#46039f"
             ],
             [
              0.2222222222222222,
              "#7201a8"
             ],
             [
              0.3333333333333333,
              "#9c179e"
             ],
             [
              0.4444444444444444,
              "#bd3786"
             ],
             [
              0.5555555555555556,
              "#d8576b"
             ],
             [
              0.6666666666666666,
              "#ed7953"
             ],
             [
              0.7777777777777778,
              "#fb9f3a"
             ],
             [
              0.8888888888888888,
              "#fdca26"
             ],
             [
              1,
              "#f0f921"
             ]
            ],
            "type": "histogram2dcontour"
           }
          ],
          "mesh3d": [
           {
            "colorbar": {
             "outlinewidth": 0,
             "ticks": ""
            },
            "type": "mesh3d"
           }
          ],
          "parcoords": [
           {
            "line": {
             "colorbar": {
              "outlinewidth": 0,
              "ticks": ""
             }
            },
            "type": "parcoords"
           }
          ],
          "pie": [
           {
            "automargin": true,
            "type": "pie"
           }
          ],
          "scatter": [
           {
            "marker": {
             "colorbar": {
              "outlinewidth": 0,
              "ticks": ""
             }
            },
            "type": "scatter"
           }
          ],
          "scatter3d": [
           {
            "line": {
             "colorbar": {
              "outlinewidth": 0,
              "ticks": ""
             }
            },
            "marker": {
             "colorbar": {
              "outlinewidth": 0,
              "ticks": ""
             }
            },
            "type": "scatter3d"
           }
          ],
          "scattercarpet": [
           {
            "marker": {
             "colorbar": {
              "outlinewidth": 0,
              "ticks": ""
             }
            },
            "type": "scattercarpet"
           }
          ],
          "scattergeo": [
           {
            "marker": {
             "colorbar": {
              "outlinewidth": 0,
              "ticks": ""
             }
            },
            "type": "scattergeo"
           }
          ],
          "scattergl": [
           {
            "marker": {
             "colorbar": {
              "outlinewidth": 0,
              "ticks": ""
             }
            },
            "type": "scattergl"
           }
          ],
          "scattermapbox": [
           {
            "marker": {
             "colorbar": {
              "outlinewidth": 0,
              "ticks": ""
             }
            },
            "type": "scattermapbox"
           }
          ],
          "scatterpolar": [
           {
            "marker": {
             "colorbar": {
              "outlinewidth": 0,
              "ticks": ""
             }
            },
            "type": "scatterpolar"
           }
          ],
          "scatterpolargl": [
           {
            "marker": {
             "colorbar": {
              "outlinewidth": 0,
              "ticks": ""
             }
            },
            "type": "scatterpolargl"
           }
          ],
          "scatterternary": [
           {
            "marker": {
             "colorbar": {
              "outlinewidth": 0,
              "ticks": ""
             }
            },
            "type": "scatterternary"
           }
          ],
          "surface": [
           {
            "colorbar": {
             "outlinewidth": 0,
             "ticks": ""
            },
            "colorscale": [
             [
              0,
              "#0d0887"
             ],
             [
              0.1111111111111111,
              "#46039f"
             ],
             [
              0.2222222222222222,
              "#7201a8"
             ],
             [
              0.3333333333333333,
              "#9c179e"
             ],
             [
              0.4444444444444444,
              "#bd3786"
             ],
             [
              0.5555555555555556,
              "#d8576b"
             ],
             [
              0.6666666666666666,
              "#ed7953"
             ],
             [
              0.7777777777777778,
              "#fb9f3a"
             ],
             [
              0.8888888888888888,
              "#fdca26"
             ],
             [
              1,
              "#f0f921"
             ]
            ],
            "type": "surface"
           }
          ],
          "table": [
           {
            "cells": {
             "fill": {
              "color": "#EBF0F8"
             },
             "line": {
              "color": "white"
             }
            },
            "header": {
             "fill": {
              "color": "#C8D4E3"
             },
             "line": {
              "color": "white"
             }
            },
            "type": "table"
           }
          ]
         },
         "layout": {
          "annotationdefaults": {
           "arrowcolor": "#2a3f5f",
           "arrowhead": 0,
           "arrowwidth": 1
          },
          "autotypenumbers": "strict",
          "coloraxis": {
           "colorbar": {
            "outlinewidth": 0,
            "ticks": ""
           }
          },
          "colorscale": {
           "diverging": [
            [
             0,
             "#8e0152"
            ],
            [
             0.1,
             "#c51b7d"
            ],
            [
             0.2,
             "#de77ae"
            ],
            [
             0.3,
             "#f1b6da"
            ],
            [
             0.4,
             "#fde0ef"
            ],
            [
             0.5,
             "#f7f7f7"
            ],
            [
             0.6,
             "#e6f5d0"
            ],
            [
             0.7,
             "#b8e186"
            ],
            [
             0.8,
             "#7fbc41"
            ],
            [
             0.9,
             "#4d9221"
            ],
            [
             1,
             "#276419"
            ]
           ],
           "sequential": [
            [
             0,
             "#0d0887"
            ],
            [
             0.1111111111111111,
             "#46039f"
            ],
            [
             0.2222222222222222,
             "#7201a8"
            ],
            [
             0.3333333333333333,
             "#9c179e"
            ],
            [
             0.4444444444444444,
             "#bd3786"
            ],
            [
             0.5555555555555556,
             "#d8576b"
            ],
            [
             0.6666666666666666,
             "#ed7953"
            ],
            [
             0.7777777777777778,
             "#fb9f3a"
            ],
            [
             0.8888888888888888,
             "#fdca26"
            ],
            [
             1,
             "#f0f921"
            ]
           ],
           "sequentialminus": [
            [
             0,
             "#0d0887"
            ],
            [
             0.1111111111111111,
             "#46039f"
            ],
            [
             0.2222222222222222,
             "#7201a8"
            ],
            [
             0.3333333333333333,
             "#9c179e"
            ],
            [
             0.4444444444444444,
             "#bd3786"
            ],
            [
             0.5555555555555556,
             "#d8576b"
            ],
            [
             0.6666666666666666,
             "#ed7953"
            ],
            [
             0.7777777777777778,
             "#fb9f3a"
            ],
            [
             0.8888888888888888,
             "#fdca26"
            ],
            [
             1,
             "#f0f921"
            ]
           ]
          },
          "colorway": [
           "#636efa",
           "#EF553B",
           "#00cc96",
           "#ab63fa",
           "#FFA15A",
           "#19d3f3",
           "#FF6692",
           "#B6E880",
           "#FF97FF",
           "#FECB52"
          ],
          "font": {
           "color": "#2a3f5f"
          },
          "geo": {
           "bgcolor": "white",
           "lakecolor": "white",
           "landcolor": "#E5ECF6",
           "showlakes": true,
           "showland": true,
           "subunitcolor": "white"
          },
          "hoverlabel": {
           "align": "left"
          },
          "hovermode": "closest",
          "mapbox": {
           "style": "light"
          },
          "paper_bgcolor": "white",
          "plot_bgcolor": "#E5ECF6",
          "polar": {
           "angularaxis": {
            "gridcolor": "white",
            "linecolor": "white",
            "ticks": ""
           },
           "bgcolor": "#E5ECF6",
           "radialaxis": {
            "gridcolor": "white",
            "linecolor": "white",
            "ticks": ""
           }
          },
          "scene": {
           "xaxis": {
            "backgroundcolor": "#E5ECF6",
            "gridcolor": "white",
            "gridwidth": 2,
            "linecolor": "white",
            "showbackground": true,
            "ticks": "",
            "zerolinecolor": "white"
           },
           "yaxis": {
            "backgroundcolor": "#E5ECF6",
            "gridcolor": "white",
            "gridwidth": 2,
            "linecolor": "white",
            "showbackground": true,
            "ticks": "",
            "zerolinecolor": "white"
           },
           "zaxis": {
            "backgroundcolor": "#E5ECF6",
            "gridcolor": "white",
            "gridwidth": 2,
            "linecolor": "white",
            "showbackground": true,
            "ticks": "",
            "zerolinecolor": "white"
           }
          },
          "shapedefaults": {
           "line": {
            "color": "#2a3f5f"
           }
          },
          "ternary": {
           "aaxis": {
            "gridcolor": "white",
            "linecolor": "white",
            "ticks": ""
           },
           "baxis": {
            "gridcolor": "white",
            "linecolor": "white",
            "ticks": ""
           },
           "bgcolor": "#E5ECF6",
           "caxis": {
            "gridcolor": "white",
            "linecolor": "white",
            "ticks": ""
           }
          },
          "title": {
           "x": 0.05
          },
          "xaxis": {
           "automargin": true,
           "gridcolor": "white",
           "linecolor": "white",
           "ticks": "",
           "title": {
            "standoff": 15
           },
           "zerolinecolor": "white",
           "zerolinewidth": 2
          },
          "yaxis": {
           "automargin": true,
           "gridcolor": "white",
           "linecolor": "white",
           "ticks": "",
           "title": {
            "standoff": 15
           },
           "zerolinecolor": "white",
           "zerolinewidth": 2
          }
         }
        },
        "title": {
         "text": "Quantidades de vendas "
        }
       }
      },
      "text/html": [
       "<div>                            <div id=\"677c86a1-a4e4-4ff5-9b35-42d9125bba1f\" class=\"plotly-graph-div\" style=\"height:525px; width:100%;\"></div>            <script type=\"text/javascript\">                require([\"plotly\"], function(Plotly) {                    window.PLOTLYENV=window.PLOTLYENV || {};                                    if (document.getElementById(\"677c86a1-a4e4-4ff5-9b35-42d9125bba1f\")) {                    Plotly.newPlot(                        \"677c86a1-a4e4-4ff5-9b35-42d9125bba1f\",                        [{\"domain\":{\"x\":[0.0,1.0],\"y\":[0.0,1.0]},\"hovertemplate\":\"VENDIDO=%{label}<extra></extra>\",\"labels\":[\"N\\u00c3O\",\"N\\u00c3O\",\"N\\u00c3O\",\"N\\u00c3O\",\"N\\u00c3O\",\"N\\u00c3O\",\"N\\u00c3O\",\"N\\u00c3O\",\"N\\u00c3O\",\"N\\u00c3O\",\"N\\u00c3O\",\"N\\u00c3O\",\"N\\u00c3O\",\"N\\u00c3O\",\"N\\u00c3O\",\"N\\u00c3O\",\"N\\u00c3O\",\"N\\u00c3O\",\"N\\u00c3O\",\"N\\u00c3O\",\"N\\u00c3O\",\"N\\u00c3O\",\"N\\u00c3O\",\"N\\u00c3O\",\"N\\u00c3O\",\"N\\u00c3O\",\"N\\u00c3O\",\"N\\u00c3O\",\"N\\u00c3O\",\"N\\u00c3O\",\"N\\u00c3O\",\"N\\u00c3O\",\"N\\u00c3O\",\"N\\u00c3O\",\"N\\u00c3O\",\"N\\u00c3O\",\"N\\u00c3O\",\"N\\u00c3O\",\"N\\u00c3O\",\"N\\u00c3O\",\"N\\u00c3O\",\"N\\u00c3O\",\"N\\u00c3O\",\"N\\u00c3O\",\"N\\u00c3O\",\"N\\u00c3O\",\"N\\u00c3O\",\"N\\u00c3O\",\"N\\u00c3O\",\"N\\u00c3O\",\"N\\u00c3O\",\"N\\u00c3O\",\"N\\u00c3O\",\"N\\u00c3O\",\"N\\u00c3O\",\"N\\u00c3O\",\"N\\u00c3O\",\"N\\u00c3O\",\"N\\u00c3O\",\"N\\u00c3O\",\"N\\u00c3O\",\"N\\u00c3O\",\"N\\u00c3O\",\"N\\u00c3O\",\"N\\u00c3O\",\"N\\u00c3O\",\"N\\u00c3O\",\"N\\u00c3O\",\"N\\u00c3O\",\"N\\u00c3O\",\"N\\u00c3O\",\"N\\u00c3O\",\"N\\u00c3O\",\"N\\u00c3O\",\"N\\u00c3O\",\"N\\u00c3O\",\"N\\u00c3O\",\"N\\u00c3O\",\"N\\u00c3O\",\"N\\u00c3O\",\"N\\u00c3O\",\"N\\u00c3O\",\"N\\u00c3O\",\"N\\u00c3O\",\"N\\u00c3O\",\"N\\u00c3O\",\"N\\u00c3O\",\"N\\u00c3O\",\"N\\u00c3O\",\"N\\u00c3O\",\"N\\u00c3O\",\"N\\u00c3O\",\"N\\u00c3O\",\"N\\u00c3O\",\"N\\u00c3O\",\"N\\u00c3O\",\"N\\u00c3O\",\"N\\u00c3O\",\"N\\u00c3O\",\"N\\u00c3O\",\"N\\u00c3O\",\"N\\u00c3O\",\"N\\u00c3O\",\"N\\u00c3O\",\"N\\u00c3O\",\"N\\u00c3O\",\"N\\u00c3O\",\"N\\u00c3O\",\"N\\u00c3O\",\"N\\u00c3O\",\"N\\u00c3O\",\"N\\u00c3O\",\"N\\u00c3O\",\"N\\u00c3O\",\"N\\u00c3O\",\"N\\u00c3O\",\"N\\u00c3O\",\"N\\u00c3O\",\"N\\u00c3O\",\"N\\u00c3O\",\"N\\u00c3O\",\"N\\u00c3O\",\"N\\u00c3O\",\"N\\u00c3O\",\"N\\u00c3O\",\"N\\u00c3O\",\"N\\u00c3O\",\"N\\u00c3O\",\"N\\u00c3O\",\"N\\u00c3O\",\"N\\u00c3O\",\"N\\u00c3O\",\"N\\u00c3O\",\"N\\u00c3O\",\"N\\u00c3O\",\"N\\u00c3O\",\"N\\u00c3O\",\"N\\u00c3O\",\"N\\u00c3O\",\"N\\u00c3O\",\"N\\u00c3O\",\"N\\u00c3O\",\"N\\u00c3O\",\"N\\u00c3O\",\"N\\u00c3O\",\"N\\u00c3O\",\"N\\u00c3O\",\"N\\u00c3O\",\"N\\u00c3O\",\"N\\u00c3O\",\"N\\u00c3O\",\"N\\u00c3O\",\"N\\u00c3O\",\"N\\u00c3O\",\"N\\u00c3O\",\"N\\u00c3O\",\"N\\u00c3O\",\"N\\u00c3O\",\"N\\u00c3O\",\"N\\u00c3O\",\"N\\u00c3O\",\"N\\u00c3O\",\"N\\u00c3O\",\"N\\u00c3O\",\"N\\u00c3O\",\"N\\u00c3O\",\"N\\u00c3O\",\"N\\u00c3O\",\"N\\u00c3O\",\"N\\u00c3O\",\"N\\u00c3O\",\"N\\u00c3O\",\"N\\u00c3O\",\"N\\u00c3O\",\"N\\u00c3O\",\"N\\u00c3O\",\"N\\u00c3O\",\"N\\u00c3O\",\"N\\u00c3O\",\"N\\u00c3O\",\"N\\u00c3O\",\"N\\u00c3O\",\"N\\u00c3O\",\"N\\u00c3O\",\"N\\u00c3O\",\"N\\u00c3O\",\"N\\u00c3O\",\"N\\u00c3O\",\"N\\u00c3O\",\"N\\u00c3O\",\"N\\u00c3O\",\"N\\u00c3O\",\"N\\u00c3O\",\"N\\u00c3O\",\"N\\u00c3O\",\"N\\u00c3O\",\"N\\u00c3O\",\"N\\u00c3O\",\"N\\u00c3O\",\"N\\u00c3O\",\"N\\u00c3O\",\"N\\u00c3O\",\"N\\u00c3O\",\"N\\u00c3O\",\"N\\u00c3O\",\"N\\u00c3O\",\"N\\u00c3O\",\"N\\u00c3O\",\"N\\u00c3O\",\"N\\u00c3O\",\"N\\u00c3O\",\"N\\u00c3O\",\"N\\u00c3O\",\"N\\u00c3O\",\"N\\u00c3O\",\"N\\u00c3O\",\"N\\u00c3O\",\"N\\u00c3O\",\"N\\u00c3O\",\"N\\u00c3O\",\"N\\u00c3O\",\"N\\u00c3O\",\"N\\u00c3O\",\"N\\u00c3O\",\"N\\u00c3O\",\"N\\u00c3O\",\"N\\u00c3O\",\"N\\u00c3O\",\"N\\u00c3O\",\"N\\u00c3O\",\"N\\u00c3O\",\"N\\u00c3O\",\"N\\u00c3O\",\"N\\u00c3O\",\"N\\u00c3O\",\"N\\u00c3O\",\"N\\u00c3O\",\"N\\u00c3O\",\"N\\u00c3O\",\"N\\u00c3O\",\"N\\u00c3O\",\"N\\u00c3O\",\"N\\u00c3O\",\"N\\u00c3O\",\"N\\u00c3O\",\"N\\u00c3O\",\"N\\u00c3O\",\"N\\u00c3O\",\"N\\u00c3O\",\"N\\u00c3O\",\"N\\u00c3O\",\"N\\u00c3O\",\"N\\u00c3O\",\"N\\u00c3O\",\"N\\u00c3O\",\"N\\u00c3O\",\"N\\u00c3O\",\"N\\u00c3O\",\"N\\u00c3O\",\"N\\u00c3O\",\"N\\u00c3O\",\"N\\u00c3O\",\"N\\u00c3O\",\"N\\u00c3O\",\"N\\u00c3O\",\"N\\u00c3O\",\"N\\u00c3O\",\"N\\u00c3O\",\"SIM\",\"SIM\",\"SIM\",\"SIM\",\"SIM\",\"SIM\",\"SIM\",\"SIM\",\"SIM\",\"N\\u00c3O\",\"SIM\",\"SIM\",\"SIM\",\"SIM\",\"SIM\",\"N\\u00c3O\",\"SIM\",\"SIM\",\"SIM\",\"SIM\",\"N\\u00c3O\",\"SIM\",\"SIM\",\"SIM\",\"SIM\",\"SIM\",\"SIM\",\"SIM\",\"SIM\",\"SIM\",\"SIM\",\"SIM\",\"SIM\",\"SIM\",\"SIM\",\"SIM\",\"N\\u00c3O\",\"SIM\",\"SIM\",\"SIM\",\"SIM\",\"SIM\",\"SIM\",\"SIM\",\"SIM\",\"SIM\",\"SIM\",\"SIM\",\"SIM\",\"SIM\",\"N\\u00c3O\",\"N\\u00c3O\",\"SIM\",\"SIM\",\"SIM\",\"SIM\",\"SIM\",\"SIM\",\"SIM\",\"SIM\",\"SIM\",\"SIM\",\"SIM\",\"SIM\",\"SIM\",\"SIM\",\"SIM\",\"SIM\",\"SIM\",\"SIM\",\"N\\u00c3O\",\"SIM\",\"SIM\",\"SIM\",\"SIM\",\"SIM\",\"SIM\",\"SIM\",\"SIM\",\"N\\u00c3O\",\"N\\u00c3O\",\"N\\u00c3O\",\"N\\u00c3O\",\"N\\u00c3O\",\"N\\u00c3O\",\"N\\u00c3O\",\"N\\u00c3O\",\"N\\u00c3O\",\"N\\u00c3O\",\"N\\u00c3O\",\"N\\u00c3O\",\"N\\u00c3O\",\"N\\u00c3O\",\"N\\u00c3O\",\"N\\u00c3O\",\"N\\u00c3O\",\"N\\u00c3O\",\"N\\u00c3O\",\"N\\u00c3O\",\"N\\u00c3O\",\"N\\u00c3O\",\"N\\u00c3O\",\"N\\u00c3O\",\"N\\u00c3O\",\"N\\u00c3O\",\"N\\u00c3O\",\"N\\u00c3O\",\"N\\u00c3O\",\"N\\u00c3O\",\"N\\u00c3O\",\"N\\u00c3O\",\"N\\u00c3O\",\"N\\u00c3O\",\"N\\u00c3O\",\"N\\u00c3O\",\"N\\u00c3O\",\"N\\u00c3O\",\"N\\u00c3O\",\"N\\u00c3O\",\"N\\u00c3O\",\"N\\u00c3O\",\"N\\u00c3O\",\"N\\u00c3O\",\"N\\u00c3O\",\"N\\u00c3O\",\"N\\u00c3O\",\"N\\u00c3O\",\"N\\u00c3O\",\"N\\u00c3O\",\"N\\u00c3O\",\"N\\u00c3O\",\"N\\u00c3O\",\"N\\u00c3O\",\"N\\u00c3O\",\"N\\u00c3O\",\"N\\u00c3O\",\"N\\u00c3O\",\"N\\u00c3O\",\"N\\u00c3O\",\"N\\u00c3O\",\"N\\u00c3O\",\"N\\u00c3O\",\"N\\u00c3O\",\"N\\u00c3O\",\"N\\u00c3O\",\"N\\u00c3O\",\"N\\u00c3O\",\"N\\u00c3O\",\"N\\u00c3O\",\"N\\u00c3O\",\"N\\u00c3O\",\"N\\u00c3O\",\"N\\u00c3O\",\"N\\u00c3O\",\"N\\u00c3O\",\"N\\u00c3O\",\"N\\u00c3O\",\"N\\u00c3O\",\"N\\u00c3O\",\"N\\u00c3O\",\"N\\u00c3O\",\"N\\u00c3O\",\"N\\u00c3O\",\"N\\u00c3O\",\"N\\u00c3O\",\"N\\u00c3O\",\"N\\u00c3O\",\"N\\u00c3O\",\"N\\u00c3O\",\"N\\u00c3O\",\"N\\u00c3O\",\"N\\u00c3O\",\"N\\u00c3O\",\"N\\u00c3O\",\"N\\u00c3O\",\"N\\u00c3O\",\"N\\u00c3O\",\"N\\u00c3O\",\"N\\u00c3O\",\"N\\u00c3O\",\"N\\u00c3O\",\"N\\u00c3O\",\"N\\u00c3O\",\"N\\u00c3O\",\"N\\u00c3O\",\"N\\u00c3O\",\"N\\u00c3O\",\"N\\u00c3O\",\"N\\u00c3O\",\"N\\u00c3O\",\"N\\u00c3O\",\"N\\u00c3O\",\"N\\u00c3O\",\"N\\u00c3O\",\"N\\u00c3O\",\"N\\u00c3O\",\"N\\u00c3O\",\"N\\u00c3O\",\"N\\u00c3O\",\"N\\u00c3O\",\"N\\u00c3O\",\"N\\u00c3O\",\"N\\u00c3O\",\"N\\u00c3O\",\"N\\u00c3O\",\"N\\u00c3O\",\"N\\u00c3O\",\"N\\u00c3O\",\"N\\u00c3O\",\"N\\u00c3O\",\"N\\u00c3O\",\"N\\u00c3O\",\"N\\u00c3O\",\"N\\u00c3O\",\"N\\u00c3O\",\"N\\u00c3O\",\"N\\u00c3O\",\"N\\u00c3O\",\"N\\u00c3O\",\"N\\u00c3O\",\"N\\u00c3O\",\"N\\u00c3O\",\"N\\u00c3O\",\"N\\u00c3O\",\"N\\u00c3O\",\"N\\u00c3O\",\"N\\u00c3O\",\"N\\u00c3O\",\"N\\u00c3O\",\"N\\u00c3O\",\"N\\u00c3O\",\"N\\u00c3O\",\"N\\u00c3O\",\"N\\u00c3O\",\"N\\u00c3O\",\"N\\u00c3O\",\"N\\u00c3O\",\"N\\u00c3O\",\"N\\u00c3O\",\"N\\u00c3O\",\"N\\u00c3O\",\"N\\u00c3O\",\"N\\u00c3O\",\"N\\u00c3O\",\"N\\u00c3O\",\"N\\u00c3O\",\"N\\u00c3O\",\"N\\u00c3O\",\"N\\u00c3O\",\"N\\u00c3O\",\"N\\u00c3O\",\"N\\u00c3O\",\"N\\u00c3O\",\"N\\u00c3O\",\"N\\u00c3O\",\"N\\u00c3O\",\"N\\u00c3O\",\"N\\u00c3O\",\"N\\u00c3O\",\"N\\u00c3O\",\"N\\u00c3O\",\"N\\u00c3O\",\"N\\u00c3O\",\"N\\u00c3O\",\"N\\u00c3O\",\"N\\u00c3O\",\"N\\u00c3O\",\"N\\u00c3O\",\"N\\u00c3O\",\"N\\u00c3O\",\"N\\u00c3O\",\"N\\u00c3O\",\"N\\u00c3O\",\"N\\u00c3O\",\"N\\u00c3O\",\"N\\u00c3O\",\"N\\u00c3O\",\"N\\u00c3O\",\"N\\u00c3O\",\"N\\u00c3O\",\"N\\u00c3O\",\"N\\u00c3O\",\"N\\u00c3O\",\"N\\u00c3O\",\"N\\u00c3O\",\"N\\u00c3O\",\"N\\u00c3O\",\"N\\u00c3O\",\"N\\u00c3O\",\"N\\u00c3O\",\"N\\u00c3O\",\"N\\u00c3O\",\"N\\u00c3O\",\"N\\u00c3O\",\"N\\u00c3O\",\"N\\u00c3O\",\"N\\u00c3O\",\"N\\u00c3O\",\"N\\u00c3O\",\"N\\u00c3O\",\"N\\u00c3O\",\"N\\u00c3O\",\"N\\u00c3O\",\"N\\u00c3O\",\"N\\u00c3O\",\"N\\u00c3O\",\"N\\u00c3O\",\"N\\u00c3O\",\"N\\u00c3O\",\"N\\u00c3O\",\"N\\u00c3O\",\"N\\u00c3O\",\"N\\u00c3O\",\"N\\u00c3O\",\"N\\u00c3O\",\"N\\u00c3O\",\"N\\u00c3O\",\"N\\u00c3O\",\"N\\u00c3O\",\"N\\u00c3O\",\"N\\u00c3O\",\"N\\u00c3O\",\"N\\u00c3O\",\"N\\u00c3O\",\"N\\u00c3O\",\"N\\u00c3O\",\"N\\u00c3O\",\"N\\u00c3O\",\"N\\u00c3O\",\"N\\u00c3O\",\"N\\u00c3O\",\"N\\u00c3O\",\"N\\u00c3O\",\"N\\u00c3O\",\"N\\u00c3O\",\"N\\u00c3O\",\"N\\u00c3O\",\"N\\u00c3O\",\"N\\u00c3O\",\"N\\u00c3O\",\"N\\u00c3O\",\"N\\u00c3O\",\"N\\u00c3O\",\"N\\u00c3O\",\"N\\u00c3O\",\"N\\u00c3O\",\"N\\u00c3O\",\"N\\u00c3O\",\"N\\u00c3O\",\"N\\u00c3O\",\"N\\u00c3O\",\"N\\u00c3O\",\"N\\u00c3O\",\"N\\u00c3O\",\"N\\u00c3O\",\"N\\u00c3O\",\"N\\u00c3O\",\"N\\u00c3O\",\"N\\u00c3O\",\"N\\u00c3O\",\"N\\u00c3O\",\"N\\u00c3O\",\"N\\u00c3O\",\"N\\u00c3O\",\"N\\u00c3O\",\"N\\u00c3O\",\"N\\u00c3O\",\"N\\u00c3O\",\"N\\u00c3O\",\"N\\u00c3O\",\"N\\u00c3O\",\"N\\u00c3O\",\"N\\u00c3O\",\"N\\u00c3O\",\"N\\u00c3O\",\"N\\u00c3O\",\"N\\u00c3O\",\"N\\u00c3O\",\"N\\u00c3O\",\"N\\u00c3O\",\"N\\u00c3O\",\"N\\u00c3O\",\"N\\u00c3O\",\"N\\u00c3O\",\"N\\u00c3O\",\"N\\u00c3O\",\"N\\u00c3O\",\"N\\u00c3O\",\"N\\u00c3O\",\"N\\u00c3O\",\"N\\u00c3O\",\"N\\u00c3O\",\"N\\u00c3O\",\"N\\u00c3O\",\"N\\u00c3O\",\"N\\u00c3O\",\"N\\u00c3O\",\"N\\u00c3O\",\"N\\u00c3O\",\"N\\u00c3O\",\"N\\u00c3O\",\"N\\u00c3O\",\"N\\u00c3O\",\"N\\u00c3O\",\"N\\u00c3O\",\"N\\u00c3O\",\"N\\u00c3O\",\"N\\u00c3O\",\"N\\u00c3O\",\"N\\u00c3O\",\"N\\u00c3O\",\"N\\u00c3O\",\"N\\u00c3O\",\"N\\u00c3O\",\"N\\u00c3O\",\"N\\u00c3O\",\"N\\u00c3O\",\"N\\u00c3O\",\"N\\u00c3O\",\"N\\u00c3O\",\"N\\u00c3O\",\"N\\u00c3O\",\"N\\u00c3O\",\"N\\u00c3O\",\"N\\u00c3O\",\"N\\u00c3O\",\"N\\u00c3O\",\"N\\u00c3O\",\"N\\u00c3O\",\"N\\u00c3O\",\"N\\u00c3O\",\"N\\u00c3O\",\"N\\u00c3O\",\"N\\u00c3O\",\"N\\u00c3O\",\"N\\u00c3O\",\"N\\u00c3O\",\"N\\u00c3O\",\"N\\u00c3O\",\"N\\u00c3O\",\"N\\u00c3O\",\"N\\u00c3O\",\"N\\u00c3O\",\"N\\u00c3O\",\"N\\u00c3O\",\"N\\u00c3O\",\"N\\u00c3O\",\"N\\u00c3O\",\"N\\u00c3O\",\"N\\u00c3O\",\"N\\u00c3O\",\"N\\u00c3O\",\"N\\u00c3O\",\"N\\u00c3O\",\"N\\u00c3O\",\"N\\u00c3O\",\"N\\u00c3O\",\"N\\u00c3O\",\"N\\u00c3O\",\"N\\u00c3O\",\"N\\u00c3O\",\"N\\u00c3O\",\"N\\u00c3O\",\"N\\u00c3O\",\"N\\u00c3O\",\"N\\u00c3O\",\"N\\u00c3O\",\"N\\u00c3O\",\"N\\u00c3O\",\"N\\u00c3O\",\"N\\u00c3O\",\"N\\u00c3O\",\"N\\u00c3O\",\"N\\u00c3O\",\"N\\u00c3O\",\"N\\u00c3O\",\"N\\u00c3O\",\"N\\u00c3O\",\"N\\u00c3O\",\"N\\u00c3O\",\"N\\u00c3O\",\"N\\u00c3O\",\"N\\u00c3O\",\"N\\u00c3O\",\"N\\u00c3O\",\"N\\u00c3O\",\"N\\u00c3O\",\"N\\u00c3O\",\"N\\u00c3O\",\"N\\u00c3O\",\"N\\u00c3O\",\"N\\u00c3O\",\"N\\u00c3O\",\"N\\u00c3O\",\"N\\u00c3O\",\"N\\u00c3O\",\"N\\u00c3O\",\"N\\u00c3O\",\"N\\u00c3O\",\"N\\u00c3O\",\"N\\u00c3O\",\"N\\u00c3O\",\"N\\u00c3O\",\"N\\u00c3O\",\"N\\u00c3O\",\"N\\u00c3O\",\"N\\u00c3O\",\"N\\u00c3O\",\"N\\u00c3O\",\"N\\u00c3O\",\"N\\u00c3O\",\"N\\u00c3O\",\"N\\u00c3O\",\"N\\u00c3O\",\"N\\u00c3O\",\"N\\u00c3O\",\"N\\u00c3O\",\"N\\u00c3O\",\"N\\u00c3O\",\"N\\u00c3O\",\"N\\u00c3O\",\"N\\u00c3O\",\"N\\u00c3O\",\"N\\u00c3O\",\"N\\u00c3O\",\"N\\u00c3O\",\"N\\u00c3O\",\"N\\u00c3O\",\"N\\u00c3O\",\"N\\u00c3O\",\"N\\u00c3O\",\"N\\u00c3O\",\"N\\u00c3O\",\"N\\u00c3O\",\"N\\u00c3O\",\"N\\u00c3O\",\"N\\u00c3O\",\"N\\u00c3O\",\"N\\u00c3O\",\"N\\u00c3O\",\"N\\u00c3O\",\"N\\u00c3O\",\"N\\u00c3O\",\"N\\u00c3O\",\"N\\u00c3O\",\"N\\u00c3O\",\"N\\u00c3O\",\"N\\u00c3O\",\"N\\u00c3O\",\"N\\u00c3O\",\"N\\u00c3O\",\"N\\u00c3O\",\"N\\u00c3O\",\"N\\u00c3O\",\"N\\u00c3O\",\"N\\u00c3O\",\"N\\u00c3O\",\"N\\u00c3O\",\"N\\u00c3O\",\"N\\u00c3O\",\"N\\u00c3O\",\"N\\u00c3O\",\"N\\u00c3O\",\"N\\u00c3O\",\"N\\u00c3O\",\"N\\u00c3O\",\"N\\u00c3O\",\"N\\u00c3O\",\"N\\u00c3O\",\"N\\u00c3O\",\"N\\u00c3O\",\"N\\u00c3O\",\"N\\u00c3O\",\"N\\u00c3O\",\"N\\u00c3O\",\"N\\u00c3O\",\"N\\u00c3O\",\"N\\u00c3O\",\"N\\u00c3O\",\"N\\u00c3O\",\"N\\u00c3O\",\"N\\u00c3O\",\"N\\u00c3O\",\"N\\u00c3O\",\"N\\u00c3O\",\"N\\u00c3O\",\"N\\u00c3O\",\"N\\u00c3O\",\"N\\u00c3O\",\"N\\u00c3O\",\"N\\u00c3O\",\"N\\u00c3O\",\"N\\u00c3O\",\"N\\u00c3O\",\"N\\u00c3O\",\"N\\u00c3O\",\"N\\u00c3O\",\"N\\u00c3O\",\"N\\u00c3O\",\"N\\u00c3O\",\"N\\u00c3O\",\"N\\u00c3O\",\"N\\u00c3O\",\"N\\u00c3O\",\"N\\u00c3O\",\"N\\u00c3O\",\"N\\u00c3O\",\"N\\u00c3O\",\"N\\u00c3O\",\"N\\u00c3O\",\"N\\u00c3O\",\"N\\u00c3O\",\"N\\u00c3O\",\"N\\u00c3O\",\"N\\u00c3O\",\"N\\u00c3O\",\"N\\u00c3O\",\"N\\u00c3O\",\"N\\u00c3O\",\"N\\u00c3O\",\"N\\u00c3O\",\"N\\u00c3O\",\"N\\u00c3O\",\"N\\u00c3O\",\"N\\u00c3O\",\"N\\u00c3O\",\"N\\u00c3O\",\"N\\u00c3O\",\"N\\u00c3O\",\"N\\u00c3O\",\"N\\u00c3O\",\"N\\u00c3O\",\"N\\u00c3O\",\"N\\u00c3O\",\"N\\u00c3O\",\"N\\u00c3O\",\"N\\u00c3O\",\"N\\u00c3O\",\"N\\u00c3O\",\"N\\u00c3O\",\"N\\u00c3O\",\"N\\u00c3O\",\"N\\u00c3O\",\"N\\u00c3O\",\"N\\u00c3O\",\"N\\u00c3O\",\"N\\u00c3O\",\"N\\u00c3O\",\"N\\u00c3O\",\"N\\u00c3O\",\"N\\u00c3O\",\"N\\u00c3O\",\"N\\u00c3O\",\"N\\u00c3O\",\"N\\u00c3O\",\"N\\u00c3O\",\"N\\u00c3O\",\"N\\u00c3O\",\"N\\u00c3O\",\"N\\u00c3O\",\"N\\u00c3O\",\"N\\u00c3O\",\"N\\u00c3O\",\"N\\u00c3O\",\"N\\u00c3O\",\"N\\u00c3O\",\"N\\u00c3O\",\"N\\u00c3O\",\"N\\u00c3O\",\"N\\u00c3O\",\"N\\u00c3O\",\"N\\u00c3O\",\"N\\u00c3O\",\"N\\u00c3O\",\"N\\u00c3O\",\"N\\u00c3O\",\"N\\u00c3O\",\"N\\u00c3O\",\"N\\u00c3O\",\"N\\u00c3O\",\"N\\u00c3O\",\"N\\u00c3O\",\"N\\u00c3O\",\"N\\u00c3O\",\"N\\u00c3O\",\"N\\u00c3O\",\"N\\u00c3O\",\"N\\u00c3O\",\"N\\u00c3O\",\"N\\u00c3O\",\"N\\u00c3O\",\"N\\u00c3O\",\"N\\u00c3O\",\"N\\u00c3O\",\"N\\u00c3O\",\"N\\u00c3O\",\"N\\u00c3O\",\"N\\u00c3O\",\"N\\u00c3O\",\"N\\u00c3O\",\"N\\u00c3O\",\"N\\u00c3O\",\"N\\u00c3O\",\"N\\u00c3O\",\"N\\u00c3O\",\"N\\u00c3O\",\"N\\u00c3O\",\"N\\u00c3O\",\"N\\u00c3O\",\"N\\u00c3O\",\"N\\u00c3O\",\"N\\u00c3O\",\"N\\u00c3O\",\"N\\u00c3O\",\"N\\u00c3O\",\"N\\u00c3O\",\"N\\u00c3O\",\"N\\u00c3O\",\"N\\u00c3O\",\"N\\u00c3O\",\"N\\u00c3O\",\"N\\u00c3O\",\"N\\u00c3O\",\"N\\u00c3O\",\"N\\u00c3O\",\"N\\u00c3O\",\"N\\u00c3O\",\"N\\u00c3O\",\"N\\u00c3O\",\"N\\u00c3O\",\"N\\u00c3O\",\"N\\u00c3O\",\"N\\u00c3O\",\"N\\u00c3O\",\"N\\u00c3O\",\"N\\u00c3O\",\"N\\u00c3O\",\"N\\u00c3O\",\"N\\u00c3O\",\"N\\u00c3O\",\"N\\u00c3O\",\"N\\u00c3O\",\"N\\u00c3O\",\"N\\u00c3O\",\"N\\u00c3O\",\"N\\u00c3O\",\"N\\u00c3O\",\"N\\u00c3O\",\"N\\u00c3O\",\"N\\u00c3O\",\"N\\u00c3O\",\"N\\u00c3O\",\"N\\u00c3O\",\"N\\u00c3O\",\"N\\u00c3O\",\"N\\u00c3O\",\"N\\u00c3O\",\"N\\u00c3O\",\"N\\u00c3O\",\"N\\u00c3O\",\"N\\u00c3O\",\"N\\u00c3O\",\"N\\u00c3O\",\"N\\u00c3O\",\"N\\u00c3O\",\"N\\u00c3O\",\"N\\u00c3O\",\"N\\u00c3O\",\"N\\u00c3O\",\"N\\u00c3O\",\"N\\u00c3O\",\"N\\u00c3O\",\"N\\u00c3O\",\"N\\u00c3O\",\"N\\u00c3O\",\"N\\u00c3O\",\"N\\u00c3O\",\"N\\u00c3O\",\"N\\u00c3O\",\"N\\u00c3O\",\"N\\u00c3O\",\"N\\u00c3O\",\"N\\u00c3O\",\"N\\u00c3O\",\"N\\u00c3O\",\"N\\u00c3O\",\"N\\u00c3O\",\"N\\u00c3O\",\"N\\u00c3O\",\"N\\u00c3O\",\"N\\u00c3O\",\"N\\u00c3O\",\"N\\u00c3O\",\"N\\u00c3O\",\"N\\u00c3O\",\"N\\u00c3O\",\"N\\u00c3O\",\"N\\u00c3O\",\"N\\u00c3O\",\"N\\u00c3O\",\"N\\u00c3O\",\"N\\u00c3O\",\"N\\u00c3O\",\"N\\u00c3O\",\"N\\u00c3O\",\"N\\u00c3O\",\"N\\u00c3O\",\"N\\u00c3O\",\"N\\u00c3O\",\"N\\u00c3O\",\"N\\u00c3O\",\"N\\u00c3O\",\"N\\u00c3O\",\"N\\u00c3O\",\"N\\u00c3O\",\"N\\u00c3O\",\"N\\u00c3O\",\"N\\u00c3O\",\"N\\u00c3O\",\"N\\u00c3O\",\"N\\u00c3O\",\"N\\u00c3O\",\"N\\u00c3O\",\"N\\u00c3O\",\"N\\u00c3O\",\"N\\u00c3O\",\"N\\u00c3O\",\"N\\u00c3O\",\"N\\u00c3O\",\"N\\u00c3O\",\"N\\u00c3O\",\"N\\u00c3O\",\"N\\u00c3O\",\"N\\u00c3O\",\"N\\u00c3O\",\"N\\u00c3O\",\"N\\u00c3O\",\"N\\u00c3O\",\"N\\u00c3O\",\"N\\u00c3O\",\"N\\u00c3O\",\"N\\u00c3O\",\"N\\u00c3O\",\"N\\u00c3O\",\"N\\u00c3O\",\"N\\u00c3O\",\"N\\u00c3O\",\"N\\u00c3O\",\"N\\u00c3O\",\"N\\u00c3O\",\"N\\u00c3O\",\"N\\u00c3O\",\"N\\u00c3O\",\"N\\u00c3O\",\"N\\u00c3O\",\"N\\u00c3O\",\"N\\u00c3O\",\"N\\u00c3O\",\"N\\u00c3O\",\"N\\u00c3O\",\"N\\u00c3O\",\"N\\u00c3O\",\"N\\u00c3O\",\"N\\u00c3O\",\"N\\u00c3O\",\"N\\u00c3O\",\"N\\u00c3O\",\"N\\u00c3O\",\"N\\u00c3O\",\"N\\u00c3O\",\"N\\u00c3O\",\"N\\u00c3O\",\"N\\u00c3O\",\"N\\u00c3O\",\"N\\u00c3O\",\"N\\u00c3O\",\"N\\u00c3O\",\"N\\u00c3O\",\"N\\u00c3O\",\"N\\u00c3O\",\"N\\u00c3O\",\"N\\u00c3O\",\"N\\u00c3O\",\"N\\u00c3O\",\"N\\u00c3O\",\"N\\u00c3O\",\"N\\u00c3O\",\"N\\u00c3O\",\"N\\u00c3O\",\"N\\u00c3O\",\"N\\u00c3O\",\"N\\u00c3O\",\"N\\u00c3O\",\"N\\u00c3O\",\"N\\u00c3O\",\"N\\u00c3O\",\"N\\u00c3O\",\"N\\u00c3O\",\"N\\u00c3O\",\"N\\u00c3O\",\"N\\u00c3O\",\"N\\u00c3O\",\"N\\u00c3O\",\"N\\u00c3O\",\"N\\u00c3O\",\"N\\u00c3O\",\"N\\u00c3O\",\"N\\u00c3O\",\"N\\u00c3O\",\"N\\u00c3O\",\"N\\u00c3O\",\"N\\u00c3O\",\"N\\u00c3O\",\"N\\u00c3O\",\"N\\u00c3O\",\"N\\u00c3O\",\"N\\u00c3O\",\"N\\u00c3O\",\"N\\u00c3O\",\"N\\u00c3O\",\"N\\u00c3O\",\"N\\u00c3O\",\"N\\u00c3O\",\"N\\u00c3O\",\"N\\u00c3O\",\"N\\u00c3O\",\"N\\u00c3O\",\"N\\u00c3O\",\"N\\u00c3O\",\"N\\u00c3O\",\"N\\u00c3O\",\"N\\u00c3O\",\"N\\u00c3O\",\"N\\u00c3O\",\"N\\u00c3O\",\"N\\u00c3O\",\"N\\u00c3O\",\"N\\u00c3O\",\"N\\u00c3O\",\"N\\u00c3O\",\"N\\u00c3O\",\"N\\u00c3O\",\"N\\u00c3O\",\"N\\u00c3O\",\"N\\u00c3O\",\"N\\u00c3O\",\"N\\u00c3O\",\"N\\u00c3O\",\"N\\u00c3O\",\"N\\u00c3O\",\"N\\u00c3O\",\"N\\u00c3O\",\"N\\u00c3O\",\"N\\u00c3O\",\"N\\u00c3O\",\"N\\u00c3O\",\"N\\u00c3O\",\"N\\u00c3O\",\"N\\u00c3O\",\"N\\u00c3O\",\"N\\u00c3O\",\"N\\u00c3O\",\"N\\u00c3O\",\"N\\u00c3O\",\"N\\u00c3O\",\"N\\u00c3O\",\"N\\u00c3O\",\"N\\u00c3O\",\"N\\u00c3O\",\"N\\u00c3O\",\"N\\u00c3O\",\"N\\u00c3O\",\"N\\u00c3O\",\"N\\u00c3O\",\"N\\u00c3O\",\"N\\u00c3O\",\"N\\u00c3O\",\"N\\u00c3O\",\"N\\u00c3O\",\"N\\u00c3O\",\"N\\u00c3O\",\"N\\u00c3O\",\"N\\u00c3O\",\"N\\u00c3O\",\"N\\u00c3O\",\"N\\u00c3O\",\"N\\u00c3O\",\"N\\u00c3O\",\"N\\u00c3O\",\"N\\u00c3O\",\"N\\u00c3O\",\"N\\u00c3O\",\"N\\u00c3O\",\"N\\u00c3O\",\"N\\u00c3O\",\"N\\u00c3O\",\"N\\u00c3O\",\"N\\u00c3O\",\"N\\u00c3O\",\"N\\u00c3O\",\"N\\u00c3O\",\"N\\u00c3O\",\"N\\u00c3O\",\"N\\u00c3O\",\"N\\u00c3O\",\"N\\u00c3O\",\"N\\u00c3O\",\"N\\u00c3O\",\"N\\u00c3O\",\"N\\u00c3O\",\"N\\u00c3O\",\"N\\u00c3O\",\"N\\u00c3O\",\"N\\u00c3O\",\"N\\u00c3O\",\"N\\u00c3O\",\"N\\u00c3O\",\"N\\u00c3O\",\"N\\u00c3O\",\"N\\u00c3O\",\"N\\u00c3O\",\"N\\u00c3O\",\"N\\u00c3O\",\"N\\u00c3O\",\"N\\u00c3O\",\"N\\u00c3O\",\"N\\u00c3O\",\"N\\u00c3O\",\"N\\u00c3O\",\"N\\u00c3O\",\"N\\u00c3O\",\"N\\u00c3O\",\"N\\u00c3O\",\"N\\u00c3O\",\"N\\u00c3O\",\"N\\u00c3O\",\"N\\u00c3O\",\"N\\u00c3O\",\"N\\u00c3O\",\"N\\u00c3O\",\"N\\u00c3O\",\"N\\u00c3O\",\"N\\u00c3O\",\"N\\u00c3O\",\"N\\u00c3O\",\"N\\u00c3O\",\"N\\u00c3O\",\"N\\u00c3O\",\"N\\u00c3O\",\"N\\u00c3O\",\"N\\u00c3O\",\"N\\u00c3O\",\"N\\u00c3O\",\"N\\u00c3O\",\"N\\u00c3O\",\"N\\u00c3O\",\"N\\u00c3O\",\"N\\u00c3O\",\"N\\u00c3O\",\"N\\u00c3O\",\"N\\u00c3O\",\"N\\u00c3O\",\"N\\u00c3O\",\"N\\u00c3O\",\"N\\u00c3O\",\"N\\u00c3O\",\"N\\u00c3O\",\"N\\u00c3O\",\"N\\u00c3O\",\"N\\u00c3O\",\"N\\u00c3O\",\"N\\u00c3O\",\"N\\u00c3O\",\"N\\u00c3O\",\"N\\u00c3O\",\"N\\u00c3O\",\"N\\u00c3O\",\"N\\u00c3O\",\"N\\u00c3O\",\"N\\u00c3O\",\"N\\u00c3O\",\"N\\u00c3O\",\"N\\u00c3O\",\"N\\u00c3O\",\"N\\u00c3O\",\"N\\u00c3O\",\"N\\u00c3O\",\"N\\u00c3O\",\"N\\u00c3O\",\"N\\u00c3O\",\"N\\u00c3O\",\"N\\u00c3O\",\"N\\u00c3O\",\"N\\u00c3O\",\"N\\u00c3O\",\"N\\u00c3O\",\"N\\u00c3O\",\"N\\u00c3O\",\"N\\u00c3O\",\"N\\u00c3O\",\"N\\u00c3O\",\"N\\u00c3O\",\"N\\u00c3O\",\"N\\u00c3O\",\"N\\u00c3O\",\"N\\u00c3O\",\"N\\u00c3O\",\"N\\u00c3O\",\"N\\u00c3O\",\"N\\u00c3O\",\"N\\u00c3O\",\"N\\u00c3O\",\"N\\u00c3O\",\"N\\u00c3O\",\"N\\u00c3O\",\"N\\u00c3O\",\"N\\u00c3O\",\"N\\u00c3O\",\"N\\u00c3O\",\"N\\u00c3O\",\"N\\u00c3O\",\"N\\u00c3O\",\"N\\u00c3O\",\"N\\u00c3O\",\"N\\u00c3O\",\"N\\u00c3O\",\"N\\u00c3O\",\"N\\u00c3O\",\"N\\u00c3O\",\"N\\u00c3O\",\"N\\u00c3O\",\"N\\u00c3O\",\"N\\u00c3O\",\"N\\u00c3O\",\"N\\u00c3O\",\"N\\u00c3O\",\"N\\u00c3O\",\"N\\u00c3O\",\"N\\u00c3O\",\"N\\u00c3O\",\"N\\u00c3O\",\"N\\u00c3O\",\"N\\u00c3O\",\"N\\u00c3O\",\"N\\u00c3O\",\"N\\u00c3O\",\"N\\u00c3O\",\"N\\u00c3O\",\"N\\u00c3O\",\"N\\u00c3O\",\"N\\u00c3O\",\"N\\u00c3O\",\"N\\u00c3O\",\"N\\u00c3O\",\"N\\u00c3O\",\"N\\u00c3O\",\"N\\u00c3O\",\"N\\u00c3O\",\"N\\u00c3O\",\"N\\u00c3O\",\"N\\u00c3O\",\"N\\u00c3O\",\"N\\u00c3O\",\"N\\u00c3O\",\"N\\u00c3O\",\"N\\u00c3O\",\"N\\u00c3O\",\"N\\u00c3O\",\"N\\u00c3O\",\"N\\u00c3O\",\"N\\u00c3O\",\"N\\u00c3O\",\"N\\u00c3O\",\"N\\u00c3O\",\"N\\u00c3O\",\"N\\u00c3O\",\"N\\u00c3O\",\"N\\u00c3O\",\"N\\u00c3O\",\"N\\u00c3O\",\"N\\u00c3O\",\"N\\u00c3O\",\"N\\u00c3O\",\"N\\u00c3O\",\"N\\u00c3O\",\"N\\u00c3O\",\"N\\u00c3O\",\"N\\u00c3O\",\"N\\u00c3O\",\"N\\u00c3O\",\"N\\u00c3O\",\"N\\u00c3O\",\"N\\u00c3O\",\"N\\u00c3O\",\"N\\u00c3O\",\"N\\u00c3O\",\"N\\u00c3O\",\"N\\u00c3O\",\"N\\u00c3O\",\"N\\u00c3O\",\"N\\u00c3O\",\"N\\u00c3O\",\"N\\u00c3O\",\"N\\u00c3O\",\"N\\u00c3O\",\"N\\u00c3O\",\"N\\u00c3O\",\"N\\u00c3O\",\"N\\u00c3O\",\"N\\u00c3O\",\"N\\u00c3O\",\"N\\u00c3O\",\"N\\u00c3O\",\"N\\u00c3O\",\"N\\u00c3O\",\"N\\u00c3O\",\"N\\u00c3O\",\"N\\u00c3O\",\"N\\u00c3O\",\"N\\u00c3O\",\"N\\u00c3O\",\"N\\u00c3O\",\"N\\u00c3O\",\"N\\u00c3O\",\"N\\u00c3O\",\"N\\u00c3O\",\"N\\u00c3O\",\"N\\u00c3O\",\"N\\u00c3O\",\"N\\u00c3O\",\"N\\u00c3O\",\"N\\u00c3O\",\"N\\u00c3O\",\"N\\u00c3O\",\"N\\u00c3O\",\"N\\u00c3O\",\"N\\u00c3O\",\"N\\u00c3O\",\"N\\u00c3O\",\"N\\u00c3O\",\"N\\u00c3O\",\"N\\u00c3O\",\"N\\u00c3O\",\"N\\u00c3O\",\"N\\u00c3O\",\"N\\u00c3O\",\"N\\u00c3O\",\"N\\u00c3O\",\"N\\u00c3O\",\"N\\u00c3O\",\"N\\u00c3O\",\"N\\u00c3O\",\"N\\u00c3O\",\"N\\u00c3O\",\"N\\u00c3O\",\"N\\u00c3O\",\"N\\u00c3O\",\"N\\u00c3O\",\"N\\u00c3O\",\"N\\u00c3O\",\"N\\u00c3O\",\"N\\u00c3O\",\"N\\u00c3O\",\"N\\u00c3O\",\"N\\u00c3O\",\"N\\u00c3O\",\"N\\u00c3O\",\"N\\u00c3O\",\"N\\u00c3O\",\"N\\u00c3O\",\"N\\u00c3O\",\"N\\u00c3O\",\"N\\u00c3O\",\"N\\u00c3O\",\"N\\u00c3O\",\"N\\u00c3O\",\"N\\u00c3O\",\"N\\u00c3O\",\"N\\u00c3O\",\"N\\u00c3O\",\"N\\u00c3O\",\"N\\u00c3O\",\"N\\u00c3O\",\"N\\u00c3O\",\"N\\u00c3O\",\"N\\u00c3O\",\"N\\u00c3O\",\"N\\u00c3O\",\"N\\u00c3O\",\"N\\u00c3O\",\"N\\u00c3O\",\"N\\u00c3O\",\"N\\u00c3O\",\"N\\u00c3O\",\"N\\u00c3O\",\"N\\u00c3O\",\"N\\u00c3O\",\"N\\u00c3O\",\"N\\u00c3O\",\"N\\u00c3O\",\"N\\u00c3O\",\"N\\u00c3O\",\"N\\u00c3O\",\"N\\u00c3O\",\"N\\u00c3O\",\"N\\u00c3O\",\"N\\u00c3O\",\"N\\u00c3O\",\"N\\u00c3O\",\"N\\u00c3O\",\"N\\u00c3O\",\"N\\u00c3O\",\"N\\u00c3O\",\"N\\u00c3O\",\"N\\u00c3O\",\"N\\u00c3O\",\"N\\u00c3O\",\"N\\u00c3O\",\"N\\u00c3O\",\"N\\u00c3O\",\"N\\u00c3O\",\"N\\u00c3O\",\"N\\u00c3O\",\"N\\u00c3O\",\"N\\u00c3O\",\"N\\u00c3O\",\"N\\u00c3O\",\"N\\u00c3O\",\"N\\u00c3O\",\"N\\u00c3O\",\"N\\u00c3O\",\"N\\u00c3O\",\"N\\u00c3O\",\"N\\u00c3O\",\"N\\u00c3O\",\"N\\u00c3O\",\"N\\u00c3O\",\"N\\u00c3O\",\"N\\u00c3O\",\"N\\u00c3O\",\"N\\u00c3O\",\"N\\u00c3O\",\"N\\u00c3O\",\"N\\u00c3O\",\"N\\u00c3O\",\"N\\u00c3O\",\"N\\u00c3O\",\"N\\u00c3O\",\"N\\u00c3O\",\"N\\u00c3O\",\"N\\u00c3O\",\"N\\u00c3O\",\"N\\u00c3O\",\"N\\u00c3O\",\"N\\u00c3O\",\"N\\u00c3O\",\"N\\u00c3O\",\"N\\u00c3O\",\"N\\u00c3O\",\"N\\u00c3O\",\"N\\u00c3O\",\"N\\u00c3O\",\"N\\u00c3O\",\"N\\u00c3O\",\"N\\u00c3O\",\"N\\u00c3O\",\"N\\u00c3O\",\"N\\u00c3O\",\"N\\u00c3O\",\"N\\u00c3O\",\"N\\u00c3O\",\"N\\u00c3O\",\"N\\u00c3O\",\"N\\u00c3O\",\"N\\u00c3O\",\"N\\u00c3O\",\"N\\u00c3O\",\"N\\u00c3O\",\"N\\u00c3O\",\"N\\u00c3O\",\"N\\u00c3O\",\"N\\u00c3O\",\"N\\u00c3O\",\"N\\u00c3O\",\"N\\u00c3O\",\"N\\u00c3O\",\"N\\u00c3O\",\"N\\u00c3O\",\"N\\u00c3O\",\"N\\u00c3O\",\"N\\u00c3O\",\"N\\u00c3O\",\"N\\u00c3O\",\"N\\u00c3O\",\"N\\u00c3O\",\"N\\u00c3O\",\"N\\u00c3O\",\"N\\u00c3O\",\"N\\u00c3O\",\"N\\u00c3O\",\"N\\u00c3O\",\"N\\u00c3O\",\"N\\u00c3O\",\"N\\u00c3O\",\"N\\u00c3O\",\"N\\u00c3O\",\"N\\u00c3O\",\"N\\u00c3O\",\"N\\u00c3O\",\"N\\u00c3O\",\"N\\u00c3O\",\"N\\u00c3O\",\"N\\u00c3O\",\"N\\u00c3O\",\"N\\u00c3O\",\"N\\u00c3O\",\"N\\u00c3O\",\"N\\u00c3O\",\"N\\u00c3O\",\"N\\u00c3O\",\"N\\u00c3O\",\"N\\u00c3O\",\"N\\u00c3O\",\"N\\u00c3O\",\"N\\u00c3O\",\"N\\u00c3O\",\"N\\u00c3O\",\"N\\u00c3O\",\"N\\u00c3O\",\"N\\u00c3O\",\"N\\u00c3O\",\"N\\u00c3O\",\"N\\u00c3O\",\"N\\u00c3O\",\"N\\u00c3O\",\"N\\u00c3O\",\"N\\u00c3O\",\"N\\u00c3O\",\"N\\u00c3O\",\"N\\u00c3O\",\"N\\u00c3O\",\"N\\u00c3O\",\"N\\u00c3O\",\"N\\u00c3O\",\"N\\u00c3O\",\"N\\u00c3O\",\"N\\u00c3O\",\"N\\u00c3O\",\"N\\u00c3O\",\"N\\u00c3O\",\"N\\u00c3O\",\"N\\u00c3O\",\"N\\u00c3O\",\"N\\u00c3O\",\"N\\u00c3O\",\"N\\u00c3O\",\"N\\u00c3O\",\"N\\u00c3O\",\"N\\u00c3O\",\"N\\u00c3O\",\"N\\u00c3O\",\"N\\u00c3O\",\"N\\u00c3O\",\"N\\u00c3O\",\"N\\u00c3O\",\"N\\u00c3O\",\"N\\u00c3O\",\"N\\u00c3O\",\"N\\u00c3O\",\"N\\u00c3O\",\"N\\u00c3O\",\"N\\u00c3O\",\"N\\u00c3O\",\"N\\u00c3O\",\"N\\u00c3O\",\"N\\u00c3O\",\"N\\u00c3O\",\"N\\u00c3O\",\"N\\u00c3O\",\"N\\u00c3O\",\"N\\u00c3O\",\"N\\u00c3O\",\"N\\u00c3O\",\"N\\u00c3O\",\"N\\u00c3O\",\"N\\u00c3O\",\"N\\u00c3O\",\"N\\u00c3O\",\"N\\u00c3O\",\"N\\u00c3O\",\"N\\u00c3O\",\"N\\u00c3O\",\"N\\u00c3O\",\"N\\u00c3O\",\"N\\u00c3O\",\"N\\u00c3O\",\"N\\u00c3O\",\"N\\u00c3O\",\"N\\u00c3O\",\"N\\u00c3O\",\"N\\u00c3O\",\"N\\u00c3O\",\"N\\u00c3O\",\"N\\u00c3O\",\"N\\u00c3O\",\"N\\u00c3O\",\"N\\u00c3O\",\"N\\u00c3O\",\"N\\u00c3O\",\"N\\u00c3O\",\"N\\u00c3O\",\"N\\u00c3O\",\"N\\u00c3O\",\"N\\u00c3O\",\"N\\u00c3O\",\"N\\u00c3O\",\"N\\u00c3O\",\"N\\u00c3O\",\"N\\u00c3O\",\"N\\u00c3O\",\"N\\u00c3O\",\"N\\u00c3O\",\"N\\u00c3O\",\"N\\u00c3O\",\"N\\u00c3O\",\"N\\u00c3O\",\"N\\u00c3O\",\"N\\u00c3O\",\"N\\u00c3O\",\"N\\u00c3O\",\"N\\u00c3O\",\"N\\u00c3O\",\"N\\u00c3O\",\"N\\u00c3O\",\"N\\u00c3O\",\"N\\u00c3O\",\"N\\u00c3O\",\"N\\u00c3O\",\"N\\u00c3O\",\"N\\u00c3O\",\"N\\u00c3O\",\"N\\u00c3O\",\"N\\u00c3O\",\"N\\u00c3O\",\"N\\u00c3O\",\"N\\u00c3O\",\"N\\u00c3O\",\"N\\u00c3O\",\"N\\u00c3O\",\"N\\u00c3O\",\"N\\u00c3O\",\"N\\u00c3O\",\"N\\u00c3O\",\"N\\u00c3O\",\"N\\u00c3O\",\"N\\u00c3O\",\"N\\u00c3O\",\"N\\u00c3O\",\"N\\u00c3O\",\"N\\u00c3O\",\"N\\u00c3O\",\"N\\u00c3O\",\"N\\u00c3O\",\"N\\u00c3O\",\"N\\u00c3O\",\"N\\u00c3O\",\"N\\u00c3O\",\"N\\u00c3O\",\"N\\u00c3O\",\"N\\u00c3O\",\"N\\u00c3O\",\"N\\u00c3O\",\"N\\u00c3O\",\"N\\u00c3O\",\"N\\u00c3O\",\"N\\u00c3O\",\"N\\u00c3O\",\"N\\u00c3O\",\"N\\u00c3O\",\"N\\u00c3O\",\"N\\u00c3O\",\"N\\u00c3O\",\"N\\u00c3O\",\"N\\u00c3O\",\"N\\u00c3O\",\"N\\u00c3O\",\"N\\u00c3O\",\"N\\u00c3O\",\"N\\u00c3O\",\"N\\u00c3O\",\"N\\u00c3O\",\"N\\u00c3O\",\"N\\u00c3O\",\"N\\u00c3O\",\"N\\u00c3O\",\"N\\u00c3O\",\"N\\u00c3O\",\"N\\u00c3O\",\"N\\u00c3O\",\"N\\u00c3O\",\"N\\u00c3O\",\"N\\u00c3O\",\"N\\u00c3O\",\"N\\u00c3O\",\"N\\u00c3O\",\"N\\u00c3O\",\"N\\u00c3O\",\"N\\u00c3O\",\"N\\u00c3O\",\"N\\u00c3O\",\"N\\u00c3O\",\"N\\u00c3O\",\"N\\u00c3O\",\"N\\u00c3O\",\"N\\u00c3O\",\"N\\u00c3O\",\"N\\u00c3O\",\"N\\u00c3O\",\"N\\u00c3O\",\"N\\u00c3O\",\"N\\u00c3O\",\"N\\u00c3O\",\"N\\u00c3O\",\"N\\u00c3O\",\"N\\u00c3O\",\"N\\u00c3O\",\"N\\u00c3O\",\"N\\u00c3O\",\"N\\u00c3O\",\"N\\u00c3O\",\"N\\u00c3O\",\"N\\u00c3O\",\"N\\u00c3O\",\"N\\u00c3O\",\"N\\u00c3O\",\"N\\u00c3O\",\"N\\u00c3O\",\"N\\u00c3O\",\"N\\u00c3O\",\"N\\u00c3O\",\"N\\u00c3O\",\"N\\u00c3O\",\"N\\u00c3O\",\"N\\u00c3O\",\"N\\u00c3O\",\"N\\u00c3O\",\"N\\u00c3O\",\"N\\u00c3O\",\"N\\u00c3O\",\"N\\u00c3O\",\"N\\u00c3O\",\"N\\u00c3O\",\"N\\u00c3O\",\"N\\u00c3O\",\"N\\u00c3O\",\"N\\u00c3O\",\"N\\u00c3O\",\"N\\u00c3O\",\"N\\u00c3O\",\"N\\u00c3O\",\"N\\u00c3O\",\"N\\u00c3O\",\"N\\u00c3O\",\"N\\u00c3O\",\"N\\u00c3O\",\"N\\u00c3O\",\"N\\u00c3O\",\"N\\u00c3O\",\"N\\u00c3O\",\"N\\u00c3O\",\"N\\u00c3O\",\"N\\u00c3O\",\"N\\u00c3O\",\"N\\u00c3O\",\"N\\u00c3O\",\"N\\u00c3O\",\"N\\u00c3O\",\"N\\u00c3O\",\"N\\u00c3O\",\"N\\u00c3O\",\"N\\u00c3O\",\"N\\u00c3O\",\"N\\u00c3O\",\"N\\u00c3O\",\"N\\u00c3O\",\"N\\u00c3O\",\"N\\u00c3O\",\"N\\u00c3O\",\"N\\u00c3O\",\"N\\u00c3O\",\"N\\u00c3O\",\"N\\u00c3O\",\"N\\u00c3O\",\"N\\u00c3O\",\"N\\u00c3O\",\"N\\u00c3O\",\"N\\u00c3O\",\"N\\u00c3O\",\"N\\u00c3O\",\"N\\u00c3O\",\"N\\u00c3O\",\"N\\u00c3O\",\"N\\u00c3O\",\"N\\u00c3O\",\"N\\u00c3O\",\"N\\u00c3O\",\"N\\u00c3O\",\"N\\u00c3O\",\"N\\u00c3O\",\"N\\u00c3O\",\"N\\u00c3O\",\"N\\u00c3O\",\"N\\u00c3O\",\"N\\u00c3O\",\"N\\u00c3O\",\"N\\u00c3O\",\"N\\u00c3O\",\"N\\u00c3O\",\"N\\u00c3O\",\"N\\u00c3O\",\"N\\u00c3O\",\"N\\u00c3O\",\"N\\u00c3O\",\"N\\u00c3O\",\"N\\u00c3O\",\"N\\u00c3O\",\"N\\u00c3O\",\"N\\u00c3O\",\"N\\u00c3O\",\"N\\u00c3O\",\"N\\u00c3O\",\"N\\u00c3O\",\"N\\u00c3O\",\"N\\u00c3O\",\"N\\u00c3O\",\"N\\u00c3O\",\"N\\u00c3O\",\"N\\u00c3O\",\"N\\u00c3O\",\"N\\u00c3O\",\"N\\u00c3O\",\"N\\u00c3O\",\"N\\u00c3O\",\"N\\u00c3O\",\"N\\u00c3O\",\"N\\u00c3O\",\"N\\u00c3O\",\"N\\u00c3O\",\"N\\u00c3O\",\"N\\u00c3O\",\"N\\u00c3O\",\"N\\u00c3O\",\"N\\u00c3O\",\"N\\u00c3O\",\"N\\u00c3O\",\"N\\u00c3O\",\"N\\u00c3O\",\"N\\u00c3O\",\"N\\u00c3O\",\"N\\u00c3O\",\"N\\u00c3O\",\"N\\u00c3O\",\"N\\u00c3O\",\"N\\u00c3O\",\"N\\u00c3O\",\"N\\u00c3O\",\"N\\u00c3O\",\"N\\u00c3O\",\"N\\u00c3O\",\"N\\u00c3O\",\"N\\u00c3O\",\"N\\u00c3O\",\"N\\u00c3O\",\"N\\u00c3O\",\"N\\u00c3O\",\"N\\u00c3O\",\"N\\u00c3O\",\"N\\u00c3O\",\"N\\u00c3O\",\"N\\u00c3O\",\"N\\u00c3O\",\"N\\u00c3O\",\"N\\u00c3O\",\"N\\u00c3O\",\"N\\u00c3O\",\"N\\u00c3O\",\"N\\u00c3O\",\"N\\u00c3O\",\"N\\u00c3O\",\"N\\u00c3O\",\"N\\u00c3O\",\"N\\u00c3O\",\"N\\u00c3O\",\"N\\u00c3O\",\"N\\u00c3O\",\"N\\u00c3O\",\"N\\u00c3O\",\"N\\u00c3O\",\"N\\u00c3O\",\"N\\u00c3O\",\"N\\u00c3O\",\"N\\u00c3O\",\"N\\u00c3O\",\"N\\u00c3O\",\"N\\u00c3O\",\"N\\u00c3O\",\"N\\u00c3O\",\"N\\u00c3O\",\"N\\u00c3O\",\"N\\u00c3O\",\"N\\u00c3O\",\"N\\u00c3O\",\"N\\u00c3O\",\"N\\u00c3O\",\"N\\u00c3O\",\"N\\u00c3O\",\"N\\u00c3O\",\"N\\u00c3O\",\"N\\u00c3O\",\"N\\u00c3O\",\"N\\u00c3O\",\"N\\u00c3O\",\"N\\u00c3O\",\"N\\u00c3O\",\"N\\u00c3O\",\"N\\u00c3O\",\"N\\u00c3O\",\"N\\u00c3O\",\"N\\u00c3O\",\"N\\u00c3O\",\"N\\u00c3O\",\"N\\u00c3O\",\"N\\u00c3O\",\"N\\u00c3O\",\"N\\u00c3O\",\"N\\u00c3O\",\"N\\u00c3O\",\"N\\u00c3O\",\"N\\u00c3O\",\"N\\u00c3O\",\"N\\u00c3O\",\"N\\u00c3O\",\"N\\u00c3O\",\"N\\u00c3O\",\"N\\u00c3O\",\"N\\u00c3O\",\"N\\u00c3O\",\"N\\u00c3O\",\"N\\u00c3O\",\"N\\u00c3O\",\"N\\u00c3O\",\"N\\u00c3O\",\"N\\u00c3O\",\"N\\u00c3O\",\"N\\u00c3O\",\"N\\u00c3O\",\"N\\u00c3O\",\"N\\u00c3O\",\"N\\u00c3O\",\"N\\u00c3O\",\"N\\u00c3O\",\"N\\u00c3O\",\"N\\u00c3O\",\"N\\u00c3O\",\"N\\u00c3O\",\"N\\u00c3O\",\"N\\u00c3O\",\"N\\u00c3O\",\"N\\u00c3O\",\"N\\u00c3O\",\"N\\u00c3O\",\"N\\u00c3O\",\"N\\u00c3O\",\"N\\u00c3O\",\"N\\u00c3O\",\"N\\u00c3O\",\"N\\u00c3O\",\"N\\u00c3O\",\"N\\u00c3O\",\"N\\u00c3O\",\"N\\u00c3O\",\"N\\u00c3O\",\"N\\u00c3O\",\"N\\u00c3O\",\"N\\u00c3O\",\"N\\u00c3O\",\"N\\u00c3O\",\"N\\u00c3O\",\"N\\u00c3O\",\"N\\u00c3O\",\"N\\u00c3O\",\"N\\u00c3O\",\"N\\u00c3O\",\"N\\u00c3O\",\"N\\u00c3O\",\"N\\u00c3O\",\"N\\u00c3O\",\"N\\u00c3O\",\"N\\u00c3O\",\"N\\u00c3O\",\"N\\u00c3O\",\"N\\u00c3O\",\"N\\u00c3O\",\"N\\u00c3O\",\"N\\u00c3O\",\"N\\u00c3O\",\"N\\u00c3O\",\"N\\u00c3O\",\"N\\u00c3O\",\"N\\u00c3O\",\"N\\u00c3O\",\"N\\u00c3O\",\"N\\u00c3O\",\"N\\u00c3O\",\"N\\u00c3O\",\"N\\u00c3O\",\"N\\u00c3O\",\"N\\u00c3O\",\"N\\u00c3O\",\"N\\u00c3O\",\"N\\u00c3O\",\"N\\u00c3O\",\"N\\u00c3O\",\"N\\u00c3O\",\"N\\u00c3O\",\"N\\u00c3O\",\"N\\u00c3O\",\"N\\u00c3O\",\"N\\u00c3O\",\"N\\u00c3O\",\"N\\u00c3O\",\"N\\u00c3O\",\"N\\u00c3O\",\"N\\u00c3O\",\"N\\u00c3O\",\"N\\u00c3O\",\"N\\u00c3O\",\"N\\u00c3O\",\"N\\u00c3O\",\"N\\u00c3O\",\"N\\u00c3O\",\"N\\u00c3O\",\"N\\u00c3O\",\"N\\u00c3O\",\"N\\u00c3O\",\"N\\u00c3O\",\"N\\u00c3O\",\"N\\u00c3O\",\"N\\u00c3O\",\"N\\u00c3O\",\"N\\u00c3O\",\"N\\u00c3O\",\"N\\u00c3O\",\"N\\u00c3O\",\"N\\u00c3O\",\"N\\u00c3O\",\"N\\u00c3O\",\"N\\u00c3O\",\"N\\u00c3O\",\"N\\u00c3O\",\"N\\u00c3O\",\"N\\u00c3O\",\"N\\u00c3O\",\"N\\u00c3O\",\"N\\u00c3O\",\"N\\u00c3O\",\"N\\u00c3O\",\"N\\u00c3O\",\"N\\u00c3O\",\"N\\u00c3O\",\"N\\u00c3O\",\"N\\u00c3O\",\"N\\u00c3O\",\"N\\u00c3O\",\"N\\u00c3O\",\"N\\u00c3O\",\"N\\u00c3O\",\"N\\u00c3O\",\"N\\u00c3O\",\"N\\u00c3O\",\"N\\u00c3O\",\"N\\u00c3O\",\"N\\u00c3O\",\"N\\u00c3O\",\"N\\u00c3O\",\"N\\u00c3O\",\"N\\u00c3O\",\"N\\u00c3O\",\"N\\u00c3O\",\"N\\u00c3O\",\"N\\u00c3O\",\"N\\u00c3O\",\"N\\u00c3O\",\"N\\u00c3O\",\"N\\u00c3O\",\"N\\u00c3O\",\"N\\u00c3O\",\"N\\u00c3O\",\"N\\u00c3O\",\"N\\u00c3O\",\"N\\u00c3O\",\"N\\u00c3O\",\"N\\u00c3O\"],\"legendgroup\":\"\",\"name\":\"\",\"showlegend\":true,\"type\":\"pie\"}],                        {\"legend\":{\"tracegroupgap\":0},\"template\":{\"data\":{\"bar\":[{\"error_x\":{\"color\":\"#2a3f5f\"},\"error_y\":{\"color\":\"#2a3f5f\"},\"marker\":{\"line\":{\"color\":\"#E5ECF6\",\"width\":0.5},\"pattern\":{\"fillmode\":\"overlay\",\"size\":10,\"solidity\":0.2}},\"type\":\"bar\"}],\"barpolar\":[{\"marker\":{\"line\":{\"color\":\"#E5ECF6\",\"width\":0.5},\"pattern\":{\"fillmode\":\"overlay\",\"size\":10,\"solidity\":0.2}},\"type\":\"barpolar\"}],\"carpet\":[{\"aaxis\":{\"endlinecolor\":\"#2a3f5f\",\"gridcolor\":\"white\",\"linecolor\":\"white\",\"minorgridcolor\":\"white\",\"startlinecolor\":\"#2a3f5f\"},\"baxis\":{\"endlinecolor\":\"#2a3f5f\",\"gridcolor\":\"white\",\"linecolor\":\"white\",\"minorgridcolor\":\"white\",\"startlinecolor\":\"#2a3f5f\"},\"type\":\"carpet\"}],\"choropleth\":[{\"colorbar\":{\"outlinewidth\":0,\"ticks\":\"\"},\"type\":\"choropleth\"}],\"contour\":[{\"colorbar\":{\"outlinewidth\":0,\"ticks\":\"\"},\"colorscale\":[[0.0,\"#0d0887\"],[0.1111111111111111,\"#46039f\"],[0.2222222222222222,\"#7201a8\"],[0.3333333333333333,\"#9c179e\"],[0.4444444444444444,\"#bd3786\"],[0.5555555555555556,\"#d8576b\"],[0.6666666666666666,\"#ed7953\"],[0.7777777777777778,\"#fb9f3a\"],[0.8888888888888888,\"#fdca26\"],[1.0,\"#f0f921\"]],\"type\":\"contour\"}],\"contourcarpet\":[{\"colorbar\":{\"outlinewidth\":0,\"ticks\":\"\"},\"type\":\"contourcarpet\"}],\"heatmap\":[{\"colorbar\":{\"outlinewidth\":0,\"ticks\":\"\"},\"colorscale\":[[0.0,\"#0d0887\"],[0.1111111111111111,\"#46039f\"],[0.2222222222222222,\"#7201a8\"],[0.3333333333333333,\"#9c179e\"],[0.4444444444444444,\"#bd3786\"],[0.5555555555555556,\"#d8576b\"],[0.6666666666666666,\"#ed7953\"],[0.7777777777777778,\"#fb9f3a\"],[0.8888888888888888,\"#fdca26\"],[1.0,\"#f0f921\"]],\"type\":\"heatmap\"}],\"heatmapgl\":[{\"colorbar\":{\"outlinewidth\":0,\"ticks\":\"\"},\"colorscale\":[[0.0,\"#0d0887\"],[0.1111111111111111,\"#46039f\"],[0.2222222222222222,\"#7201a8\"],[0.3333333333333333,\"#9c179e\"],[0.4444444444444444,\"#bd3786\"],[0.5555555555555556,\"#d8576b\"],[0.6666666666666666,\"#ed7953\"],[0.7777777777777778,\"#fb9f3a\"],[0.8888888888888888,\"#fdca26\"],[1.0,\"#f0f921\"]],\"type\":\"heatmapgl\"}],\"histogram\":[{\"marker\":{\"pattern\":{\"fillmode\":\"overlay\",\"size\":10,\"solidity\":0.2}},\"type\":\"histogram\"}],\"histogram2d\":[{\"colorbar\":{\"outlinewidth\":0,\"ticks\":\"\"},\"colorscale\":[[0.0,\"#0d0887\"],[0.1111111111111111,\"#46039f\"],[0.2222222222222222,\"#7201a8\"],[0.3333333333333333,\"#9c179e\"],[0.4444444444444444,\"#bd3786\"],[0.5555555555555556,\"#d8576b\"],[0.6666666666666666,\"#ed7953\"],[0.7777777777777778,\"#fb9f3a\"],[0.8888888888888888,\"#fdca26\"],[1.0,\"#f0f921\"]],\"type\":\"histogram2d\"}],\"histogram2dcontour\":[{\"colorbar\":{\"outlinewidth\":0,\"ticks\":\"\"},\"colorscale\":[[0.0,\"#0d0887\"],[0.1111111111111111,\"#46039f\"],[0.2222222222222222,\"#7201a8\"],[0.3333333333333333,\"#9c179e\"],[0.4444444444444444,\"#bd3786\"],[0.5555555555555556,\"#d8576b\"],[0.6666666666666666,\"#ed7953\"],[0.7777777777777778,\"#fb9f3a\"],[0.8888888888888888,\"#fdca26\"],[1.0,\"#f0f921\"]],\"type\":\"histogram2dcontour\"}],\"mesh3d\":[{\"colorbar\":{\"outlinewidth\":0,\"ticks\":\"\"},\"type\":\"mesh3d\"}],\"parcoords\":[{\"line\":{\"colorbar\":{\"outlinewidth\":0,\"ticks\":\"\"}},\"type\":\"parcoords\"}],\"pie\":[{\"automargin\":true,\"type\":\"pie\"}],\"scatter\":[{\"marker\":{\"colorbar\":{\"outlinewidth\":0,\"ticks\":\"\"}},\"type\":\"scatter\"}],\"scatter3d\":[{\"line\":{\"colorbar\":{\"outlinewidth\":0,\"ticks\":\"\"}},\"marker\":{\"colorbar\":{\"outlinewidth\":0,\"ticks\":\"\"}},\"type\":\"scatter3d\"}],\"scattercarpet\":[{\"marker\":{\"colorbar\":{\"outlinewidth\":0,\"ticks\":\"\"}},\"type\":\"scattercarpet\"}],\"scattergeo\":[{\"marker\":{\"colorbar\":{\"outlinewidth\":0,\"ticks\":\"\"}},\"type\":\"scattergeo\"}],\"scattergl\":[{\"marker\":{\"colorbar\":{\"outlinewidth\":0,\"ticks\":\"\"}},\"type\":\"scattergl\"}],\"scattermapbox\":[{\"marker\":{\"colorbar\":{\"outlinewidth\":0,\"ticks\":\"\"}},\"type\":\"scattermapbox\"}],\"scatterpolar\":[{\"marker\":{\"colorbar\":{\"outlinewidth\":0,\"ticks\":\"\"}},\"type\":\"scatterpolar\"}],\"scatterpolargl\":[{\"marker\":{\"colorbar\":{\"outlinewidth\":0,\"ticks\":\"\"}},\"type\":\"scatterpolargl\"}],\"scatterternary\":[{\"marker\":{\"colorbar\":{\"outlinewidth\":0,\"ticks\":\"\"}},\"type\":\"scatterternary\"}],\"surface\":[{\"colorbar\":{\"outlinewidth\":0,\"ticks\":\"\"},\"colorscale\":[[0.0,\"#0d0887\"],[0.1111111111111111,\"#46039f\"],[0.2222222222222222,\"#7201a8\"],[0.3333333333333333,\"#9c179e\"],[0.4444444444444444,\"#bd3786\"],[0.5555555555555556,\"#d8576b\"],[0.6666666666666666,\"#ed7953\"],[0.7777777777777778,\"#fb9f3a\"],[0.8888888888888888,\"#fdca26\"],[1.0,\"#f0f921\"]],\"type\":\"surface\"}],\"table\":[{\"cells\":{\"fill\":{\"color\":\"#EBF0F8\"},\"line\":{\"color\":\"white\"}},\"header\":{\"fill\":{\"color\":\"#C8D4E3\"},\"line\":{\"color\":\"white\"}},\"type\":\"table\"}]},\"layout\":{\"annotationdefaults\":{\"arrowcolor\":\"#2a3f5f\",\"arrowhead\":0,\"arrowwidth\":1},\"autotypenumbers\":\"strict\",\"coloraxis\":{\"colorbar\":{\"outlinewidth\":0,\"ticks\":\"\"}},\"colorscale\":{\"diverging\":[[0,\"#8e0152\"],[0.1,\"#c51b7d\"],[0.2,\"#de77ae\"],[0.3,\"#f1b6da\"],[0.4,\"#fde0ef\"],[0.5,\"#f7f7f7\"],[0.6,\"#e6f5d0\"],[0.7,\"#b8e186\"],[0.8,\"#7fbc41\"],[0.9,\"#4d9221\"],[1,\"#276419\"]],\"sequential\":[[0.0,\"#0d0887\"],[0.1111111111111111,\"#46039f\"],[0.2222222222222222,\"#7201a8\"],[0.3333333333333333,\"#9c179e\"],[0.4444444444444444,\"#bd3786\"],[0.5555555555555556,\"#d8576b\"],[0.6666666666666666,\"#ed7953\"],[0.7777777777777778,\"#fb9f3a\"],[0.8888888888888888,\"#fdca26\"],[1.0,\"#f0f921\"]],\"sequentialminus\":[[0.0,\"#0d0887\"],[0.1111111111111111,\"#46039f\"],[0.2222222222222222,\"#7201a8\"],[0.3333333333333333,\"#9c179e\"],[0.4444444444444444,\"#bd3786\"],[0.5555555555555556,\"#d8576b\"],[0.6666666666666666,\"#ed7953\"],[0.7777777777777778,\"#fb9f3a\"],[0.8888888888888888,\"#fdca26\"],[1.0,\"#f0f921\"]]},\"colorway\":[\"#636efa\",\"#EF553B\",\"#00cc96\",\"#ab63fa\",\"#FFA15A\",\"#19d3f3\",\"#FF6692\",\"#B6E880\",\"#FF97FF\",\"#FECB52\"],\"font\":{\"color\":\"#2a3f5f\"},\"geo\":{\"bgcolor\":\"white\",\"lakecolor\":\"white\",\"landcolor\":\"#E5ECF6\",\"showlakes\":true,\"showland\":true,\"subunitcolor\":\"white\"},\"hoverlabel\":{\"align\":\"left\"},\"hovermode\":\"closest\",\"mapbox\":{\"style\":\"light\"},\"paper_bgcolor\":\"white\",\"plot_bgcolor\":\"#E5ECF6\",\"polar\":{\"angularaxis\":{\"gridcolor\":\"white\",\"linecolor\":\"white\",\"ticks\":\"\"},\"bgcolor\":\"#E5ECF6\",\"radialaxis\":{\"gridcolor\":\"white\",\"linecolor\":\"white\",\"ticks\":\"\"}},\"scene\":{\"xaxis\":{\"backgroundcolor\":\"#E5ECF6\",\"gridcolor\":\"white\",\"gridwidth\":2,\"linecolor\":\"white\",\"showbackground\":true,\"ticks\":\"\",\"zerolinecolor\":\"white\"},\"yaxis\":{\"backgroundcolor\":\"#E5ECF6\",\"gridcolor\":\"white\",\"gridwidth\":2,\"linecolor\":\"white\",\"showbackground\":true,\"ticks\":\"\",\"zerolinecolor\":\"white\"},\"zaxis\":{\"backgroundcolor\":\"#E5ECF6\",\"gridcolor\":\"white\",\"gridwidth\":2,\"linecolor\":\"white\",\"showbackground\":true,\"ticks\":\"\",\"zerolinecolor\":\"white\"}},\"shapedefaults\":{\"line\":{\"color\":\"#2a3f5f\"}},\"ternary\":{\"aaxis\":{\"gridcolor\":\"white\",\"linecolor\":\"white\",\"ticks\":\"\"},\"baxis\":{\"gridcolor\":\"white\",\"linecolor\":\"white\",\"ticks\":\"\"},\"bgcolor\":\"#E5ECF6\",\"caxis\":{\"gridcolor\":\"white\",\"linecolor\":\"white\",\"ticks\":\"\"}},\"title\":{\"x\":0.05},\"xaxis\":{\"automargin\":true,\"gridcolor\":\"white\",\"linecolor\":\"white\",\"ticks\":\"\",\"title\":{\"standoff\":15},\"zerolinecolor\":\"white\",\"zerolinewidth\":2},\"yaxis\":{\"automargin\":true,\"gridcolor\":\"white\",\"linecolor\":\"white\",\"ticks\":\"\",\"title\":{\"standoff\":15},\"zerolinecolor\":\"white\",\"zerolinewidth\":2}}},\"title\":{\"text\":\"Quantidades de vendas \"}},                        {\"responsive\": true}                    ).then(function(){\n",
       "                            \n",
       "var gd = document.getElementById('677c86a1-a4e4-4ff5-9b35-42d9125bba1f');\n",
       "var x = new MutationObserver(function (mutations, observer) {{\n",
       "        var display = window.getComputedStyle(gd).display;\n",
       "        if (!display || display === 'none') {{\n",
       "            console.log([gd, 'removed!']);\n",
       "            Plotly.purge(gd);\n",
       "            observer.disconnect();\n",
       "        }}\n",
       "}});\n",
       "\n",
       "// Listen for the removal of the full notebook cells\n",
       "var notebookContainer = gd.closest('#notebook-container');\n",
       "if (notebookContainer) {{\n",
       "    x.observe(notebookContainer, {childList: true});\n",
       "}}\n",
       "\n",
       "// Listen for the clearing of the current output cell\n",
       "var outputEl = gd.closest('.output');\n",
       "if (outputEl) {{\n",
       "    x.observe(outputEl, {childList: true});\n",
       "}}\n",
       "\n",
       "                        })                };                });            </script>        </div>"
      ]
     },
     "metadata": {},
     "output_type": "display_data"
    }
   ],
   "source": [
    "import plotly.express as px\n",
    "df1 = df.copy()\n",
    "df[\"VENDIDO\"] = df[\"VENDIDO\"].replace({\n",
    "    1: \"Venda\",\n",
    "    0: \"Não-venda\"\n",
    "})\n",
    "fig = px.pie(df, names='VENDIDO', title='Quantidades de vendas ')\n",
    "fig.show()"
   ]
  },
  {
   "cell_type": "markdown",
   "id": "0ceb3a8f",
   "metadata": {},
   "source": [
    "No gráfico podemos notar que 3.17% dos LEADS foram convertidos efetivamente em vendas; Agora vamos analisar esse sub-conjunto dos dados. "
   ]
  },
  {
   "cell_type": "markdown",
   "id": "41e40454",
   "metadata": {},
   "source": [
    "## b.\tQuais os fatores/características de maior influência para que um lead realize a contratação?"
   ]
  },
  {
   "cell_type": "markdown",
   "id": "67e97281",
   "metadata": {},
   "source": [
    "De acordo com a análise feita, as características que mais influenciaram para que um lead realizasse a contratação foram: porte da empresa e origem do Lead; Abaixo a análise utilizada: "
   ]
  },
  {
   "cell_type": "code",
   "execution_count": 181,
   "id": "897c034e",
   "metadata": {},
   "outputs": [],
   "source": [
    "df1['VENDIDO'] = df1['VENDIDO'].map({'SIM':1,'NÃO':0})"
   ]
  },
  {
   "cell_type": "code",
   "execution_count": 182,
   "id": "f5d89699",
   "metadata": {},
   "outputs": [
    {
     "data": {
      "text/html": [
       "<div>\n",
       "<style scoped>\n",
       "    .dataframe tbody tr th:only-of-type {\n",
       "        vertical-align: middle;\n",
       "    }\n",
       "\n",
       "    .dataframe tbody tr th {\n",
       "        vertical-align: top;\n",
       "    }\n",
       "\n",
       "    .dataframe thead th {\n",
       "        text-align: right;\n",
       "    }\n",
       "</style>\n",
       "<table border=\"1\" class=\"dataframe\">\n",
       "  <thead>\n",
       "    <tr style=\"text-align: right;\">\n",
       "      <th></th>\n",
       "      <th>LEAD_ID</th>\n",
       "      <th>DATA CADASTRO</th>\n",
       "      <th>VENDIDO</th>\n",
       "      <th>ORIGEM</th>\n",
       "      <th>MERCADO</th>\n",
       "      <th>PORTE</th>\n",
       "      <th>OBJETIVO</th>\n",
       "      <th>LOCAL</th>\n",
       "    </tr>\n",
       "  </thead>\n",
       "  <tbody>\n",
       "    <tr>\n",
       "      <th>0</th>\n",
       "      <td>11316042</td>\n",
       "      <td>2021-02-10 16:23:30</td>\n",
       "      <td>0</td>\n",
       "      <td>Orgânico</td>\n",
       "      <td>Varejo</td>\n",
       "      <td>1-10</td>\n",
       "      <td>Abertura/Expansão</td>\n",
       "      <td>Belém - PA</td>\n",
       "    </tr>\n",
       "    <tr>\n",
       "      <th>1</th>\n",
       "      <td>11374979</td>\n",
       "      <td>2021-02-17 11:10:28</td>\n",
       "      <td>0</td>\n",
       "      <td>Orgânico</td>\n",
       "      <td>Varejo</td>\n",
       "      <td>11-50</td>\n",
       "      <td>NaN</td>\n",
       "      <td>São Paulo, SP</td>\n",
       "    </tr>\n",
       "    <tr>\n",
       "      <th>2</th>\n",
       "      <td>11997870</td>\n",
       "      <td>2021-04-15 11:06:00</td>\n",
       "      <td>0</td>\n",
       "      <td>Prospecção Ativa</td>\n",
       "      <td>Varejo</td>\n",
       "      <td>NaN</td>\n",
       "      <td>NaN</td>\n",
       "      <td>-</td>\n",
       "    </tr>\n",
       "    <tr>\n",
       "      <th>3</th>\n",
       "      <td>11930537</td>\n",
       "      <td>2021-04-09 13:10:21</td>\n",
       "      <td>0</td>\n",
       "      <td>Prospecção Ativa</td>\n",
       "      <td>Varejo</td>\n",
       "      <td>NaN</td>\n",
       "      <td>NaN</td>\n",
       "      <td>-</td>\n",
       "    </tr>\n",
       "    <tr>\n",
       "      <th>4</th>\n",
       "      <td>11899381</td>\n",
       "      <td>2021-04-07 13:13:49</td>\n",
       "      <td>0</td>\n",
       "      <td>Prospecção Ativa</td>\n",
       "      <td>Varejo</td>\n",
       "      <td>NaN</td>\n",
       "      <td>NaN</td>\n",
       "      <td>-</td>\n",
       "    </tr>\n",
       "  </tbody>\n",
       "</table>\n",
       "</div>"
      ],
      "text/plain": [
       "    LEAD_ID        DATA CADASTRO  VENDIDO            ORIGEM MERCADO  PORTE  \\\n",
       "0  11316042  2021-02-10 16:23:30        0          Orgânico  Varejo   1-10   \n",
       "1  11374979  2021-02-17 11:10:28        0          Orgânico  Varejo  11-50   \n",
       "2  11997870  2021-04-15 11:06:00        0  Prospecção Ativa  Varejo    NaN   \n",
       "3  11930537  2021-04-09 13:10:21        0  Prospecção Ativa  Varejo    NaN   \n",
       "4  11899381  2021-04-07 13:13:49        0  Prospecção Ativa  Varejo    NaN   \n",
       "\n",
       "            OBJETIVO          LOCAL  \n",
       "0  Abertura/Expansão     Belém - PA  \n",
       "1                NaN  São Paulo, SP  \n",
       "2                NaN              -  \n",
       "3                NaN              -  \n",
       "4                NaN              -  "
      ]
     },
     "execution_count": 182,
     "metadata": {},
     "output_type": "execute_result"
    }
   ],
   "source": [
    "df1.head()"
   ]
  },
  {
   "cell_type": "markdown",
   "id": "0fd2e643",
   "metadata": {},
   "source": [
    "Estas são as primeiras 5 linhas do nosso DataFrame; Nele existem informações da empresa que adquiriu o produto como:\n",
    "\n",
    "    - Local da empresa;\n",
    "    - Porte da empresa;\n",
    "    - Mercado de atuação.\n",
    "\n",
    "E informações sobre obtenção do LEAD:\n",
    "\n",
    "    - Sua origem;\n",
    "    - e o Objetivo da campanha de marketing; \n",
    "    \n",
    "Nela também existem informações da Data e Hora da venda, bem como se o LEAD foi convertido ou não;"
   ]
  },
  {
   "cell_type": "markdown",
   "id": "ca4d6d66",
   "metadata": {},
   "source": [
    "### c.\tComo foi possível chegar a essa conclusão?"
   ]
  },
  {
   "cell_type": "code",
   "execution_count": 183,
   "id": "868d5948",
   "metadata": {},
   "outputs": [],
   "source": [
    "# análise dos leads convertidos \n",
    "venda = df1.query(\"VENDIDO == 1\")\n",
    "\n"
   ]
  },
  {
   "cell_type": "code",
   "execution_count": 184,
   "id": "f7236929",
   "metadata": {},
   "outputs": [
    {
     "data": {
      "application/vnd.plotly.v1+json": {
       "config": {
        "plotlyServerURL": "https://plot.ly"
       },
       "data": [
        {
         "alignmentgroup": "True",
         "hovertemplate": "Porte da Empresa=%{x}<br>Quantidade de Vendas Realizadas=%{y}<extra></extra>",
         "legendgroup": "",
         "marker": {
          "color": "#636efa",
          "pattern": {
           "shape": ""
          }
         },
         "name": "",
         "offsetgroup": "",
         "orientation": "v",
         "showlegend": false,
         "textposition": "auto",
         "type": "bar",
         "x": [
          "1-10",
          "11-50",
          "51-300",
          "0",
          "301-1000"
         ],
         "xaxis": "x",
         "y": [
          33,
          19,
          11,
          6,
          3
         ],
         "yaxis": "y"
        }
       ],
       "layout": {
        "barmode": "relative",
        "legend": {
         "tracegroupgap": 0
        },
        "template": {
         "data": {
          "bar": [
           {
            "error_x": {
             "color": "#2a3f5f"
            },
            "error_y": {
             "color": "#2a3f5f"
            },
            "marker": {
             "line": {
              "color": "#E5ECF6",
              "width": 0.5
             },
             "pattern": {
              "fillmode": "overlay",
              "size": 10,
              "solidity": 0.2
             }
            },
            "type": "bar"
           }
          ],
          "barpolar": [
           {
            "marker": {
             "line": {
              "color": "#E5ECF6",
              "width": 0.5
             },
             "pattern": {
              "fillmode": "overlay",
              "size": 10,
              "solidity": 0.2
             }
            },
            "type": "barpolar"
           }
          ],
          "carpet": [
           {
            "aaxis": {
             "endlinecolor": "#2a3f5f",
             "gridcolor": "white",
             "linecolor": "white",
             "minorgridcolor": "white",
             "startlinecolor": "#2a3f5f"
            },
            "baxis": {
             "endlinecolor": "#2a3f5f",
             "gridcolor": "white",
             "linecolor": "white",
             "minorgridcolor": "white",
             "startlinecolor": "#2a3f5f"
            },
            "type": "carpet"
           }
          ],
          "choropleth": [
           {
            "colorbar": {
             "outlinewidth": 0,
             "ticks": ""
            },
            "type": "choropleth"
           }
          ],
          "contour": [
           {
            "colorbar": {
             "outlinewidth": 0,
             "ticks": ""
            },
            "colorscale": [
             [
              0,
              "#0d0887"
             ],
             [
              0.1111111111111111,
              "#46039f"
             ],
             [
              0.2222222222222222,
              "#7201a8"
             ],
             [
              0.3333333333333333,
              "#9c179e"
             ],
             [
              0.4444444444444444,
              "#bd3786"
             ],
             [
              0.5555555555555556,
              "#d8576b"
             ],
             [
              0.6666666666666666,
              "#ed7953"
             ],
             [
              0.7777777777777778,
              "#fb9f3a"
             ],
             [
              0.8888888888888888,
              "#fdca26"
             ],
             [
              1,
              "#f0f921"
             ]
            ],
            "type": "contour"
           }
          ],
          "contourcarpet": [
           {
            "colorbar": {
             "outlinewidth": 0,
             "ticks": ""
            },
            "type": "contourcarpet"
           }
          ],
          "heatmap": [
           {
            "colorbar": {
             "outlinewidth": 0,
             "ticks": ""
            },
            "colorscale": [
             [
              0,
              "#0d0887"
             ],
             [
              0.1111111111111111,
              "#46039f"
             ],
             [
              0.2222222222222222,
              "#7201a8"
             ],
             [
              0.3333333333333333,
              "#9c179e"
             ],
             [
              0.4444444444444444,
              "#bd3786"
             ],
             [
              0.5555555555555556,
              "#d8576b"
             ],
             [
              0.6666666666666666,
              "#ed7953"
             ],
             [
              0.7777777777777778,
              "#fb9f3a"
             ],
             [
              0.8888888888888888,
              "#fdca26"
             ],
             [
              1,
              "#f0f921"
             ]
            ],
            "type": "heatmap"
           }
          ],
          "heatmapgl": [
           {
            "colorbar": {
             "outlinewidth": 0,
             "ticks": ""
            },
            "colorscale": [
             [
              0,
              "#0d0887"
             ],
             [
              0.1111111111111111,
              "#46039f"
             ],
             [
              0.2222222222222222,
              "#7201a8"
             ],
             [
              0.3333333333333333,
              "#9c179e"
             ],
             [
              0.4444444444444444,
              "#bd3786"
             ],
             [
              0.5555555555555556,
              "#d8576b"
             ],
             [
              0.6666666666666666,
              "#ed7953"
             ],
             [
              0.7777777777777778,
              "#fb9f3a"
             ],
             [
              0.8888888888888888,
              "#fdca26"
             ],
             [
              1,
              "#f0f921"
             ]
            ],
            "type": "heatmapgl"
           }
          ],
          "histogram": [
           {
            "marker": {
             "pattern": {
              "fillmode": "overlay",
              "size": 10,
              "solidity": 0.2
             }
            },
            "type": "histogram"
           }
          ],
          "histogram2d": [
           {
            "colorbar": {
             "outlinewidth": 0,
             "ticks": ""
            },
            "colorscale": [
             [
              0,
              "#0d0887"
             ],
             [
              0.1111111111111111,
              "#46039f"
             ],
             [
              0.2222222222222222,
              "#7201a8"
             ],
             [
              0.3333333333333333,
              "#9c179e"
             ],
             [
              0.4444444444444444,
              "#bd3786"
             ],
             [
              0.5555555555555556,
              "#d8576b"
             ],
             [
              0.6666666666666666,
              "#ed7953"
             ],
             [
              0.7777777777777778,
              "#fb9f3a"
             ],
             [
              0.8888888888888888,
              "#fdca26"
             ],
             [
              1,
              "#f0f921"
             ]
            ],
            "type": "histogram2d"
           }
          ],
          "histogram2dcontour": [
           {
            "colorbar": {
             "outlinewidth": 0,
             "ticks": ""
            },
            "colorscale": [
             [
              0,
              "#0d0887"
             ],
             [
              0.1111111111111111,
              "#46039f"
             ],
             [
              0.2222222222222222,
              "#7201a8"
             ],
             [
              0.3333333333333333,
              "#9c179e"
             ],
             [
              0.4444444444444444,
              "#bd3786"
             ],
             [
              0.5555555555555556,
              "#d8576b"
             ],
             [
              0.6666666666666666,
              "#ed7953"
             ],
             [
              0.7777777777777778,
              "#fb9f3a"
             ],
             [
              0.8888888888888888,
              "#fdca26"
             ],
             [
              1,
              "#f0f921"
             ]
            ],
            "type": "histogram2dcontour"
           }
          ],
          "mesh3d": [
           {
            "colorbar": {
             "outlinewidth": 0,
             "ticks": ""
            },
            "type": "mesh3d"
           }
          ],
          "parcoords": [
           {
            "line": {
             "colorbar": {
              "outlinewidth": 0,
              "ticks": ""
             }
            },
            "type": "parcoords"
           }
          ],
          "pie": [
           {
            "automargin": true,
            "type": "pie"
           }
          ],
          "scatter": [
           {
            "marker": {
             "colorbar": {
              "outlinewidth": 0,
              "ticks": ""
             }
            },
            "type": "scatter"
           }
          ],
          "scatter3d": [
           {
            "line": {
             "colorbar": {
              "outlinewidth": 0,
              "ticks": ""
             }
            },
            "marker": {
             "colorbar": {
              "outlinewidth": 0,
              "ticks": ""
             }
            },
            "type": "scatter3d"
           }
          ],
          "scattercarpet": [
           {
            "marker": {
             "colorbar": {
              "outlinewidth": 0,
              "ticks": ""
             }
            },
            "type": "scattercarpet"
           }
          ],
          "scattergeo": [
           {
            "marker": {
             "colorbar": {
              "outlinewidth": 0,
              "ticks": ""
             }
            },
            "type": "scattergeo"
           }
          ],
          "scattergl": [
           {
            "marker": {
             "colorbar": {
              "outlinewidth": 0,
              "ticks": ""
             }
            },
            "type": "scattergl"
           }
          ],
          "scattermapbox": [
           {
            "marker": {
             "colorbar": {
              "outlinewidth": 0,
              "ticks": ""
             }
            },
            "type": "scattermapbox"
           }
          ],
          "scatterpolar": [
           {
            "marker": {
             "colorbar": {
              "outlinewidth": 0,
              "ticks": ""
             }
            },
            "type": "scatterpolar"
           }
          ],
          "scatterpolargl": [
           {
            "marker": {
             "colorbar": {
              "outlinewidth": 0,
              "ticks": ""
             }
            },
            "type": "scatterpolargl"
           }
          ],
          "scatterternary": [
           {
            "marker": {
             "colorbar": {
              "outlinewidth": 0,
              "ticks": ""
             }
            },
            "type": "scatterternary"
           }
          ],
          "surface": [
           {
            "colorbar": {
             "outlinewidth": 0,
             "ticks": ""
            },
            "colorscale": [
             [
              0,
              "#0d0887"
             ],
             [
              0.1111111111111111,
              "#46039f"
             ],
             [
              0.2222222222222222,
              "#7201a8"
             ],
             [
              0.3333333333333333,
              "#9c179e"
             ],
             [
              0.4444444444444444,
              "#bd3786"
             ],
             [
              0.5555555555555556,
              "#d8576b"
             ],
             [
              0.6666666666666666,
              "#ed7953"
             ],
             [
              0.7777777777777778,
              "#fb9f3a"
             ],
             [
              0.8888888888888888,
              "#fdca26"
             ],
             [
              1,
              "#f0f921"
             ]
            ],
            "type": "surface"
           }
          ],
          "table": [
           {
            "cells": {
             "fill": {
              "color": "#EBF0F8"
             },
             "line": {
              "color": "white"
             }
            },
            "header": {
             "fill": {
              "color": "#C8D4E3"
             },
             "line": {
              "color": "white"
             }
            },
            "type": "table"
           }
          ]
         },
         "layout": {
          "annotationdefaults": {
           "arrowcolor": "#2a3f5f",
           "arrowhead": 0,
           "arrowwidth": 1
          },
          "autotypenumbers": "strict",
          "coloraxis": {
           "colorbar": {
            "outlinewidth": 0,
            "ticks": ""
           }
          },
          "colorscale": {
           "diverging": [
            [
             0,
             "#8e0152"
            ],
            [
             0.1,
             "#c51b7d"
            ],
            [
             0.2,
             "#de77ae"
            ],
            [
             0.3,
             "#f1b6da"
            ],
            [
             0.4,
             "#fde0ef"
            ],
            [
             0.5,
             "#f7f7f7"
            ],
            [
             0.6,
             "#e6f5d0"
            ],
            [
             0.7,
             "#b8e186"
            ],
            [
             0.8,
             "#7fbc41"
            ],
            [
             0.9,
             "#4d9221"
            ],
            [
             1,
             "#276419"
            ]
           ],
           "sequential": [
            [
             0,
             "#0d0887"
            ],
            [
             0.1111111111111111,
             "#46039f"
            ],
            [
             0.2222222222222222,
             "#7201a8"
            ],
            [
             0.3333333333333333,
             "#9c179e"
            ],
            [
             0.4444444444444444,
             "#bd3786"
            ],
            [
             0.5555555555555556,
             "#d8576b"
            ],
            [
             0.6666666666666666,
             "#ed7953"
            ],
            [
             0.7777777777777778,
             "#fb9f3a"
            ],
            [
             0.8888888888888888,
             "#fdca26"
            ],
            [
             1,
             "#f0f921"
            ]
           ],
           "sequentialminus": [
            [
             0,
             "#0d0887"
            ],
            [
             0.1111111111111111,
             "#46039f"
            ],
            [
             0.2222222222222222,
             "#7201a8"
            ],
            [
             0.3333333333333333,
             "#9c179e"
            ],
            [
             0.4444444444444444,
             "#bd3786"
            ],
            [
             0.5555555555555556,
             "#d8576b"
            ],
            [
             0.6666666666666666,
             "#ed7953"
            ],
            [
             0.7777777777777778,
             "#fb9f3a"
            ],
            [
             0.8888888888888888,
             "#fdca26"
            ],
            [
             1,
             "#f0f921"
            ]
           ]
          },
          "colorway": [
           "#636efa",
           "#EF553B",
           "#00cc96",
           "#ab63fa",
           "#FFA15A",
           "#19d3f3",
           "#FF6692",
           "#B6E880",
           "#FF97FF",
           "#FECB52"
          ],
          "font": {
           "color": "#2a3f5f"
          },
          "geo": {
           "bgcolor": "white",
           "lakecolor": "white",
           "landcolor": "#E5ECF6",
           "showlakes": true,
           "showland": true,
           "subunitcolor": "white"
          },
          "hoverlabel": {
           "align": "left"
          },
          "hovermode": "closest",
          "mapbox": {
           "style": "light"
          },
          "paper_bgcolor": "white",
          "plot_bgcolor": "#E5ECF6",
          "polar": {
           "angularaxis": {
            "gridcolor": "white",
            "linecolor": "white",
            "ticks": ""
           },
           "bgcolor": "#E5ECF6",
           "radialaxis": {
            "gridcolor": "white",
            "linecolor": "white",
            "ticks": ""
           }
          },
          "scene": {
           "xaxis": {
            "backgroundcolor": "#E5ECF6",
            "gridcolor": "white",
            "gridwidth": 2,
            "linecolor": "white",
            "showbackground": true,
            "ticks": "",
            "zerolinecolor": "white"
           },
           "yaxis": {
            "backgroundcolor": "#E5ECF6",
            "gridcolor": "white",
            "gridwidth": 2,
            "linecolor": "white",
            "showbackground": true,
            "ticks": "",
            "zerolinecolor": "white"
           },
           "zaxis": {
            "backgroundcolor": "#E5ECF6",
            "gridcolor": "white",
            "gridwidth": 2,
            "linecolor": "white",
            "showbackground": true,
            "ticks": "",
            "zerolinecolor": "white"
           }
          },
          "shapedefaults": {
           "line": {
            "color": "#2a3f5f"
           }
          },
          "ternary": {
           "aaxis": {
            "gridcolor": "white",
            "linecolor": "white",
            "ticks": ""
           },
           "baxis": {
            "gridcolor": "white",
            "linecolor": "white",
            "ticks": ""
           },
           "bgcolor": "#E5ECF6",
           "caxis": {
            "gridcolor": "white",
            "linecolor": "white",
            "ticks": ""
           }
          },
          "title": {
           "x": 0.05
          },
          "xaxis": {
           "automargin": true,
           "gridcolor": "white",
           "linecolor": "white",
           "ticks": "",
           "title": {
            "standoff": 15
           },
           "zerolinecolor": "white",
           "zerolinewidth": 2
          },
          "yaxis": {
           "automargin": true,
           "gridcolor": "white",
           "linecolor": "white",
           "ticks": "",
           "title": {
            "standoff": 15
           },
           "zerolinecolor": "white",
           "zerolinewidth": 2
          }
         }
        },
        "title": {
         "text": "Análise Vendas/Porte"
        },
        "xaxis": {
         "anchor": "y",
         "domain": [
          0,
          1
         ],
         "title": {
          "text": "Porte da Empresa"
         }
        },
        "yaxis": {
         "anchor": "x",
         "domain": [
          0,
          1
         ],
         "title": {
          "text": "Quantidade de Vendas Realizadas"
         }
        }
       }
      },
      "text/html": [
       "<div>                            <div id=\"4c252f99-02e6-4662-bf61-34905bab53cb\" class=\"plotly-graph-div\" style=\"height:525px; width:100%;\"></div>            <script type=\"text/javascript\">                require([\"plotly\"], function(Plotly) {                    window.PLOTLYENV=window.PLOTLYENV || {};                                    if (document.getElementById(\"4c252f99-02e6-4662-bf61-34905bab53cb\")) {                    Plotly.newPlot(                        \"4c252f99-02e6-4662-bf61-34905bab53cb\",                        [{\"alignmentgroup\":\"True\",\"hovertemplate\":\"Porte da Empresa=%{x}<br>Quantidade de Vendas Realizadas=%{y}<extra></extra>\",\"legendgroup\":\"\",\"marker\":{\"color\":\"#636efa\",\"pattern\":{\"shape\":\"\"}},\"name\":\"\",\"offsetgroup\":\"\",\"orientation\":\"v\",\"showlegend\":false,\"textposition\":\"auto\",\"type\":\"bar\",\"x\":[\"1-10\",\"11-50\",\"51-300\",\"0\",\"301-1000\"],\"xaxis\":\"x\",\"y\":[33,19,11,6,3],\"yaxis\":\"y\"}],                        {\"barmode\":\"relative\",\"legend\":{\"tracegroupgap\":0},\"template\":{\"data\":{\"bar\":[{\"error_x\":{\"color\":\"#2a3f5f\"},\"error_y\":{\"color\":\"#2a3f5f\"},\"marker\":{\"line\":{\"color\":\"#E5ECF6\",\"width\":0.5},\"pattern\":{\"fillmode\":\"overlay\",\"size\":10,\"solidity\":0.2}},\"type\":\"bar\"}],\"barpolar\":[{\"marker\":{\"line\":{\"color\":\"#E5ECF6\",\"width\":0.5},\"pattern\":{\"fillmode\":\"overlay\",\"size\":10,\"solidity\":0.2}},\"type\":\"barpolar\"}],\"carpet\":[{\"aaxis\":{\"endlinecolor\":\"#2a3f5f\",\"gridcolor\":\"white\",\"linecolor\":\"white\",\"minorgridcolor\":\"white\",\"startlinecolor\":\"#2a3f5f\"},\"baxis\":{\"endlinecolor\":\"#2a3f5f\",\"gridcolor\":\"white\",\"linecolor\":\"white\",\"minorgridcolor\":\"white\",\"startlinecolor\":\"#2a3f5f\"},\"type\":\"carpet\"}],\"choropleth\":[{\"colorbar\":{\"outlinewidth\":0,\"ticks\":\"\"},\"type\":\"choropleth\"}],\"contour\":[{\"colorbar\":{\"outlinewidth\":0,\"ticks\":\"\"},\"colorscale\":[[0.0,\"#0d0887\"],[0.1111111111111111,\"#46039f\"],[0.2222222222222222,\"#7201a8\"],[0.3333333333333333,\"#9c179e\"],[0.4444444444444444,\"#bd3786\"],[0.5555555555555556,\"#d8576b\"],[0.6666666666666666,\"#ed7953\"],[0.7777777777777778,\"#fb9f3a\"],[0.8888888888888888,\"#fdca26\"],[1.0,\"#f0f921\"]],\"type\":\"contour\"}],\"contourcarpet\":[{\"colorbar\":{\"outlinewidth\":0,\"ticks\":\"\"},\"type\":\"contourcarpet\"}],\"heatmap\":[{\"colorbar\":{\"outlinewidth\":0,\"ticks\":\"\"},\"colorscale\":[[0.0,\"#0d0887\"],[0.1111111111111111,\"#46039f\"],[0.2222222222222222,\"#7201a8\"],[0.3333333333333333,\"#9c179e\"],[0.4444444444444444,\"#bd3786\"],[0.5555555555555556,\"#d8576b\"],[0.6666666666666666,\"#ed7953\"],[0.7777777777777778,\"#fb9f3a\"],[0.8888888888888888,\"#fdca26\"],[1.0,\"#f0f921\"]],\"type\":\"heatmap\"}],\"heatmapgl\":[{\"colorbar\":{\"outlinewidth\":0,\"ticks\":\"\"},\"colorscale\":[[0.0,\"#0d0887\"],[0.1111111111111111,\"#46039f\"],[0.2222222222222222,\"#7201a8\"],[0.3333333333333333,\"#9c179e\"],[0.4444444444444444,\"#bd3786\"],[0.5555555555555556,\"#d8576b\"],[0.6666666666666666,\"#ed7953\"],[0.7777777777777778,\"#fb9f3a\"],[0.8888888888888888,\"#fdca26\"],[1.0,\"#f0f921\"]],\"type\":\"heatmapgl\"}],\"histogram\":[{\"marker\":{\"pattern\":{\"fillmode\":\"overlay\",\"size\":10,\"solidity\":0.2}},\"type\":\"histogram\"}],\"histogram2d\":[{\"colorbar\":{\"outlinewidth\":0,\"ticks\":\"\"},\"colorscale\":[[0.0,\"#0d0887\"],[0.1111111111111111,\"#46039f\"],[0.2222222222222222,\"#7201a8\"],[0.3333333333333333,\"#9c179e\"],[0.4444444444444444,\"#bd3786\"],[0.5555555555555556,\"#d8576b\"],[0.6666666666666666,\"#ed7953\"],[0.7777777777777778,\"#fb9f3a\"],[0.8888888888888888,\"#fdca26\"],[1.0,\"#f0f921\"]],\"type\":\"histogram2d\"}],\"histogram2dcontour\":[{\"colorbar\":{\"outlinewidth\":0,\"ticks\":\"\"},\"colorscale\":[[0.0,\"#0d0887\"],[0.1111111111111111,\"#46039f\"],[0.2222222222222222,\"#7201a8\"],[0.3333333333333333,\"#9c179e\"],[0.4444444444444444,\"#bd3786\"],[0.5555555555555556,\"#d8576b\"],[0.6666666666666666,\"#ed7953\"],[0.7777777777777778,\"#fb9f3a\"],[0.8888888888888888,\"#fdca26\"],[1.0,\"#f0f921\"]],\"type\":\"histogram2dcontour\"}],\"mesh3d\":[{\"colorbar\":{\"outlinewidth\":0,\"ticks\":\"\"},\"type\":\"mesh3d\"}],\"parcoords\":[{\"line\":{\"colorbar\":{\"outlinewidth\":0,\"ticks\":\"\"}},\"type\":\"parcoords\"}],\"pie\":[{\"automargin\":true,\"type\":\"pie\"}],\"scatter\":[{\"marker\":{\"colorbar\":{\"outlinewidth\":0,\"ticks\":\"\"}},\"type\":\"scatter\"}],\"scatter3d\":[{\"line\":{\"colorbar\":{\"outlinewidth\":0,\"ticks\":\"\"}},\"marker\":{\"colorbar\":{\"outlinewidth\":0,\"ticks\":\"\"}},\"type\":\"scatter3d\"}],\"scattercarpet\":[{\"marker\":{\"colorbar\":{\"outlinewidth\":0,\"ticks\":\"\"}},\"type\":\"scattercarpet\"}],\"scattergeo\":[{\"marker\":{\"colorbar\":{\"outlinewidth\":0,\"ticks\":\"\"}},\"type\":\"scattergeo\"}],\"scattergl\":[{\"marker\":{\"colorbar\":{\"outlinewidth\":0,\"ticks\":\"\"}},\"type\":\"scattergl\"}],\"scattermapbox\":[{\"marker\":{\"colorbar\":{\"outlinewidth\":0,\"ticks\":\"\"}},\"type\":\"scattermapbox\"}],\"scatterpolar\":[{\"marker\":{\"colorbar\":{\"outlinewidth\":0,\"ticks\":\"\"}},\"type\":\"scatterpolar\"}],\"scatterpolargl\":[{\"marker\":{\"colorbar\":{\"outlinewidth\":0,\"ticks\":\"\"}},\"type\":\"scatterpolargl\"}],\"scatterternary\":[{\"marker\":{\"colorbar\":{\"outlinewidth\":0,\"ticks\":\"\"}},\"type\":\"scatterternary\"}],\"surface\":[{\"colorbar\":{\"outlinewidth\":0,\"ticks\":\"\"},\"colorscale\":[[0.0,\"#0d0887\"],[0.1111111111111111,\"#46039f\"],[0.2222222222222222,\"#7201a8\"],[0.3333333333333333,\"#9c179e\"],[0.4444444444444444,\"#bd3786\"],[0.5555555555555556,\"#d8576b\"],[0.6666666666666666,\"#ed7953\"],[0.7777777777777778,\"#fb9f3a\"],[0.8888888888888888,\"#fdca26\"],[1.0,\"#f0f921\"]],\"type\":\"surface\"}],\"table\":[{\"cells\":{\"fill\":{\"color\":\"#EBF0F8\"},\"line\":{\"color\":\"white\"}},\"header\":{\"fill\":{\"color\":\"#C8D4E3\"},\"line\":{\"color\":\"white\"}},\"type\":\"table\"}]},\"layout\":{\"annotationdefaults\":{\"arrowcolor\":\"#2a3f5f\",\"arrowhead\":0,\"arrowwidth\":1},\"autotypenumbers\":\"strict\",\"coloraxis\":{\"colorbar\":{\"outlinewidth\":0,\"ticks\":\"\"}},\"colorscale\":{\"diverging\":[[0,\"#8e0152\"],[0.1,\"#c51b7d\"],[0.2,\"#de77ae\"],[0.3,\"#f1b6da\"],[0.4,\"#fde0ef\"],[0.5,\"#f7f7f7\"],[0.6,\"#e6f5d0\"],[0.7,\"#b8e186\"],[0.8,\"#7fbc41\"],[0.9,\"#4d9221\"],[1,\"#276419\"]],\"sequential\":[[0.0,\"#0d0887\"],[0.1111111111111111,\"#46039f\"],[0.2222222222222222,\"#7201a8\"],[0.3333333333333333,\"#9c179e\"],[0.4444444444444444,\"#bd3786\"],[0.5555555555555556,\"#d8576b\"],[0.6666666666666666,\"#ed7953\"],[0.7777777777777778,\"#fb9f3a\"],[0.8888888888888888,\"#fdca26\"],[1.0,\"#f0f921\"]],\"sequentialminus\":[[0.0,\"#0d0887\"],[0.1111111111111111,\"#46039f\"],[0.2222222222222222,\"#7201a8\"],[0.3333333333333333,\"#9c179e\"],[0.4444444444444444,\"#bd3786\"],[0.5555555555555556,\"#d8576b\"],[0.6666666666666666,\"#ed7953\"],[0.7777777777777778,\"#fb9f3a\"],[0.8888888888888888,\"#fdca26\"],[1.0,\"#f0f921\"]]},\"colorway\":[\"#636efa\",\"#EF553B\",\"#00cc96\",\"#ab63fa\",\"#FFA15A\",\"#19d3f3\",\"#FF6692\",\"#B6E880\",\"#FF97FF\",\"#FECB52\"],\"font\":{\"color\":\"#2a3f5f\"},\"geo\":{\"bgcolor\":\"white\",\"lakecolor\":\"white\",\"landcolor\":\"#E5ECF6\",\"showlakes\":true,\"showland\":true,\"subunitcolor\":\"white\"},\"hoverlabel\":{\"align\":\"left\"},\"hovermode\":\"closest\",\"mapbox\":{\"style\":\"light\"},\"paper_bgcolor\":\"white\",\"plot_bgcolor\":\"#E5ECF6\",\"polar\":{\"angularaxis\":{\"gridcolor\":\"white\",\"linecolor\":\"white\",\"ticks\":\"\"},\"bgcolor\":\"#E5ECF6\",\"radialaxis\":{\"gridcolor\":\"white\",\"linecolor\":\"white\",\"ticks\":\"\"}},\"scene\":{\"xaxis\":{\"backgroundcolor\":\"#E5ECF6\",\"gridcolor\":\"white\",\"gridwidth\":2,\"linecolor\":\"white\",\"showbackground\":true,\"ticks\":\"\",\"zerolinecolor\":\"white\"},\"yaxis\":{\"backgroundcolor\":\"#E5ECF6\",\"gridcolor\":\"white\",\"gridwidth\":2,\"linecolor\":\"white\",\"showbackground\":true,\"ticks\":\"\",\"zerolinecolor\":\"white\"},\"zaxis\":{\"backgroundcolor\":\"#E5ECF6\",\"gridcolor\":\"white\",\"gridwidth\":2,\"linecolor\":\"white\",\"showbackground\":true,\"ticks\":\"\",\"zerolinecolor\":\"white\"}},\"shapedefaults\":{\"line\":{\"color\":\"#2a3f5f\"}},\"ternary\":{\"aaxis\":{\"gridcolor\":\"white\",\"linecolor\":\"white\",\"ticks\":\"\"},\"baxis\":{\"gridcolor\":\"white\",\"linecolor\":\"white\",\"ticks\":\"\"},\"bgcolor\":\"#E5ECF6\",\"caxis\":{\"gridcolor\":\"white\",\"linecolor\":\"white\",\"ticks\":\"\"}},\"title\":{\"x\":0.05},\"xaxis\":{\"automargin\":true,\"gridcolor\":\"white\",\"linecolor\":\"white\",\"ticks\":\"\",\"title\":{\"standoff\":15},\"zerolinecolor\":\"white\",\"zerolinewidth\":2},\"yaxis\":{\"automargin\":true,\"gridcolor\":\"white\",\"linecolor\":\"white\",\"ticks\":\"\",\"title\":{\"standoff\":15},\"zerolinecolor\":\"white\",\"zerolinewidth\":2}}},\"title\":{\"text\":\"An\\u00e1lise Vendas/Porte\"},\"xaxis\":{\"anchor\":\"y\",\"domain\":[0.0,1.0],\"title\":{\"text\":\"Porte da Empresa\"}},\"yaxis\":{\"anchor\":\"x\",\"domain\":[0.0,1.0],\"title\":{\"text\":\"Quantidade de Vendas Realizadas\"}}},                        {\"responsive\": true}                    ).then(function(){\n",
       "                            \n",
       "var gd = document.getElementById('4c252f99-02e6-4662-bf61-34905bab53cb');\n",
       "var x = new MutationObserver(function (mutations, observer) {{\n",
       "        var display = window.getComputedStyle(gd).display;\n",
       "        if (!display || display === 'none') {{\n",
       "            console.log([gd, 'removed!']);\n",
       "            Plotly.purge(gd);\n",
       "            observer.disconnect();\n",
       "        }}\n",
       "}});\n",
       "\n",
       "// Listen for the removal of the full notebook cells\n",
       "var notebookContainer = gd.closest('#notebook-container');\n",
       "if (notebookContainer) {{\n",
       "    x.observe(notebookContainer, {childList: true});\n",
       "}}\n",
       "\n",
       "// Listen for the clearing of the current output cell\n",
       "var outputEl = gd.closest('.output');\n",
       "if (outputEl) {{\n",
       "    x.observe(outputEl, {childList: true});\n",
       "}}\n",
       "\n",
       "                        })                };                });            </script>        </div>"
      ]
     },
     "metadata": {},
     "output_type": "display_data"
    }
   ],
   "source": [
    "ax = venda[\"PORTE\"].value_counts().index\n",
    "ay = venda[\"PORTE\"].value_counts().values\n",
    "\n",
    "fig = px.bar(df1, x=ax, y=ay, labels={\n",
    "                     'x': \"Porte da Empresa\",\n",
    "                     'y': \"Quantidade de Vendas Realizadas\"}, title = 'Análise Vendas/Porte')\n",
    "fig.show()"
   ]
  },
  {
   "cell_type": "code",
   "execution_count": 185,
   "id": "0635b09f",
   "metadata": {},
   "outputs": [
    {
     "name": "stdout",
     "output_type": "stream",
     "text": [
      "72.22% das vendas foram efetuadas por empresas de até 50 funcionários! \n"
     ]
    }
   ],
   "source": [
    "a = (ay[0] + ay[1])\n",
    "b = a/(ay.sum()) * 100\n",
    "print(f'{b :.2f}% das vendas foram efetuadas por empresas de até 50 funcionários! ')"
   ]
  },
  {
   "cell_type": "markdown",
   "id": "93acbc1d",
   "metadata": {},
   "source": [
    "Analisando os leads convertidos pelo porte da empresa, podemos ver claramente que o produto é mais consumido **72.22% por empresas de até 50 funcionários**. o que enquadra em Empresa de Pequeno Porte (pela definição até 100 funcionários); "
   ]
  },
  {
   "cell_type": "code",
   "execution_count": 186,
   "id": "48e739ef",
   "metadata": {},
   "outputs": [
    {
     "name": "stdout",
     "output_type": "stream",
     "text": [
      "87.50% das vendas foram efetuadas por empresas de até 300 funcionários! \n"
     ]
    }
   ],
   "source": [
    "a = (ay[0] + ay[1] + ay[2])\n",
    "b = a/(ay.sum()) * 100\n",
    "print(f'{b :.2f}% das vendas foram efetuadas por empresas de até 300 funcionários! ')\n"
   ]
  },
  {
   "cell_type": "markdown",
   "id": "0b54833c",
   "metadata": {},
   "source": [
    "Se analisarmos as vendas para empresas de até 300 funcionários esse número chega a **87.50%**. "
   ]
  },
  {
   "cell_type": "code",
   "execution_count": 187,
   "id": "684a8225",
   "metadata": {},
   "outputs": [
    {
     "name": "stdout",
     "output_type": "stream",
     "text": [
      "45.83% das vendas foram efetuadas por empresas de até 10 funcionários! \n"
     ]
    }
   ],
   "source": [
    "b = ay[0]/ay.sum() * 100\n",
    "print(f'{b :.2f}% das vendas foram efetuadas por empresas de até 10 funcionários! ')"
   ]
  },
  {
   "cell_type": "markdown",
   "id": "17278277",
   "metadata": {},
   "source": [
    "**Mas o que mais chamou minha atenção foi o fato de quase metade das vendas ser feita para empresas de até 10 funcionários;** "
   ]
  },
  {
   "cell_type": "markdown",
   "id": "04f1d7ef",
   "metadata": {},
   "source": [
    "### Olhando para a origem de cada Lead: "
   ]
  },
  {
   "cell_type": "code",
   "execution_count": 188,
   "id": "fe7911cc",
   "metadata": {},
   "outputs": [
    {
     "data": {
      "application/vnd.plotly.v1+json": {
       "config": {
        "plotlyServerURL": "https://plot.ly"
       },
       "data": [
        {
         "alignmentgroup": "True",
         "hovertemplate": "Origem da Empresa=%{x}<br>Quantidade de Vendas Realizadas=%{y}<extra></extra>",
         "legendgroup": "",
         "marker": {
          "color": "#636efa",
          "pattern": {
           "shape": ""
          }
         },
         "name": "",
         "offsetgroup": "",
         "orientation": "v",
         "showlegend": false,
         "textposition": "auto",
         "type": "bar",
         "x": [
          "Google",
          "Orgânico",
          "Bing",
          "Indicação",
          "Inbound Marketing",
          "Leads",
          "Facebook",
          "email"
         ],
         "xaxis": "x",
         "y": [
          35,
          30,
          2,
          1,
          1,
          1,
          1,
          1
         ],
         "yaxis": "y"
        }
       ],
       "layout": {
        "barmode": "relative",
        "legend": {
         "tracegroupgap": 0
        },
        "margin": {
         "t": 60
        },
        "template": {
         "data": {
          "bar": [
           {
            "error_x": {
             "color": "#2a3f5f"
            },
            "error_y": {
             "color": "#2a3f5f"
            },
            "marker": {
             "line": {
              "color": "#E5ECF6",
              "width": 0.5
             },
             "pattern": {
              "fillmode": "overlay",
              "size": 10,
              "solidity": 0.2
             }
            },
            "type": "bar"
           }
          ],
          "barpolar": [
           {
            "marker": {
             "line": {
              "color": "#E5ECF6",
              "width": 0.5
             },
             "pattern": {
              "fillmode": "overlay",
              "size": 10,
              "solidity": 0.2
             }
            },
            "type": "barpolar"
           }
          ],
          "carpet": [
           {
            "aaxis": {
             "endlinecolor": "#2a3f5f",
             "gridcolor": "white",
             "linecolor": "white",
             "minorgridcolor": "white",
             "startlinecolor": "#2a3f5f"
            },
            "baxis": {
             "endlinecolor": "#2a3f5f",
             "gridcolor": "white",
             "linecolor": "white",
             "minorgridcolor": "white",
             "startlinecolor": "#2a3f5f"
            },
            "type": "carpet"
           }
          ],
          "choropleth": [
           {
            "colorbar": {
             "outlinewidth": 0,
             "ticks": ""
            },
            "type": "choropleth"
           }
          ],
          "contour": [
           {
            "colorbar": {
             "outlinewidth": 0,
             "ticks": ""
            },
            "colorscale": [
             [
              0,
              "#0d0887"
             ],
             [
              0.1111111111111111,
              "#46039f"
             ],
             [
              0.2222222222222222,
              "#7201a8"
             ],
             [
              0.3333333333333333,
              "#9c179e"
             ],
             [
              0.4444444444444444,
              "#bd3786"
             ],
             [
              0.5555555555555556,
              "#d8576b"
             ],
             [
              0.6666666666666666,
              "#ed7953"
             ],
             [
              0.7777777777777778,
              "#fb9f3a"
             ],
             [
              0.8888888888888888,
              "#fdca26"
             ],
             [
              1,
              "#f0f921"
             ]
            ],
            "type": "contour"
           }
          ],
          "contourcarpet": [
           {
            "colorbar": {
             "outlinewidth": 0,
             "ticks": ""
            },
            "type": "contourcarpet"
           }
          ],
          "heatmap": [
           {
            "colorbar": {
             "outlinewidth": 0,
             "ticks": ""
            },
            "colorscale": [
             [
              0,
              "#0d0887"
             ],
             [
              0.1111111111111111,
              "#46039f"
             ],
             [
              0.2222222222222222,
              "#7201a8"
             ],
             [
              0.3333333333333333,
              "#9c179e"
             ],
             [
              0.4444444444444444,
              "#bd3786"
             ],
             [
              0.5555555555555556,
              "#d8576b"
             ],
             [
              0.6666666666666666,
              "#ed7953"
             ],
             [
              0.7777777777777778,
              "#fb9f3a"
             ],
             [
              0.8888888888888888,
              "#fdca26"
             ],
             [
              1,
              "#f0f921"
             ]
            ],
            "type": "heatmap"
           }
          ],
          "heatmapgl": [
           {
            "colorbar": {
             "outlinewidth": 0,
             "ticks": ""
            },
            "colorscale": [
             [
              0,
              "#0d0887"
             ],
             [
              0.1111111111111111,
              "#46039f"
             ],
             [
              0.2222222222222222,
              "#7201a8"
             ],
             [
              0.3333333333333333,
              "#9c179e"
             ],
             [
              0.4444444444444444,
              "#bd3786"
             ],
             [
              0.5555555555555556,
              "#d8576b"
             ],
             [
              0.6666666666666666,
              "#ed7953"
             ],
             [
              0.7777777777777778,
              "#fb9f3a"
             ],
             [
              0.8888888888888888,
              "#fdca26"
             ],
             [
              1,
              "#f0f921"
             ]
            ],
            "type": "heatmapgl"
           }
          ],
          "histogram": [
           {
            "marker": {
             "pattern": {
              "fillmode": "overlay",
              "size": 10,
              "solidity": 0.2
             }
            },
            "type": "histogram"
           }
          ],
          "histogram2d": [
           {
            "colorbar": {
             "outlinewidth": 0,
             "ticks": ""
            },
            "colorscale": [
             [
              0,
              "#0d0887"
             ],
             [
              0.1111111111111111,
              "#46039f"
             ],
             [
              0.2222222222222222,
              "#7201a8"
             ],
             [
              0.3333333333333333,
              "#9c179e"
             ],
             [
              0.4444444444444444,
              "#bd3786"
             ],
             [
              0.5555555555555556,
              "#d8576b"
             ],
             [
              0.6666666666666666,
              "#ed7953"
             ],
             [
              0.7777777777777778,
              "#fb9f3a"
             ],
             [
              0.8888888888888888,
              "#fdca26"
             ],
             [
              1,
              "#f0f921"
             ]
            ],
            "type": "histogram2d"
           }
          ],
          "histogram2dcontour": [
           {
            "colorbar": {
             "outlinewidth": 0,
             "ticks": ""
            },
            "colorscale": [
             [
              0,
              "#0d0887"
             ],
             [
              0.1111111111111111,
              "#46039f"
             ],
             [
              0.2222222222222222,
              "#7201a8"
             ],
             [
              0.3333333333333333,
              "#9c179e"
             ],
             [
              0.4444444444444444,
              "#bd3786"
             ],
             [
              0.5555555555555556,
              "#d8576b"
             ],
             [
              0.6666666666666666,
              "#ed7953"
             ],
             [
              0.7777777777777778,
              "#fb9f3a"
             ],
             [
              0.8888888888888888,
              "#fdca26"
             ],
             [
              1,
              "#f0f921"
             ]
            ],
            "type": "histogram2dcontour"
           }
          ],
          "mesh3d": [
           {
            "colorbar": {
             "outlinewidth": 0,
             "ticks": ""
            },
            "type": "mesh3d"
           }
          ],
          "parcoords": [
           {
            "line": {
             "colorbar": {
              "outlinewidth": 0,
              "ticks": ""
             }
            },
            "type": "parcoords"
           }
          ],
          "pie": [
           {
            "automargin": true,
            "type": "pie"
           }
          ],
          "scatter": [
           {
            "marker": {
             "colorbar": {
              "outlinewidth": 0,
              "ticks": ""
             }
            },
            "type": "scatter"
           }
          ],
          "scatter3d": [
           {
            "line": {
             "colorbar": {
              "outlinewidth": 0,
              "ticks": ""
             }
            },
            "marker": {
             "colorbar": {
              "outlinewidth": 0,
              "ticks": ""
             }
            },
            "type": "scatter3d"
           }
          ],
          "scattercarpet": [
           {
            "marker": {
             "colorbar": {
              "outlinewidth": 0,
              "ticks": ""
             }
            },
            "type": "scattercarpet"
           }
          ],
          "scattergeo": [
           {
            "marker": {
             "colorbar": {
              "outlinewidth": 0,
              "ticks": ""
             }
            },
            "type": "scattergeo"
           }
          ],
          "scattergl": [
           {
            "marker": {
             "colorbar": {
              "outlinewidth": 0,
              "ticks": ""
             }
            },
            "type": "scattergl"
           }
          ],
          "scattermapbox": [
           {
            "marker": {
             "colorbar": {
              "outlinewidth": 0,
              "ticks": ""
             }
            },
            "type": "scattermapbox"
           }
          ],
          "scatterpolar": [
           {
            "marker": {
             "colorbar": {
              "outlinewidth": 0,
              "ticks": ""
             }
            },
            "type": "scatterpolar"
           }
          ],
          "scatterpolargl": [
           {
            "marker": {
             "colorbar": {
              "outlinewidth": 0,
              "ticks": ""
             }
            },
            "type": "scatterpolargl"
           }
          ],
          "scatterternary": [
           {
            "marker": {
             "colorbar": {
              "outlinewidth": 0,
              "ticks": ""
             }
            },
            "type": "scatterternary"
           }
          ],
          "surface": [
           {
            "colorbar": {
             "outlinewidth": 0,
             "ticks": ""
            },
            "colorscale": [
             [
              0,
              "#0d0887"
             ],
             [
              0.1111111111111111,
              "#46039f"
             ],
             [
              0.2222222222222222,
              "#7201a8"
             ],
             [
              0.3333333333333333,
              "#9c179e"
             ],
             [
              0.4444444444444444,
              "#bd3786"
             ],
             [
              0.5555555555555556,
              "#d8576b"
             ],
             [
              0.6666666666666666,
              "#ed7953"
             ],
             [
              0.7777777777777778,
              "#fb9f3a"
             ],
             [
              0.8888888888888888,
              "#fdca26"
             ],
             [
              1,
              "#f0f921"
             ]
            ],
            "type": "surface"
           }
          ],
          "table": [
           {
            "cells": {
             "fill": {
              "color": "#EBF0F8"
             },
             "line": {
              "color": "white"
             }
            },
            "header": {
             "fill": {
              "color": "#C8D4E3"
             },
             "line": {
              "color": "white"
             }
            },
            "type": "table"
           }
          ]
         },
         "layout": {
          "annotationdefaults": {
           "arrowcolor": "#2a3f5f",
           "arrowhead": 0,
           "arrowwidth": 1
          },
          "autotypenumbers": "strict",
          "coloraxis": {
           "colorbar": {
            "outlinewidth": 0,
            "ticks": ""
           }
          },
          "colorscale": {
           "diverging": [
            [
             0,
             "#8e0152"
            ],
            [
             0.1,
             "#c51b7d"
            ],
            [
             0.2,
             "#de77ae"
            ],
            [
             0.3,
             "#f1b6da"
            ],
            [
             0.4,
             "#fde0ef"
            ],
            [
             0.5,
             "#f7f7f7"
            ],
            [
             0.6,
             "#e6f5d0"
            ],
            [
             0.7,
             "#b8e186"
            ],
            [
             0.8,
             "#7fbc41"
            ],
            [
             0.9,
             "#4d9221"
            ],
            [
             1,
             "#276419"
            ]
           ],
           "sequential": [
            [
             0,
             "#0d0887"
            ],
            [
             0.1111111111111111,
             "#46039f"
            ],
            [
             0.2222222222222222,
             "#7201a8"
            ],
            [
             0.3333333333333333,
             "#9c179e"
            ],
            [
             0.4444444444444444,
             "#bd3786"
            ],
            [
             0.5555555555555556,
             "#d8576b"
            ],
            [
             0.6666666666666666,
             "#ed7953"
            ],
            [
             0.7777777777777778,
             "#fb9f3a"
            ],
            [
             0.8888888888888888,
             "#fdca26"
            ],
            [
             1,
             "#f0f921"
            ]
           ],
           "sequentialminus": [
            [
             0,
             "#0d0887"
            ],
            [
             0.1111111111111111,
             "#46039f"
            ],
            [
             0.2222222222222222,
             "#7201a8"
            ],
            [
             0.3333333333333333,
             "#9c179e"
            ],
            [
             0.4444444444444444,
             "#bd3786"
            ],
            [
             0.5555555555555556,
             "#d8576b"
            ],
            [
             0.6666666666666666,
             "#ed7953"
            ],
            [
             0.7777777777777778,
             "#fb9f3a"
            ],
            [
             0.8888888888888888,
             "#fdca26"
            ],
            [
             1,
             "#f0f921"
            ]
           ]
          },
          "colorway": [
           "#636efa",
           "#EF553B",
           "#00cc96",
           "#ab63fa",
           "#FFA15A",
           "#19d3f3",
           "#FF6692",
           "#B6E880",
           "#FF97FF",
           "#FECB52"
          ],
          "font": {
           "color": "#2a3f5f"
          },
          "geo": {
           "bgcolor": "white",
           "lakecolor": "white",
           "landcolor": "#E5ECF6",
           "showlakes": true,
           "showland": true,
           "subunitcolor": "white"
          },
          "hoverlabel": {
           "align": "left"
          },
          "hovermode": "closest",
          "mapbox": {
           "style": "light"
          },
          "paper_bgcolor": "white",
          "plot_bgcolor": "#E5ECF6",
          "polar": {
           "angularaxis": {
            "gridcolor": "white",
            "linecolor": "white",
            "ticks": ""
           },
           "bgcolor": "#E5ECF6",
           "radialaxis": {
            "gridcolor": "white",
            "linecolor": "white",
            "ticks": ""
           }
          },
          "scene": {
           "xaxis": {
            "backgroundcolor": "#E5ECF6",
            "gridcolor": "white",
            "gridwidth": 2,
            "linecolor": "white",
            "showbackground": true,
            "ticks": "",
            "zerolinecolor": "white"
           },
           "yaxis": {
            "backgroundcolor": "#E5ECF6",
            "gridcolor": "white",
            "gridwidth": 2,
            "linecolor": "white",
            "showbackground": true,
            "ticks": "",
            "zerolinecolor": "white"
           },
           "zaxis": {
            "backgroundcolor": "#E5ECF6",
            "gridcolor": "white",
            "gridwidth": 2,
            "linecolor": "white",
            "showbackground": true,
            "ticks": "",
            "zerolinecolor": "white"
           }
          },
          "shapedefaults": {
           "line": {
            "color": "#2a3f5f"
           }
          },
          "ternary": {
           "aaxis": {
            "gridcolor": "white",
            "linecolor": "white",
            "ticks": ""
           },
           "baxis": {
            "gridcolor": "white",
            "linecolor": "white",
            "ticks": ""
           },
           "bgcolor": "#E5ECF6",
           "caxis": {
            "gridcolor": "white",
            "linecolor": "white",
            "ticks": ""
           }
          },
          "title": {
           "x": 0.05
          },
          "xaxis": {
           "automargin": true,
           "gridcolor": "white",
           "linecolor": "white",
           "ticks": "",
           "title": {
            "standoff": 15
           },
           "zerolinecolor": "white",
           "zerolinewidth": 2
          },
          "yaxis": {
           "automargin": true,
           "gridcolor": "white",
           "linecolor": "white",
           "ticks": "",
           "title": {
            "standoff": 15
           },
           "zerolinecolor": "white",
           "zerolinewidth": 2
          }
         }
        },
        "xaxis": {
         "anchor": "y",
         "domain": [
          0,
          1
         ],
         "title": {
          "text": "Origem da Empresa"
         }
        },
        "yaxis": {
         "anchor": "x",
         "domain": [
          0,
          1
         ],
         "title": {
          "text": "Quantidade de Vendas Realizadas"
         }
        }
       }
      },
      "text/html": [
       "<div>                            <div id=\"3065de4c-2f38-41ad-a2db-790693e5eb8e\" class=\"plotly-graph-div\" style=\"height:525px; width:100%;\"></div>            <script type=\"text/javascript\">                require([\"plotly\"], function(Plotly) {                    window.PLOTLYENV=window.PLOTLYENV || {};                                    if (document.getElementById(\"3065de4c-2f38-41ad-a2db-790693e5eb8e\")) {                    Plotly.newPlot(                        \"3065de4c-2f38-41ad-a2db-790693e5eb8e\",                        [{\"alignmentgroup\":\"True\",\"hovertemplate\":\"Origem da Empresa=%{x}<br>Quantidade de Vendas Realizadas=%{y}<extra></extra>\",\"legendgroup\":\"\",\"marker\":{\"color\":\"#636efa\",\"pattern\":{\"shape\":\"\"}},\"name\":\"\",\"offsetgroup\":\"\",\"orientation\":\"v\",\"showlegend\":false,\"textposition\":\"auto\",\"type\":\"bar\",\"x\":[\"Google\",\"Org\\u00e2nico\",\"Bing\",\"Indica\\u00e7\\u00e3o\",\"Inbound Marketing\",\"Leads\",\"Facebook\",\"email\"],\"xaxis\":\"x\",\"y\":[35,30,2,1,1,1,1,1],\"yaxis\":\"y\"}],                        {\"barmode\":\"relative\",\"legend\":{\"tracegroupgap\":0},\"margin\":{\"t\":60},\"template\":{\"data\":{\"bar\":[{\"error_x\":{\"color\":\"#2a3f5f\"},\"error_y\":{\"color\":\"#2a3f5f\"},\"marker\":{\"line\":{\"color\":\"#E5ECF6\",\"width\":0.5},\"pattern\":{\"fillmode\":\"overlay\",\"size\":10,\"solidity\":0.2}},\"type\":\"bar\"}],\"barpolar\":[{\"marker\":{\"line\":{\"color\":\"#E5ECF6\",\"width\":0.5},\"pattern\":{\"fillmode\":\"overlay\",\"size\":10,\"solidity\":0.2}},\"type\":\"barpolar\"}],\"carpet\":[{\"aaxis\":{\"endlinecolor\":\"#2a3f5f\",\"gridcolor\":\"white\",\"linecolor\":\"white\",\"minorgridcolor\":\"white\",\"startlinecolor\":\"#2a3f5f\"},\"baxis\":{\"endlinecolor\":\"#2a3f5f\",\"gridcolor\":\"white\",\"linecolor\":\"white\",\"minorgridcolor\":\"white\",\"startlinecolor\":\"#2a3f5f\"},\"type\":\"carpet\"}],\"choropleth\":[{\"colorbar\":{\"outlinewidth\":0,\"ticks\":\"\"},\"type\":\"choropleth\"}],\"contour\":[{\"colorbar\":{\"outlinewidth\":0,\"ticks\":\"\"},\"colorscale\":[[0.0,\"#0d0887\"],[0.1111111111111111,\"#46039f\"],[0.2222222222222222,\"#7201a8\"],[0.3333333333333333,\"#9c179e\"],[0.4444444444444444,\"#bd3786\"],[0.5555555555555556,\"#d8576b\"],[0.6666666666666666,\"#ed7953\"],[0.7777777777777778,\"#fb9f3a\"],[0.8888888888888888,\"#fdca26\"],[1.0,\"#f0f921\"]],\"type\":\"contour\"}],\"contourcarpet\":[{\"colorbar\":{\"outlinewidth\":0,\"ticks\":\"\"},\"type\":\"contourcarpet\"}],\"heatmap\":[{\"colorbar\":{\"outlinewidth\":0,\"ticks\":\"\"},\"colorscale\":[[0.0,\"#0d0887\"],[0.1111111111111111,\"#46039f\"],[0.2222222222222222,\"#7201a8\"],[0.3333333333333333,\"#9c179e\"],[0.4444444444444444,\"#bd3786\"],[0.5555555555555556,\"#d8576b\"],[0.6666666666666666,\"#ed7953\"],[0.7777777777777778,\"#fb9f3a\"],[0.8888888888888888,\"#fdca26\"],[1.0,\"#f0f921\"]],\"type\":\"heatmap\"}],\"heatmapgl\":[{\"colorbar\":{\"outlinewidth\":0,\"ticks\":\"\"},\"colorscale\":[[0.0,\"#0d0887\"],[0.1111111111111111,\"#46039f\"],[0.2222222222222222,\"#7201a8\"],[0.3333333333333333,\"#9c179e\"],[0.4444444444444444,\"#bd3786\"],[0.5555555555555556,\"#d8576b\"],[0.6666666666666666,\"#ed7953\"],[0.7777777777777778,\"#fb9f3a\"],[0.8888888888888888,\"#fdca26\"],[1.0,\"#f0f921\"]],\"type\":\"heatmapgl\"}],\"histogram\":[{\"marker\":{\"pattern\":{\"fillmode\":\"overlay\",\"size\":10,\"solidity\":0.2}},\"type\":\"histogram\"}],\"histogram2d\":[{\"colorbar\":{\"outlinewidth\":0,\"ticks\":\"\"},\"colorscale\":[[0.0,\"#0d0887\"],[0.1111111111111111,\"#46039f\"],[0.2222222222222222,\"#7201a8\"],[0.3333333333333333,\"#9c179e\"],[0.4444444444444444,\"#bd3786\"],[0.5555555555555556,\"#d8576b\"],[0.6666666666666666,\"#ed7953\"],[0.7777777777777778,\"#fb9f3a\"],[0.8888888888888888,\"#fdca26\"],[1.0,\"#f0f921\"]],\"type\":\"histogram2d\"}],\"histogram2dcontour\":[{\"colorbar\":{\"outlinewidth\":0,\"ticks\":\"\"},\"colorscale\":[[0.0,\"#0d0887\"],[0.1111111111111111,\"#46039f\"],[0.2222222222222222,\"#7201a8\"],[0.3333333333333333,\"#9c179e\"],[0.4444444444444444,\"#bd3786\"],[0.5555555555555556,\"#d8576b\"],[0.6666666666666666,\"#ed7953\"],[0.7777777777777778,\"#fb9f3a\"],[0.8888888888888888,\"#fdca26\"],[1.0,\"#f0f921\"]],\"type\":\"histogram2dcontour\"}],\"mesh3d\":[{\"colorbar\":{\"outlinewidth\":0,\"ticks\":\"\"},\"type\":\"mesh3d\"}],\"parcoords\":[{\"line\":{\"colorbar\":{\"outlinewidth\":0,\"ticks\":\"\"}},\"type\":\"parcoords\"}],\"pie\":[{\"automargin\":true,\"type\":\"pie\"}],\"scatter\":[{\"marker\":{\"colorbar\":{\"outlinewidth\":0,\"ticks\":\"\"}},\"type\":\"scatter\"}],\"scatter3d\":[{\"line\":{\"colorbar\":{\"outlinewidth\":0,\"ticks\":\"\"}},\"marker\":{\"colorbar\":{\"outlinewidth\":0,\"ticks\":\"\"}},\"type\":\"scatter3d\"}],\"scattercarpet\":[{\"marker\":{\"colorbar\":{\"outlinewidth\":0,\"ticks\":\"\"}},\"type\":\"scattercarpet\"}],\"scattergeo\":[{\"marker\":{\"colorbar\":{\"outlinewidth\":0,\"ticks\":\"\"}},\"type\":\"scattergeo\"}],\"scattergl\":[{\"marker\":{\"colorbar\":{\"outlinewidth\":0,\"ticks\":\"\"}},\"type\":\"scattergl\"}],\"scattermapbox\":[{\"marker\":{\"colorbar\":{\"outlinewidth\":0,\"ticks\":\"\"}},\"type\":\"scattermapbox\"}],\"scatterpolar\":[{\"marker\":{\"colorbar\":{\"outlinewidth\":0,\"ticks\":\"\"}},\"type\":\"scatterpolar\"}],\"scatterpolargl\":[{\"marker\":{\"colorbar\":{\"outlinewidth\":0,\"ticks\":\"\"}},\"type\":\"scatterpolargl\"}],\"scatterternary\":[{\"marker\":{\"colorbar\":{\"outlinewidth\":0,\"ticks\":\"\"}},\"type\":\"scatterternary\"}],\"surface\":[{\"colorbar\":{\"outlinewidth\":0,\"ticks\":\"\"},\"colorscale\":[[0.0,\"#0d0887\"],[0.1111111111111111,\"#46039f\"],[0.2222222222222222,\"#7201a8\"],[0.3333333333333333,\"#9c179e\"],[0.4444444444444444,\"#bd3786\"],[0.5555555555555556,\"#d8576b\"],[0.6666666666666666,\"#ed7953\"],[0.7777777777777778,\"#fb9f3a\"],[0.8888888888888888,\"#fdca26\"],[1.0,\"#f0f921\"]],\"type\":\"surface\"}],\"table\":[{\"cells\":{\"fill\":{\"color\":\"#EBF0F8\"},\"line\":{\"color\":\"white\"}},\"header\":{\"fill\":{\"color\":\"#C8D4E3\"},\"line\":{\"color\":\"white\"}},\"type\":\"table\"}]},\"layout\":{\"annotationdefaults\":{\"arrowcolor\":\"#2a3f5f\",\"arrowhead\":0,\"arrowwidth\":1},\"autotypenumbers\":\"strict\",\"coloraxis\":{\"colorbar\":{\"outlinewidth\":0,\"ticks\":\"\"}},\"colorscale\":{\"diverging\":[[0,\"#8e0152\"],[0.1,\"#c51b7d\"],[0.2,\"#de77ae\"],[0.3,\"#f1b6da\"],[0.4,\"#fde0ef\"],[0.5,\"#f7f7f7\"],[0.6,\"#e6f5d0\"],[0.7,\"#b8e186\"],[0.8,\"#7fbc41\"],[0.9,\"#4d9221\"],[1,\"#276419\"]],\"sequential\":[[0.0,\"#0d0887\"],[0.1111111111111111,\"#46039f\"],[0.2222222222222222,\"#7201a8\"],[0.3333333333333333,\"#9c179e\"],[0.4444444444444444,\"#bd3786\"],[0.5555555555555556,\"#d8576b\"],[0.6666666666666666,\"#ed7953\"],[0.7777777777777778,\"#fb9f3a\"],[0.8888888888888888,\"#fdca26\"],[1.0,\"#f0f921\"]],\"sequentialminus\":[[0.0,\"#0d0887\"],[0.1111111111111111,\"#46039f\"],[0.2222222222222222,\"#7201a8\"],[0.3333333333333333,\"#9c179e\"],[0.4444444444444444,\"#bd3786\"],[0.5555555555555556,\"#d8576b\"],[0.6666666666666666,\"#ed7953\"],[0.7777777777777778,\"#fb9f3a\"],[0.8888888888888888,\"#fdca26\"],[1.0,\"#f0f921\"]]},\"colorway\":[\"#636efa\",\"#EF553B\",\"#00cc96\",\"#ab63fa\",\"#FFA15A\",\"#19d3f3\",\"#FF6692\",\"#B6E880\",\"#FF97FF\",\"#FECB52\"],\"font\":{\"color\":\"#2a3f5f\"},\"geo\":{\"bgcolor\":\"white\",\"lakecolor\":\"white\",\"landcolor\":\"#E5ECF6\",\"showlakes\":true,\"showland\":true,\"subunitcolor\":\"white\"},\"hoverlabel\":{\"align\":\"left\"},\"hovermode\":\"closest\",\"mapbox\":{\"style\":\"light\"},\"paper_bgcolor\":\"white\",\"plot_bgcolor\":\"#E5ECF6\",\"polar\":{\"angularaxis\":{\"gridcolor\":\"white\",\"linecolor\":\"white\",\"ticks\":\"\"},\"bgcolor\":\"#E5ECF6\",\"radialaxis\":{\"gridcolor\":\"white\",\"linecolor\":\"white\",\"ticks\":\"\"}},\"scene\":{\"xaxis\":{\"backgroundcolor\":\"#E5ECF6\",\"gridcolor\":\"white\",\"gridwidth\":2,\"linecolor\":\"white\",\"showbackground\":true,\"ticks\":\"\",\"zerolinecolor\":\"white\"},\"yaxis\":{\"backgroundcolor\":\"#E5ECF6\",\"gridcolor\":\"white\",\"gridwidth\":2,\"linecolor\":\"white\",\"showbackground\":true,\"ticks\":\"\",\"zerolinecolor\":\"white\"},\"zaxis\":{\"backgroundcolor\":\"#E5ECF6\",\"gridcolor\":\"white\",\"gridwidth\":2,\"linecolor\":\"white\",\"showbackground\":true,\"ticks\":\"\",\"zerolinecolor\":\"white\"}},\"shapedefaults\":{\"line\":{\"color\":\"#2a3f5f\"}},\"ternary\":{\"aaxis\":{\"gridcolor\":\"white\",\"linecolor\":\"white\",\"ticks\":\"\"},\"baxis\":{\"gridcolor\":\"white\",\"linecolor\":\"white\",\"ticks\":\"\"},\"bgcolor\":\"#E5ECF6\",\"caxis\":{\"gridcolor\":\"white\",\"linecolor\":\"white\",\"ticks\":\"\"}},\"title\":{\"x\":0.05},\"xaxis\":{\"automargin\":true,\"gridcolor\":\"white\",\"linecolor\":\"white\",\"ticks\":\"\",\"title\":{\"standoff\":15},\"zerolinecolor\":\"white\",\"zerolinewidth\":2},\"yaxis\":{\"automargin\":true,\"gridcolor\":\"white\",\"linecolor\":\"white\",\"ticks\":\"\",\"title\":{\"standoff\":15},\"zerolinecolor\":\"white\",\"zerolinewidth\":2}}},\"xaxis\":{\"anchor\":\"y\",\"domain\":[0.0,1.0],\"title\":{\"text\":\"Origem da Empresa\"}},\"yaxis\":{\"anchor\":\"x\",\"domain\":[0.0,1.0],\"title\":{\"text\":\"Quantidade de Vendas Realizadas\"}}},                        {\"responsive\": true}                    ).then(function(){\n",
       "                            \n",
       "var gd = document.getElementById('3065de4c-2f38-41ad-a2db-790693e5eb8e');\n",
       "var x = new MutationObserver(function (mutations, observer) {{\n",
       "        var display = window.getComputedStyle(gd).display;\n",
       "        if (!display || display === 'none') {{\n",
       "            console.log([gd, 'removed!']);\n",
       "            Plotly.purge(gd);\n",
       "            observer.disconnect();\n",
       "        }}\n",
       "}});\n",
       "\n",
       "// Listen for the removal of the full notebook cells\n",
       "var notebookContainer = gd.closest('#notebook-container');\n",
       "if (notebookContainer) {{\n",
       "    x.observe(notebookContainer, {childList: true});\n",
       "}}\n",
       "\n",
       "// Listen for the clearing of the current output cell\n",
       "var outputEl = gd.closest('.output');\n",
       "if (outputEl) {{\n",
       "    x.observe(outputEl, {childList: true});\n",
       "}}\n",
       "\n",
       "                        })                };                });            </script>        </div>"
      ]
     },
     "metadata": {},
     "output_type": "display_data"
    }
   ],
   "source": [
    "ax = venda[\"ORIGEM\"].value_counts().index\n",
    "ay = venda[\"ORIGEM\"].value_counts().values\n",
    "\n",
    "fig = px.bar(df1, x=ax, y=ay, labels={\n",
    "                     'x': \"Origem da Empresa\",\n",
    "                     'y': \"Quantidade de Vendas Realizadas\"\n",
    "                 })\n",
    "fig.show()"
   ]
  },
  {
   "cell_type": "markdown",
   "id": "0959cc8e",
   "metadata": {},
   "source": [
    "Neste gráfico fica bem demonstrado que o cliente que mais efetua a compra é o cliente que é **atingido por um anúncio pago 48.61%** ou ainda aquele que é atingido espontaneamente por um **post orgânico (41.67%)**! "
   ]
  },
  {
   "cell_type": "markdown",
   "id": "34614484",
   "metadata": {},
   "source": [
    "Partindo dessa ideia, tb é possível dizer que campanha nos trouxe esse cliente:"
   ]
  },
  {
   "cell_type": "code",
   "execution_count": 189,
   "id": "d7d47e0f",
   "metadata": {},
   "outputs": [
    {
     "data": {
      "application/vnd.plotly.v1+json": {
       "config": {
        "plotlyServerURL": "https://plot.ly"
       },
       "data": [
        {
         "alignmentgroup": "True",
         "hovertemplate": "Objeitvo da Campanha=%{x}<br>Quantidade de Vendas Realizadas=%{y}<extra></extra>",
         "legendgroup": "",
         "marker": {
          "color": "#636efa",
          "pattern": {
           "shape": ""
          }
         },
         "name": "",
         "offsetgroup": "",
         "orientation": "v",
         "showlegend": false,
         "textposition": "auto",
         "type": "bar",
         "x": [
          "Abertura/Expansão",
          "Ações de marketing/vendas",
          "Planejamento estratégico",
          "Consultoria",
          "Outro",
          "Geração de leads b2b"
         ],
         "xaxis": "x",
         "y": [
          36,
          9,
          9,
          8,
          4,
          4
         ],
         "yaxis": "y"
        }
       ],
       "layout": {
        "barmode": "relative",
        "legend": {
         "tracegroupgap": 0
        },
        "margin": {
         "t": 60
        },
        "template": {
         "data": {
          "bar": [
           {
            "error_x": {
             "color": "#2a3f5f"
            },
            "error_y": {
             "color": "#2a3f5f"
            },
            "marker": {
             "line": {
              "color": "#E5ECF6",
              "width": 0.5
             },
             "pattern": {
              "fillmode": "overlay",
              "size": 10,
              "solidity": 0.2
             }
            },
            "type": "bar"
           }
          ],
          "barpolar": [
           {
            "marker": {
             "line": {
              "color": "#E5ECF6",
              "width": 0.5
             },
             "pattern": {
              "fillmode": "overlay",
              "size": 10,
              "solidity": 0.2
             }
            },
            "type": "barpolar"
           }
          ],
          "carpet": [
           {
            "aaxis": {
             "endlinecolor": "#2a3f5f",
             "gridcolor": "white",
             "linecolor": "white",
             "minorgridcolor": "white",
             "startlinecolor": "#2a3f5f"
            },
            "baxis": {
             "endlinecolor": "#2a3f5f",
             "gridcolor": "white",
             "linecolor": "white",
             "minorgridcolor": "white",
             "startlinecolor": "#2a3f5f"
            },
            "type": "carpet"
           }
          ],
          "choropleth": [
           {
            "colorbar": {
             "outlinewidth": 0,
             "ticks": ""
            },
            "type": "choropleth"
           }
          ],
          "contour": [
           {
            "colorbar": {
             "outlinewidth": 0,
             "ticks": ""
            },
            "colorscale": [
             [
              0,
              "#0d0887"
             ],
             [
              0.1111111111111111,
              "#46039f"
             ],
             [
              0.2222222222222222,
              "#7201a8"
             ],
             [
              0.3333333333333333,
              "#9c179e"
             ],
             [
              0.4444444444444444,
              "#bd3786"
             ],
             [
              0.5555555555555556,
              "#d8576b"
             ],
             [
              0.6666666666666666,
              "#ed7953"
             ],
             [
              0.7777777777777778,
              "#fb9f3a"
             ],
             [
              0.8888888888888888,
              "#fdca26"
             ],
             [
              1,
              "#f0f921"
             ]
            ],
            "type": "contour"
           }
          ],
          "contourcarpet": [
           {
            "colorbar": {
             "outlinewidth": 0,
             "ticks": ""
            },
            "type": "contourcarpet"
           }
          ],
          "heatmap": [
           {
            "colorbar": {
             "outlinewidth": 0,
             "ticks": ""
            },
            "colorscale": [
             [
              0,
              "#0d0887"
             ],
             [
              0.1111111111111111,
              "#46039f"
             ],
             [
              0.2222222222222222,
              "#7201a8"
             ],
             [
              0.3333333333333333,
              "#9c179e"
             ],
             [
              0.4444444444444444,
              "#bd3786"
             ],
             [
              0.5555555555555556,
              "#d8576b"
             ],
             [
              0.6666666666666666,
              "#ed7953"
             ],
             [
              0.7777777777777778,
              "#fb9f3a"
             ],
             [
              0.8888888888888888,
              "#fdca26"
             ],
             [
              1,
              "#f0f921"
             ]
            ],
            "type": "heatmap"
           }
          ],
          "heatmapgl": [
           {
            "colorbar": {
             "outlinewidth": 0,
             "ticks": ""
            },
            "colorscale": [
             [
              0,
              "#0d0887"
             ],
             [
              0.1111111111111111,
              "#46039f"
             ],
             [
              0.2222222222222222,
              "#7201a8"
             ],
             [
              0.3333333333333333,
              "#9c179e"
             ],
             [
              0.4444444444444444,
              "#bd3786"
             ],
             [
              0.5555555555555556,
              "#d8576b"
             ],
             [
              0.6666666666666666,
              "#ed7953"
             ],
             [
              0.7777777777777778,
              "#fb9f3a"
             ],
             [
              0.8888888888888888,
              "#fdca26"
             ],
             [
              1,
              "#f0f921"
             ]
            ],
            "type": "heatmapgl"
           }
          ],
          "histogram": [
           {
            "marker": {
             "pattern": {
              "fillmode": "overlay",
              "size": 10,
              "solidity": 0.2
             }
            },
            "type": "histogram"
           }
          ],
          "histogram2d": [
           {
            "colorbar": {
             "outlinewidth": 0,
             "ticks": ""
            },
            "colorscale": [
             [
              0,
              "#0d0887"
             ],
             [
              0.1111111111111111,
              "#46039f"
             ],
             [
              0.2222222222222222,
              "#7201a8"
             ],
             [
              0.3333333333333333,
              "#9c179e"
             ],
             [
              0.4444444444444444,
              "#bd3786"
             ],
             [
              0.5555555555555556,
              "#d8576b"
             ],
             [
              0.6666666666666666,
              "#ed7953"
             ],
             [
              0.7777777777777778,
              "#fb9f3a"
             ],
             [
              0.8888888888888888,
              "#fdca26"
             ],
             [
              1,
              "#f0f921"
             ]
            ],
            "type": "histogram2d"
           }
          ],
          "histogram2dcontour": [
           {
            "colorbar": {
             "outlinewidth": 0,
             "ticks": ""
            },
            "colorscale": [
             [
              0,
              "#0d0887"
             ],
             [
              0.1111111111111111,
              "#46039f"
             ],
             [
              0.2222222222222222,
              "#7201a8"
             ],
             [
              0.3333333333333333,
              "#9c179e"
             ],
             [
              0.4444444444444444,
              "#bd3786"
             ],
             [
              0.5555555555555556,
              "#d8576b"
             ],
             [
              0.6666666666666666,
              "#ed7953"
             ],
             [
              0.7777777777777778,
              "#fb9f3a"
             ],
             [
              0.8888888888888888,
              "#fdca26"
             ],
             [
              1,
              "#f0f921"
             ]
            ],
            "type": "histogram2dcontour"
           }
          ],
          "mesh3d": [
           {
            "colorbar": {
             "outlinewidth": 0,
             "ticks": ""
            },
            "type": "mesh3d"
           }
          ],
          "parcoords": [
           {
            "line": {
             "colorbar": {
              "outlinewidth": 0,
              "ticks": ""
             }
            },
            "type": "parcoords"
           }
          ],
          "pie": [
           {
            "automargin": true,
            "type": "pie"
           }
          ],
          "scatter": [
           {
            "marker": {
             "colorbar": {
              "outlinewidth": 0,
              "ticks": ""
             }
            },
            "type": "scatter"
           }
          ],
          "scatter3d": [
           {
            "line": {
             "colorbar": {
              "outlinewidth": 0,
              "ticks": ""
             }
            },
            "marker": {
             "colorbar": {
              "outlinewidth": 0,
              "ticks": ""
             }
            },
            "type": "scatter3d"
           }
          ],
          "scattercarpet": [
           {
            "marker": {
             "colorbar": {
              "outlinewidth": 0,
              "ticks": ""
             }
            },
            "type": "scattercarpet"
           }
          ],
          "scattergeo": [
           {
            "marker": {
             "colorbar": {
              "outlinewidth": 0,
              "ticks": ""
             }
            },
            "type": "scattergeo"
           }
          ],
          "scattergl": [
           {
            "marker": {
             "colorbar": {
              "outlinewidth": 0,
              "ticks": ""
             }
            },
            "type": "scattergl"
           }
          ],
          "scattermapbox": [
           {
            "marker": {
             "colorbar": {
              "outlinewidth": 0,
              "ticks": ""
             }
            },
            "type": "scattermapbox"
           }
          ],
          "scatterpolar": [
           {
            "marker": {
             "colorbar": {
              "outlinewidth": 0,
              "ticks": ""
             }
            },
            "type": "scatterpolar"
           }
          ],
          "scatterpolargl": [
           {
            "marker": {
             "colorbar": {
              "outlinewidth": 0,
              "ticks": ""
             }
            },
            "type": "scatterpolargl"
           }
          ],
          "scatterternary": [
           {
            "marker": {
             "colorbar": {
              "outlinewidth": 0,
              "ticks": ""
             }
            },
            "type": "scatterternary"
           }
          ],
          "surface": [
           {
            "colorbar": {
             "outlinewidth": 0,
             "ticks": ""
            },
            "colorscale": [
             [
              0,
              "#0d0887"
             ],
             [
              0.1111111111111111,
              "#46039f"
             ],
             [
              0.2222222222222222,
              "#7201a8"
             ],
             [
              0.3333333333333333,
              "#9c179e"
             ],
             [
              0.4444444444444444,
              "#bd3786"
             ],
             [
              0.5555555555555556,
              "#d8576b"
             ],
             [
              0.6666666666666666,
              "#ed7953"
             ],
             [
              0.7777777777777778,
              "#fb9f3a"
             ],
             [
              0.8888888888888888,
              "#fdca26"
             ],
             [
              1,
              "#f0f921"
             ]
            ],
            "type": "surface"
           }
          ],
          "table": [
           {
            "cells": {
             "fill": {
              "color": "#EBF0F8"
             },
             "line": {
              "color": "white"
             }
            },
            "header": {
             "fill": {
              "color": "#C8D4E3"
             },
             "line": {
              "color": "white"
             }
            },
            "type": "table"
           }
          ]
         },
         "layout": {
          "annotationdefaults": {
           "arrowcolor": "#2a3f5f",
           "arrowhead": 0,
           "arrowwidth": 1
          },
          "autotypenumbers": "strict",
          "coloraxis": {
           "colorbar": {
            "outlinewidth": 0,
            "ticks": ""
           }
          },
          "colorscale": {
           "diverging": [
            [
             0,
             "#8e0152"
            ],
            [
             0.1,
             "#c51b7d"
            ],
            [
             0.2,
             "#de77ae"
            ],
            [
             0.3,
             "#f1b6da"
            ],
            [
             0.4,
             "#fde0ef"
            ],
            [
             0.5,
             "#f7f7f7"
            ],
            [
             0.6,
             "#e6f5d0"
            ],
            [
             0.7,
             "#b8e186"
            ],
            [
             0.8,
             "#7fbc41"
            ],
            [
             0.9,
             "#4d9221"
            ],
            [
             1,
             "#276419"
            ]
           ],
           "sequential": [
            [
             0,
             "#0d0887"
            ],
            [
             0.1111111111111111,
             "#46039f"
            ],
            [
             0.2222222222222222,
             "#7201a8"
            ],
            [
             0.3333333333333333,
             "#9c179e"
            ],
            [
             0.4444444444444444,
             "#bd3786"
            ],
            [
             0.5555555555555556,
             "#d8576b"
            ],
            [
             0.6666666666666666,
             "#ed7953"
            ],
            [
             0.7777777777777778,
             "#fb9f3a"
            ],
            [
             0.8888888888888888,
             "#fdca26"
            ],
            [
             1,
             "#f0f921"
            ]
           ],
           "sequentialminus": [
            [
             0,
             "#0d0887"
            ],
            [
             0.1111111111111111,
             "#46039f"
            ],
            [
             0.2222222222222222,
             "#7201a8"
            ],
            [
             0.3333333333333333,
             "#9c179e"
            ],
            [
             0.4444444444444444,
             "#bd3786"
            ],
            [
             0.5555555555555556,
             "#d8576b"
            ],
            [
             0.6666666666666666,
             "#ed7953"
            ],
            [
             0.7777777777777778,
             "#fb9f3a"
            ],
            [
             0.8888888888888888,
             "#fdca26"
            ],
            [
             1,
             "#f0f921"
            ]
           ]
          },
          "colorway": [
           "#636efa",
           "#EF553B",
           "#00cc96",
           "#ab63fa",
           "#FFA15A",
           "#19d3f3",
           "#FF6692",
           "#B6E880",
           "#FF97FF",
           "#FECB52"
          ],
          "font": {
           "color": "#2a3f5f"
          },
          "geo": {
           "bgcolor": "white",
           "lakecolor": "white",
           "landcolor": "#E5ECF6",
           "showlakes": true,
           "showland": true,
           "subunitcolor": "white"
          },
          "hoverlabel": {
           "align": "left"
          },
          "hovermode": "closest",
          "mapbox": {
           "style": "light"
          },
          "paper_bgcolor": "white",
          "plot_bgcolor": "#E5ECF6",
          "polar": {
           "angularaxis": {
            "gridcolor": "white",
            "linecolor": "white",
            "ticks": ""
           },
           "bgcolor": "#E5ECF6",
           "radialaxis": {
            "gridcolor": "white",
            "linecolor": "white",
            "ticks": ""
           }
          },
          "scene": {
           "xaxis": {
            "backgroundcolor": "#E5ECF6",
            "gridcolor": "white",
            "gridwidth": 2,
            "linecolor": "white",
            "showbackground": true,
            "ticks": "",
            "zerolinecolor": "white"
           },
           "yaxis": {
            "backgroundcolor": "#E5ECF6",
            "gridcolor": "white",
            "gridwidth": 2,
            "linecolor": "white",
            "showbackground": true,
            "ticks": "",
            "zerolinecolor": "white"
           },
           "zaxis": {
            "backgroundcolor": "#E5ECF6",
            "gridcolor": "white",
            "gridwidth": 2,
            "linecolor": "white",
            "showbackground": true,
            "ticks": "",
            "zerolinecolor": "white"
           }
          },
          "shapedefaults": {
           "line": {
            "color": "#2a3f5f"
           }
          },
          "ternary": {
           "aaxis": {
            "gridcolor": "white",
            "linecolor": "white",
            "ticks": ""
           },
           "baxis": {
            "gridcolor": "white",
            "linecolor": "white",
            "ticks": ""
           },
           "bgcolor": "#E5ECF6",
           "caxis": {
            "gridcolor": "white",
            "linecolor": "white",
            "ticks": ""
           }
          },
          "title": {
           "x": 0.05
          },
          "xaxis": {
           "automargin": true,
           "gridcolor": "white",
           "linecolor": "white",
           "ticks": "",
           "title": {
            "standoff": 15
           },
           "zerolinecolor": "white",
           "zerolinewidth": 2
          },
          "yaxis": {
           "automargin": true,
           "gridcolor": "white",
           "linecolor": "white",
           "ticks": "",
           "title": {
            "standoff": 15
           },
           "zerolinecolor": "white",
           "zerolinewidth": 2
          }
         }
        },
        "xaxis": {
         "anchor": "y",
         "domain": [
          0,
          1
         ],
         "title": {
          "text": "Objeitvo da Campanha"
         }
        },
        "yaxis": {
         "anchor": "x",
         "domain": [
          0,
          1
         ],
         "title": {
          "text": "Quantidade de Vendas Realizadas"
         }
        }
       }
      },
      "text/html": [
       "<div>                            <div id=\"5d069e99-445c-4095-9395-212f32ab14b7\" class=\"plotly-graph-div\" style=\"height:525px; width:100%;\"></div>            <script type=\"text/javascript\">                require([\"plotly\"], function(Plotly) {                    window.PLOTLYENV=window.PLOTLYENV || {};                                    if (document.getElementById(\"5d069e99-445c-4095-9395-212f32ab14b7\")) {                    Plotly.newPlot(                        \"5d069e99-445c-4095-9395-212f32ab14b7\",                        [{\"alignmentgroup\":\"True\",\"hovertemplate\":\"Objeitvo da Campanha=%{x}<br>Quantidade de Vendas Realizadas=%{y}<extra></extra>\",\"legendgroup\":\"\",\"marker\":{\"color\":\"#636efa\",\"pattern\":{\"shape\":\"\"}},\"name\":\"\",\"offsetgroup\":\"\",\"orientation\":\"v\",\"showlegend\":false,\"textposition\":\"auto\",\"type\":\"bar\",\"x\":[\"Abertura/Expans\\u00e3o\",\"A\\u00e7\\u00f5es de marketing/vendas\",\"Planejamento estrat\\u00e9gico\",\"Consultoria\",\"Outro\",\"Gera\\u00e7\\u00e3o de leads b2b\"],\"xaxis\":\"x\",\"y\":[36,9,9,8,4,4],\"yaxis\":\"y\"}],                        {\"barmode\":\"relative\",\"legend\":{\"tracegroupgap\":0},\"margin\":{\"t\":60},\"template\":{\"data\":{\"bar\":[{\"error_x\":{\"color\":\"#2a3f5f\"},\"error_y\":{\"color\":\"#2a3f5f\"},\"marker\":{\"line\":{\"color\":\"#E5ECF6\",\"width\":0.5},\"pattern\":{\"fillmode\":\"overlay\",\"size\":10,\"solidity\":0.2}},\"type\":\"bar\"}],\"barpolar\":[{\"marker\":{\"line\":{\"color\":\"#E5ECF6\",\"width\":0.5},\"pattern\":{\"fillmode\":\"overlay\",\"size\":10,\"solidity\":0.2}},\"type\":\"barpolar\"}],\"carpet\":[{\"aaxis\":{\"endlinecolor\":\"#2a3f5f\",\"gridcolor\":\"white\",\"linecolor\":\"white\",\"minorgridcolor\":\"white\",\"startlinecolor\":\"#2a3f5f\"},\"baxis\":{\"endlinecolor\":\"#2a3f5f\",\"gridcolor\":\"white\",\"linecolor\":\"white\",\"minorgridcolor\":\"white\",\"startlinecolor\":\"#2a3f5f\"},\"type\":\"carpet\"}],\"choropleth\":[{\"colorbar\":{\"outlinewidth\":0,\"ticks\":\"\"},\"type\":\"choropleth\"}],\"contour\":[{\"colorbar\":{\"outlinewidth\":0,\"ticks\":\"\"},\"colorscale\":[[0.0,\"#0d0887\"],[0.1111111111111111,\"#46039f\"],[0.2222222222222222,\"#7201a8\"],[0.3333333333333333,\"#9c179e\"],[0.4444444444444444,\"#bd3786\"],[0.5555555555555556,\"#d8576b\"],[0.6666666666666666,\"#ed7953\"],[0.7777777777777778,\"#fb9f3a\"],[0.8888888888888888,\"#fdca26\"],[1.0,\"#f0f921\"]],\"type\":\"contour\"}],\"contourcarpet\":[{\"colorbar\":{\"outlinewidth\":0,\"ticks\":\"\"},\"type\":\"contourcarpet\"}],\"heatmap\":[{\"colorbar\":{\"outlinewidth\":0,\"ticks\":\"\"},\"colorscale\":[[0.0,\"#0d0887\"],[0.1111111111111111,\"#46039f\"],[0.2222222222222222,\"#7201a8\"],[0.3333333333333333,\"#9c179e\"],[0.4444444444444444,\"#bd3786\"],[0.5555555555555556,\"#d8576b\"],[0.6666666666666666,\"#ed7953\"],[0.7777777777777778,\"#fb9f3a\"],[0.8888888888888888,\"#fdca26\"],[1.0,\"#f0f921\"]],\"type\":\"heatmap\"}],\"heatmapgl\":[{\"colorbar\":{\"outlinewidth\":0,\"ticks\":\"\"},\"colorscale\":[[0.0,\"#0d0887\"],[0.1111111111111111,\"#46039f\"],[0.2222222222222222,\"#7201a8\"],[0.3333333333333333,\"#9c179e\"],[0.4444444444444444,\"#bd3786\"],[0.5555555555555556,\"#d8576b\"],[0.6666666666666666,\"#ed7953\"],[0.7777777777777778,\"#fb9f3a\"],[0.8888888888888888,\"#fdca26\"],[1.0,\"#f0f921\"]],\"type\":\"heatmapgl\"}],\"histogram\":[{\"marker\":{\"pattern\":{\"fillmode\":\"overlay\",\"size\":10,\"solidity\":0.2}},\"type\":\"histogram\"}],\"histogram2d\":[{\"colorbar\":{\"outlinewidth\":0,\"ticks\":\"\"},\"colorscale\":[[0.0,\"#0d0887\"],[0.1111111111111111,\"#46039f\"],[0.2222222222222222,\"#7201a8\"],[0.3333333333333333,\"#9c179e\"],[0.4444444444444444,\"#bd3786\"],[0.5555555555555556,\"#d8576b\"],[0.6666666666666666,\"#ed7953\"],[0.7777777777777778,\"#fb9f3a\"],[0.8888888888888888,\"#fdca26\"],[1.0,\"#f0f921\"]],\"type\":\"histogram2d\"}],\"histogram2dcontour\":[{\"colorbar\":{\"outlinewidth\":0,\"ticks\":\"\"},\"colorscale\":[[0.0,\"#0d0887\"],[0.1111111111111111,\"#46039f\"],[0.2222222222222222,\"#7201a8\"],[0.3333333333333333,\"#9c179e\"],[0.4444444444444444,\"#bd3786\"],[0.5555555555555556,\"#d8576b\"],[0.6666666666666666,\"#ed7953\"],[0.7777777777777778,\"#fb9f3a\"],[0.8888888888888888,\"#fdca26\"],[1.0,\"#f0f921\"]],\"type\":\"histogram2dcontour\"}],\"mesh3d\":[{\"colorbar\":{\"outlinewidth\":0,\"ticks\":\"\"},\"type\":\"mesh3d\"}],\"parcoords\":[{\"line\":{\"colorbar\":{\"outlinewidth\":0,\"ticks\":\"\"}},\"type\":\"parcoords\"}],\"pie\":[{\"automargin\":true,\"type\":\"pie\"}],\"scatter\":[{\"marker\":{\"colorbar\":{\"outlinewidth\":0,\"ticks\":\"\"}},\"type\":\"scatter\"}],\"scatter3d\":[{\"line\":{\"colorbar\":{\"outlinewidth\":0,\"ticks\":\"\"}},\"marker\":{\"colorbar\":{\"outlinewidth\":0,\"ticks\":\"\"}},\"type\":\"scatter3d\"}],\"scattercarpet\":[{\"marker\":{\"colorbar\":{\"outlinewidth\":0,\"ticks\":\"\"}},\"type\":\"scattercarpet\"}],\"scattergeo\":[{\"marker\":{\"colorbar\":{\"outlinewidth\":0,\"ticks\":\"\"}},\"type\":\"scattergeo\"}],\"scattergl\":[{\"marker\":{\"colorbar\":{\"outlinewidth\":0,\"ticks\":\"\"}},\"type\":\"scattergl\"}],\"scattermapbox\":[{\"marker\":{\"colorbar\":{\"outlinewidth\":0,\"ticks\":\"\"}},\"type\":\"scattermapbox\"}],\"scatterpolar\":[{\"marker\":{\"colorbar\":{\"outlinewidth\":0,\"ticks\":\"\"}},\"type\":\"scatterpolar\"}],\"scatterpolargl\":[{\"marker\":{\"colorbar\":{\"outlinewidth\":0,\"ticks\":\"\"}},\"type\":\"scatterpolargl\"}],\"scatterternary\":[{\"marker\":{\"colorbar\":{\"outlinewidth\":0,\"ticks\":\"\"}},\"type\":\"scatterternary\"}],\"surface\":[{\"colorbar\":{\"outlinewidth\":0,\"ticks\":\"\"},\"colorscale\":[[0.0,\"#0d0887\"],[0.1111111111111111,\"#46039f\"],[0.2222222222222222,\"#7201a8\"],[0.3333333333333333,\"#9c179e\"],[0.4444444444444444,\"#bd3786\"],[0.5555555555555556,\"#d8576b\"],[0.6666666666666666,\"#ed7953\"],[0.7777777777777778,\"#fb9f3a\"],[0.8888888888888888,\"#fdca26\"],[1.0,\"#f0f921\"]],\"type\":\"surface\"}],\"table\":[{\"cells\":{\"fill\":{\"color\":\"#EBF0F8\"},\"line\":{\"color\":\"white\"}},\"header\":{\"fill\":{\"color\":\"#C8D4E3\"},\"line\":{\"color\":\"white\"}},\"type\":\"table\"}]},\"layout\":{\"annotationdefaults\":{\"arrowcolor\":\"#2a3f5f\",\"arrowhead\":0,\"arrowwidth\":1},\"autotypenumbers\":\"strict\",\"coloraxis\":{\"colorbar\":{\"outlinewidth\":0,\"ticks\":\"\"}},\"colorscale\":{\"diverging\":[[0,\"#8e0152\"],[0.1,\"#c51b7d\"],[0.2,\"#de77ae\"],[0.3,\"#f1b6da\"],[0.4,\"#fde0ef\"],[0.5,\"#f7f7f7\"],[0.6,\"#e6f5d0\"],[0.7,\"#b8e186\"],[0.8,\"#7fbc41\"],[0.9,\"#4d9221\"],[1,\"#276419\"]],\"sequential\":[[0.0,\"#0d0887\"],[0.1111111111111111,\"#46039f\"],[0.2222222222222222,\"#7201a8\"],[0.3333333333333333,\"#9c179e\"],[0.4444444444444444,\"#bd3786\"],[0.5555555555555556,\"#d8576b\"],[0.6666666666666666,\"#ed7953\"],[0.7777777777777778,\"#fb9f3a\"],[0.8888888888888888,\"#fdca26\"],[1.0,\"#f0f921\"]],\"sequentialminus\":[[0.0,\"#0d0887\"],[0.1111111111111111,\"#46039f\"],[0.2222222222222222,\"#7201a8\"],[0.3333333333333333,\"#9c179e\"],[0.4444444444444444,\"#bd3786\"],[0.5555555555555556,\"#d8576b\"],[0.6666666666666666,\"#ed7953\"],[0.7777777777777778,\"#fb9f3a\"],[0.8888888888888888,\"#fdca26\"],[1.0,\"#f0f921\"]]},\"colorway\":[\"#636efa\",\"#EF553B\",\"#00cc96\",\"#ab63fa\",\"#FFA15A\",\"#19d3f3\",\"#FF6692\",\"#B6E880\",\"#FF97FF\",\"#FECB52\"],\"font\":{\"color\":\"#2a3f5f\"},\"geo\":{\"bgcolor\":\"white\",\"lakecolor\":\"white\",\"landcolor\":\"#E5ECF6\",\"showlakes\":true,\"showland\":true,\"subunitcolor\":\"white\"},\"hoverlabel\":{\"align\":\"left\"},\"hovermode\":\"closest\",\"mapbox\":{\"style\":\"light\"},\"paper_bgcolor\":\"white\",\"plot_bgcolor\":\"#E5ECF6\",\"polar\":{\"angularaxis\":{\"gridcolor\":\"white\",\"linecolor\":\"white\",\"ticks\":\"\"},\"bgcolor\":\"#E5ECF6\",\"radialaxis\":{\"gridcolor\":\"white\",\"linecolor\":\"white\",\"ticks\":\"\"}},\"scene\":{\"xaxis\":{\"backgroundcolor\":\"#E5ECF6\",\"gridcolor\":\"white\",\"gridwidth\":2,\"linecolor\":\"white\",\"showbackground\":true,\"ticks\":\"\",\"zerolinecolor\":\"white\"},\"yaxis\":{\"backgroundcolor\":\"#E5ECF6\",\"gridcolor\":\"white\",\"gridwidth\":2,\"linecolor\":\"white\",\"showbackground\":true,\"ticks\":\"\",\"zerolinecolor\":\"white\"},\"zaxis\":{\"backgroundcolor\":\"#E5ECF6\",\"gridcolor\":\"white\",\"gridwidth\":2,\"linecolor\":\"white\",\"showbackground\":true,\"ticks\":\"\",\"zerolinecolor\":\"white\"}},\"shapedefaults\":{\"line\":{\"color\":\"#2a3f5f\"}},\"ternary\":{\"aaxis\":{\"gridcolor\":\"white\",\"linecolor\":\"white\",\"ticks\":\"\"},\"baxis\":{\"gridcolor\":\"white\",\"linecolor\":\"white\",\"ticks\":\"\"},\"bgcolor\":\"#E5ECF6\",\"caxis\":{\"gridcolor\":\"white\",\"linecolor\":\"white\",\"ticks\":\"\"}},\"title\":{\"x\":0.05},\"xaxis\":{\"automargin\":true,\"gridcolor\":\"white\",\"linecolor\":\"white\",\"ticks\":\"\",\"title\":{\"standoff\":15},\"zerolinecolor\":\"white\",\"zerolinewidth\":2},\"yaxis\":{\"automargin\":true,\"gridcolor\":\"white\",\"linecolor\":\"white\",\"ticks\":\"\",\"title\":{\"standoff\":15},\"zerolinecolor\":\"white\",\"zerolinewidth\":2}}},\"xaxis\":{\"anchor\":\"y\",\"domain\":[0.0,1.0],\"title\":{\"text\":\"Objeitvo da Campanha\"}},\"yaxis\":{\"anchor\":\"x\",\"domain\":[0.0,1.0],\"title\":{\"text\":\"Quantidade de Vendas Realizadas\"}}},                        {\"responsive\": true}                    ).then(function(){\n",
       "                            \n",
       "var gd = document.getElementById('5d069e99-445c-4095-9395-212f32ab14b7');\n",
       "var x = new MutationObserver(function (mutations, observer) {{\n",
       "        var display = window.getComputedStyle(gd).display;\n",
       "        if (!display || display === 'none') {{\n",
       "            console.log([gd, 'removed!']);\n",
       "            Plotly.purge(gd);\n",
       "            observer.disconnect();\n",
       "        }}\n",
       "}});\n",
       "\n",
       "// Listen for the removal of the full notebook cells\n",
       "var notebookContainer = gd.closest('#notebook-container');\n",
       "if (notebookContainer) {{\n",
       "    x.observe(notebookContainer, {childList: true});\n",
       "}}\n",
       "\n",
       "// Listen for the clearing of the current output cell\n",
       "var outputEl = gd.closest('.output');\n",
       "if (outputEl) {{\n",
       "    x.observe(outputEl, {childList: true});\n",
       "}}\n",
       "\n",
       "                        })                };                });            </script>        </div>"
      ]
     },
     "metadata": {},
     "output_type": "display_data"
    }
   ],
   "source": [
    "ax = venda[\"OBJETIVO\"].value_counts().index\n",
    "ay = venda[\"OBJETIVO\"].value_counts().values\n",
    "\n",
    "fig = px.bar(df, x=ax, y=ay, labels={\n",
    "                     'x': \"Objeitvo da Campanha\",\n",
    "                     'y': \"Quantidade de Vendas Realizadas\"\n",
    "                 })\n",
    "fig.show()"
   ]
  },
  {
   "cell_type": "markdown",
   "id": "03b3ef91",
   "metadata": {},
   "source": [
    "As campanhas de abertura foram as que mais trouxeram clientes, abrange 50% das vendas! "
   ]
  },
  {
   "cell_type": "markdown",
   "id": "fa48152f",
   "metadata": {},
   "source": [
    "### Entendendo o Mercado do Nosso Público: "
   ]
  },
  {
   "cell_type": "code",
   "execution_count": 190,
   "id": "8a25961e",
   "metadata": {},
   "outputs": [
    {
     "data": {
      "application/vnd.plotly.v1+json": {
       "config": {
        "plotlyServerURL": "https://plot.ly"
       },
       "data": [
        {
         "alignmentgroup": "True",
         "hovertemplate": "Mercado=%{x}<br>Quantidade de Vendas Realizadas=%{y}<extra></extra>",
         "legendgroup": "",
         "marker": {
          "color": "#636efa",
          "pattern": {
           "shape": ""
          }
         },
         "name": "",
         "offsetgroup": "",
         "orientation": "v",
         "showlegend": false,
         "textposition": "auto",
         "type": "bar",
         "x": [
          "Servicos",
          "Franqueadora",
          "Empreendedor",
          "Varejo",
          "Marketing/Publicidade/Consultoria",
          "Industria",
          "Tecnologia",
          "Imobiliaria/Incorporadora/Construtora"
         ],
         "xaxis": "x",
         "y": [
          16,
          12,
          10,
          9,
          9,
          6,
          5,
          3
         ],
         "yaxis": "y"
        }
       ],
       "layout": {
        "barmode": "relative",
        "legend": {
         "tracegroupgap": 0
        },
        "margin": {
         "t": 60
        },
        "template": {
         "data": {
          "bar": [
           {
            "error_x": {
             "color": "#2a3f5f"
            },
            "error_y": {
             "color": "#2a3f5f"
            },
            "marker": {
             "line": {
              "color": "#E5ECF6",
              "width": 0.5
             },
             "pattern": {
              "fillmode": "overlay",
              "size": 10,
              "solidity": 0.2
             }
            },
            "type": "bar"
           }
          ],
          "barpolar": [
           {
            "marker": {
             "line": {
              "color": "#E5ECF6",
              "width": 0.5
             },
             "pattern": {
              "fillmode": "overlay",
              "size": 10,
              "solidity": 0.2
             }
            },
            "type": "barpolar"
           }
          ],
          "carpet": [
           {
            "aaxis": {
             "endlinecolor": "#2a3f5f",
             "gridcolor": "white",
             "linecolor": "white",
             "minorgridcolor": "white",
             "startlinecolor": "#2a3f5f"
            },
            "baxis": {
             "endlinecolor": "#2a3f5f",
             "gridcolor": "white",
             "linecolor": "white",
             "minorgridcolor": "white",
             "startlinecolor": "#2a3f5f"
            },
            "type": "carpet"
           }
          ],
          "choropleth": [
           {
            "colorbar": {
             "outlinewidth": 0,
             "ticks": ""
            },
            "type": "choropleth"
           }
          ],
          "contour": [
           {
            "colorbar": {
             "outlinewidth": 0,
             "ticks": ""
            },
            "colorscale": [
             [
              0,
              "#0d0887"
             ],
             [
              0.1111111111111111,
              "#46039f"
             ],
             [
              0.2222222222222222,
              "#7201a8"
             ],
             [
              0.3333333333333333,
              "#9c179e"
             ],
             [
              0.4444444444444444,
              "#bd3786"
             ],
             [
              0.5555555555555556,
              "#d8576b"
             ],
             [
              0.6666666666666666,
              "#ed7953"
             ],
             [
              0.7777777777777778,
              "#fb9f3a"
             ],
             [
              0.8888888888888888,
              "#fdca26"
             ],
             [
              1,
              "#f0f921"
             ]
            ],
            "type": "contour"
           }
          ],
          "contourcarpet": [
           {
            "colorbar": {
             "outlinewidth": 0,
             "ticks": ""
            },
            "type": "contourcarpet"
           }
          ],
          "heatmap": [
           {
            "colorbar": {
             "outlinewidth": 0,
             "ticks": ""
            },
            "colorscale": [
             [
              0,
              "#0d0887"
             ],
             [
              0.1111111111111111,
              "#46039f"
             ],
             [
              0.2222222222222222,
              "#7201a8"
             ],
             [
              0.3333333333333333,
              "#9c179e"
             ],
             [
              0.4444444444444444,
              "#bd3786"
             ],
             [
              0.5555555555555556,
              "#d8576b"
             ],
             [
              0.6666666666666666,
              "#ed7953"
             ],
             [
              0.7777777777777778,
              "#fb9f3a"
             ],
             [
              0.8888888888888888,
              "#fdca26"
             ],
             [
              1,
              "#f0f921"
             ]
            ],
            "type": "heatmap"
           }
          ],
          "heatmapgl": [
           {
            "colorbar": {
             "outlinewidth": 0,
             "ticks": ""
            },
            "colorscale": [
             [
              0,
              "#0d0887"
             ],
             [
              0.1111111111111111,
              "#46039f"
             ],
             [
              0.2222222222222222,
              "#7201a8"
             ],
             [
              0.3333333333333333,
              "#9c179e"
             ],
             [
              0.4444444444444444,
              "#bd3786"
             ],
             [
              0.5555555555555556,
              "#d8576b"
             ],
             [
              0.6666666666666666,
              "#ed7953"
             ],
             [
              0.7777777777777778,
              "#fb9f3a"
             ],
             [
              0.8888888888888888,
              "#fdca26"
             ],
             [
              1,
              "#f0f921"
             ]
            ],
            "type": "heatmapgl"
           }
          ],
          "histogram": [
           {
            "marker": {
             "pattern": {
              "fillmode": "overlay",
              "size": 10,
              "solidity": 0.2
             }
            },
            "type": "histogram"
           }
          ],
          "histogram2d": [
           {
            "colorbar": {
             "outlinewidth": 0,
             "ticks": ""
            },
            "colorscale": [
             [
              0,
              "#0d0887"
             ],
             [
              0.1111111111111111,
              "#46039f"
             ],
             [
              0.2222222222222222,
              "#7201a8"
             ],
             [
              0.3333333333333333,
              "#9c179e"
             ],
             [
              0.4444444444444444,
              "#bd3786"
             ],
             [
              0.5555555555555556,
              "#d8576b"
             ],
             [
              0.6666666666666666,
              "#ed7953"
             ],
             [
              0.7777777777777778,
              "#fb9f3a"
             ],
             [
              0.8888888888888888,
              "#fdca26"
             ],
             [
              1,
              "#f0f921"
             ]
            ],
            "type": "histogram2d"
           }
          ],
          "histogram2dcontour": [
           {
            "colorbar": {
             "outlinewidth": 0,
             "ticks": ""
            },
            "colorscale": [
             [
              0,
              "#0d0887"
             ],
             [
              0.1111111111111111,
              "#46039f"
             ],
             [
              0.2222222222222222,
              "#7201a8"
             ],
             [
              0.3333333333333333,
              "#9c179e"
             ],
             [
              0.4444444444444444,
              "#bd3786"
             ],
             [
              0.5555555555555556,
              "#d8576b"
             ],
             [
              0.6666666666666666,
              "#ed7953"
             ],
             [
              0.7777777777777778,
              "#fb9f3a"
             ],
             [
              0.8888888888888888,
              "#fdca26"
             ],
             [
              1,
              "#f0f921"
             ]
            ],
            "type": "histogram2dcontour"
           }
          ],
          "mesh3d": [
           {
            "colorbar": {
             "outlinewidth": 0,
             "ticks": ""
            },
            "type": "mesh3d"
           }
          ],
          "parcoords": [
           {
            "line": {
             "colorbar": {
              "outlinewidth": 0,
              "ticks": ""
             }
            },
            "type": "parcoords"
           }
          ],
          "pie": [
           {
            "automargin": true,
            "type": "pie"
           }
          ],
          "scatter": [
           {
            "marker": {
             "colorbar": {
              "outlinewidth": 0,
              "ticks": ""
             }
            },
            "type": "scatter"
           }
          ],
          "scatter3d": [
           {
            "line": {
             "colorbar": {
              "outlinewidth": 0,
              "ticks": ""
             }
            },
            "marker": {
             "colorbar": {
              "outlinewidth": 0,
              "ticks": ""
             }
            },
            "type": "scatter3d"
           }
          ],
          "scattercarpet": [
           {
            "marker": {
             "colorbar": {
              "outlinewidth": 0,
              "ticks": ""
             }
            },
            "type": "scattercarpet"
           }
          ],
          "scattergeo": [
           {
            "marker": {
             "colorbar": {
              "outlinewidth": 0,
              "ticks": ""
             }
            },
            "type": "scattergeo"
           }
          ],
          "scattergl": [
           {
            "marker": {
             "colorbar": {
              "outlinewidth": 0,
              "ticks": ""
             }
            },
            "type": "scattergl"
           }
          ],
          "scattermapbox": [
           {
            "marker": {
             "colorbar": {
              "outlinewidth": 0,
              "ticks": ""
             }
            },
            "type": "scattermapbox"
           }
          ],
          "scatterpolar": [
           {
            "marker": {
             "colorbar": {
              "outlinewidth": 0,
              "ticks": ""
             }
            },
            "type": "scatterpolar"
           }
          ],
          "scatterpolargl": [
           {
            "marker": {
             "colorbar": {
              "outlinewidth": 0,
              "ticks": ""
             }
            },
            "type": "scatterpolargl"
           }
          ],
          "scatterternary": [
           {
            "marker": {
             "colorbar": {
              "outlinewidth": 0,
              "ticks": ""
             }
            },
            "type": "scatterternary"
           }
          ],
          "surface": [
           {
            "colorbar": {
             "outlinewidth": 0,
             "ticks": ""
            },
            "colorscale": [
             [
              0,
              "#0d0887"
             ],
             [
              0.1111111111111111,
              "#46039f"
             ],
             [
              0.2222222222222222,
              "#7201a8"
             ],
             [
              0.3333333333333333,
              "#9c179e"
             ],
             [
              0.4444444444444444,
              "#bd3786"
             ],
             [
              0.5555555555555556,
              "#d8576b"
             ],
             [
              0.6666666666666666,
              "#ed7953"
             ],
             [
              0.7777777777777778,
              "#fb9f3a"
             ],
             [
              0.8888888888888888,
              "#fdca26"
             ],
             [
              1,
              "#f0f921"
             ]
            ],
            "type": "surface"
           }
          ],
          "table": [
           {
            "cells": {
             "fill": {
              "color": "#EBF0F8"
             },
             "line": {
              "color": "white"
             }
            },
            "header": {
             "fill": {
              "color": "#C8D4E3"
             },
             "line": {
              "color": "white"
             }
            },
            "type": "table"
           }
          ]
         },
         "layout": {
          "annotationdefaults": {
           "arrowcolor": "#2a3f5f",
           "arrowhead": 0,
           "arrowwidth": 1
          },
          "autotypenumbers": "strict",
          "coloraxis": {
           "colorbar": {
            "outlinewidth": 0,
            "ticks": ""
           }
          },
          "colorscale": {
           "diverging": [
            [
             0,
             "#8e0152"
            ],
            [
             0.1,
             "#c51b7d"
            ],
            [
             0.2,
             "#de77ae"
            ],
            [
             0.3,
             "#f1b6da"
            ],
            [
             0.4,
             "#fde0ef"
            ],
            [
             0.5,
             "#f7f7f7"
            ],
            [
             0.6,
             "#e6f5d0"
            ],
            [
             0.7,
             "#b8e186"
            ],
            [
             0.8,
             "#7fbc41"
            ],
            [
             0.9,
             "#4d9221"
            ],
            [
             1,
             "#276419"
            ]
           ],
           "sequential": [
            [
             0,
             "#0d0887"
            ],
            [
             0.1111111111111111,
             "#46039f"
            ],
            [
             0.2222222222222222,
             "#7201a8"
            ],
            [
             0.3333333333333333,
             "#9c179e"
            ],
            [
             0.4444444444444444,
             "#bd3786"
            ],
            [
             0.5555555555555556,
             "#d8576b"
            ],
            [
             0.6666666666666666,
             "#ed7953"
            ],
            [
             0.7777777777777778,
             "#fb9f3a"
            ],
            [
             0.8888888888888888,
             "#fdca26"
            ],
            [
             1,
             "#f0f921"
            ]
           ],
           "sequentialminus": [
            [
             0,
             "#0d0887"
            ],
            [
             0.1111111111111111,
             "#46039f"
            ],
            [
             0.2222222222222222,
             "#7201a8"
            ],
            [
             0.3333333333333333,
             "#9c179e"
            ],
            [
             0.4444444444444444,
             "#bd3786"
            ],
            [
             0.5555555555555556,
             "#d8576b"
            ],
            [
             0.6666666666666666,
             "#ed7953"
            ],
            [
             0.7777777777777778,
             "#fb9f3a"
            ],
            [
             0.8888888888888888,
             "#fdca26"
            ],
            [
             1,
             "#f0f921"
            ]
           ]
          },
          "colorway": [
           "#636efa",
           "#EF553B",
           "#00cc96",
           "#ab63fa",
           "#FFA15A",
           "#19d3f3",
           "#FF6692",
           "#B6E880",
           "#FF97FF",
           "#FECB52"
          ],
          "font": {
           "color": "#2a3f5f"
          },
          "geo": {
           "bgcolor": "white",
           "lakecolor": "white",
           "landcolor": "#E5ECF6",
           "showlakes": true,
           "showland": true,
           "subunitcolor": "white"
          },
          "hoverlabel": {
           "align": "left"
          },
          "hovermode": "closest",
          "mapbox": {
           "style": "light"
          },
          "paper_bgcolor": "white",
          "plot_bgcolor": "#E5ECF6",
          "polar": {
           "angularaxis": {
            "gridcolor": "white",
            "linecolor": "white",
            "ticks": ""
           },
           "bgcolor": "#E5ECF6",
           "radialaxis": {
            "gridcolor": "white",
            "linecolor": "white",
            "ticks": ""
           }
          },
          "scene": {
           "xaxis": {
            "backgroundcolor": "#E5ECF6",
            "gridcolor": "white",
            "gridwidth": 2,
            "linecolor": "white",
            "showbackground": true,
            "ticks": "",
            "zerolinecolor": "white"
           },
           "yaxis": {
            "backgroundcolor": "#E5ECF6",
            "gridcolor": "white",
            "gridwidth": 2,
            "linecolor": "white",
            "showbackground": true,
            "ticks": "",
            "zerolinecolor": "white"
           },
           "zaxis": {
            "backgroundcolor": "#E5ECF6",
            "gridcolor": "white",
            "gridwidth": 2,
            "linecolor": "white",
            "showbackground": true,
            "ticks": "",
            "zerolinecolor": "white"
           }
          },
          "shapedefaults": {
           "line": {
            "color": "#2a3f5f"
           }
          },
          "ternary": {
           "aaxis": {
            "gridcolor": "white",
            "linecolor": "white",
            "ticks": ""
           },
           "baxis": {
            "gridcolor": "white",
            "linecolor": "white",
            "ticks": ""
           },
           "bgcolor": "#E5ECF6",
           "caxis": {
            "gridcolor": "white",
            "linecolor": "white",
            "ticks": ""
           }
          },
          "title": {
           "x": 0.05
          },
          "xaxis": {
           "automargin": true,
           "gridcolor": "white",
           "linecolor": "white",
           "ticks": "",
           "title": {
            "standoff": 15
           },
           "zerolinecolor": "white",
           "zerolinewidth": 2
          },
          "yaxis": {
           "automargin": true,
           "gridcolor": "white",
           "linecolor": "white",
           "ticks": "",
           "title": {
            "standoff": 15
           },
           "zerolinecolor": "white",
           "zerolinewidth": 2
          }
         }
        },
        "xaxis": {
         "anchor": "y",
         "domain": [
          0,
          1
         ],
         "title": {
          "text": "Mercado"
         }
        },
        "yaxis": {
         "anchor": "x",
         "domain": [
          0,
          1
         ],
         "title": {
          "text": "Quantidade de Vendas Realizadas"
         }
        }
       }
      },
      "text/html": [
       "<div>                            <div id=\"f3ec484c-684b-4b9c-916a-9a8b25e7b4b7\" class=\"plotly-graph-div\" style=\"height:525px; width:100%;\"></div>            <script type=\"text/javascript\">                require([\"plotly\"], function(Plotly) {                    window.PLOTLYENV=window.PLOTLYENV || {};                                    if (document.getElementById(\"f3ec484c-684b-4b9c-916a-9a8b25e7b4b7\")) {                    Plotly.newPlot(                        \"f3ec484c-684b-4b9c-916a-9a8b25e7b4b7\",                        [{\"alignmentgroup\":\"True\",\"hovertemplate\":\"Mercado=%{x}<br>Quantidade de Vendas Realizadas=%{y}<extra></extra>\",\"legendgroup\":\"\",\"marker\":{\"color\":\"#636efa\",\"pattern\":{\"shape\":\"\"}},\"name\":\"\",\"offsetgroup\":\"\",\"orientation\":\"v\",\"showlegend\":false,\"textposition\":\"auto\",\"type\":\"bar\",\"x\":[\"Servicos\",\"Franqueadora\",\"Empreendedor\",\"Varejo\",\"Marketing/Publicidade/Consultoria\",\"Industria\",\"Tecnologia\",\"Imobiliaria/Incorporadora/Construtora\"],\"xaxis\":\"x\",\"y\":[16,12,10,9,9,6,5,3],\"yaxis\":\"y\"}],                        {\"barmode\":\"relative\",\"legend\":{\"tracegroupgap\":0},\"margin\":{\"t\":60},\"template\":{\"data\":{\"bar\":[{\"error_x\":{\"color\":\"#2a3f5f\"},\"error_y\":{\"color\":\"#2a3f5f\"},\"marker\":{\"line\":{\"color\":\"#E5ECF6\",\"width\":0.5},\"pattern\":{\"fillmode\":\"overlay\",\"size\":10,\"solidity\":0.2}},\"type\":\"bar\"}],\"barpolar\":[{\"marker\":{\"line\":{\"color\":\"#E5ECF6\",\"width\":0.5},\"pattern\":{\"fillmode\":\"overlay\",\"size\":10,\"solidity\":0.2}},\"type\":\"barpolar\"}],\"carpet\":[{\"aaxis\":{\"endlinecolor\":\"#2a3f5f\",\"gridcolor\":\"white\",\"linecolor\":\"white\",\"minorgridcolor\":\"white\",\"startlinecolor\":\"#2a3f5f\"},\"baxis\":{\"endlinecolor\":\"#2a3f5f\",\"gridcolor\":\"white\",\"linecolor\":\"white\",\"minorgridcolor\":\"white\",\"startlinecolor\":\"#2a3f5f\"},\"type\":\"carpet\"}],\"choropleth\":[{\"colorbar\":{\"outlinewidth\":0,\"ticks\":\"\"},\"type\":\"choropleth\"}],\"contour\":[{\"colorbar\":{\"outlinewidth\":0,\"ticks\":\"\"},\"colorscale\":[[0.0,\"#0d0887\"],[0.1111111111111111,\"#46039f\"],[0.2222222222222222,\"#7201a8\"],[0.3333333333333333,\"#9c179e\"],[0.4444444444444444,\"#bd3786\"],[0.5555555555555556,\"#d8576b\"],[0.6666666666666666,\"#ed7953\"],[0.7777777777777778,\"#fb9f3a\"],[0.8888888888888888,\"#fdca26\"],[1.0,\"#f0f921\"]],\"type\":\"contour\"}],\"contourcarpet\":[{\"colorbar\":{\"outlinewidth\":0,\"ticks\":\"\"},\"type\":\"contourcarpet\"}],\"heatmap\":[{\"colorbar\":{\"outlinewidth\":0,\"ticks\":\"\"},\"colorscale\":[[0.0,\"#0d0887\"],[0.1111111111111111,\"#46039f\"],[0.2222222222222222,\"#7201a8\"],[0.3333333333333333,\"#9c179e\"],[0.4444444444444444,\"#bd3786\"],[0.5555555555555556,\"#d8576b\"],[0.6666666666666666,\"#ed7953\"],[0.7777777777777778,\"#fb9f3a\"],[0.8888888888888888,\"#fdca26\"],[1.0,\"#f0f921\"]],\"type\":\"heatmap\"}],\"heatmapgl\":[{\"colorbar\":{\"outlinewidth\":0,\"ticks\":\"\"},\"colorscale\":[[0.0,\"#0d0887\"],[0.1111111111111111,\"#46039f\"],[0.2222222222222222,\"#7201a8\"],[0.3333333333333333,\"#9c179e\"],[0.4444444444444444,\"#bd3786\"],[0.5555555555555556,\"#d8576b\"],[0.6666666666666666,\"#ed7953\"],[0.7777777777777778,\"#fb9f3a\"],[0.8888888888888888,\"#fdca26\"],[1.0,\"#f0f921\"]],\"type\":\"heatmapgl\"}],\"histogram\":[{\"marker\":{\"pattern\":{\"fillmode\":\"overlay\",\"size\":10,\"solidity\":0.2}},\"type\":\"histogram\"}],\"histogram2d\":[{\"colorbar\":{\"outlinewidth\":0,\"ticks\":\"\"},\"colorscale\":[[0.0,\"#0d0887\"],[0.1111111111111111,\"#46039f\"],[0.2222222222222222,\"#7201a8\"],[0.3333333333333333,\"#9c179e\"],[0.4444444444444444,\"#bd3786\"],[0.5555555555555556,\"#d8576b\"],[0.6666666666666666,\"#ed7953\"],[0.7777777777777778,\"#fb9f3a\"],[0.8888888888888888,\"#fdca26\"],[1.0,\"#f0f921\"]],\"type\":\"histogram2d\"}],\"histogram2dcontour\":[{\"colorbar\":{\"outlinewidth\":0,\"ticks\":\"\"},\"colorscale\":[[0.0,\"#0d0887\"],[0.1111111111111111,\"#46039f\"],[0.2222222222222222,\"#7201a8\"],[0.3333333333333333,\"#9c179e\"],[0.4444444444444444,\"#bd3786\"],[0.5555555555555556,\"#d8576b\"],[0.6666666666666666,\"#ed7953\"],[0.7777777777777778,\"#fb9f3a\"],[0.8888888888888888,\"#fdca26\"],[1.0,\"#f0f921\"]],\"type\":\"histogram2dcontour\"}],\"mesh3d\":[{\"colorbar\":{\"outlinewidth\":0,\"ticks\":\"\"},\"type\":\"mesh3d\"}],\"parcoords\":[{\"line\":{\"colorbar\":{\"outlinewidth\":0,\"ticks\":\"\"}},\"type\":\"parcoords\"}],\"pie\":[{\"automargin\":true,\"type\":\"pie\"}],\"scatter\":[{\"marker\":{\"colorbar\":{\"outlinewidth\":0,\"ticks\":\"\"}},\"type\":\"scatter\"}],\"scatter3d\":[{\"line\":{\"colorbar\":{\"outlinewidth\":0,\"ticks\":\"\"}},\"marker\":{\"colorbar\":{\"outlinewidth\":0,\"ticks\":\"\"}},\"type\":\"scatter3d\"}],\"scattercarpet\":[{\"marker\":{\"colorbar\":{\"outlinewidth\":0,\"ticks\":\"\"}},\"type\":\"scattercarpet\"}],\"scattergeo\":[{\"marker\":{\"colorbar\":{\"outlinewidth\":0,\"ticks\":\"\"}},\"type\":\"scattergeo\"}],\"scattergl\":[{\"marker\":{\"colorbar\":{\"outlinewidth\":0,\"ticks\":\"\"}},\"type\":\"scattergl\"}],\"scattermapbox\":[{\"marker\":{\"colorbar\":{\"outlinewidth\":0,\"ticks\":\"\"}},\"type\":\"scattermapbox\"}],\"scatterpolar\":[{\"marker\":{\"colorbar\":{\"outlinewidth\":0,\"ticks\":\"\"}},\"type\":\"scatterpolar\"}],\"scatterpolargl\":[{\"marker\":{\"colorbar\":{\"outlinewidth\":0,\"ticks\":\"\"}},\"type\":\"scatterpolargl\"}],\"scatterternary\":[{\"marker\":{\"colorbar\":{\"outlinewidth\":0,\"ticks\":\"\"}},\"type\":\"scatterternary\"}],\"surface\":[{\"colorbar\":{\"outlinewidth\":0,\"ticks\":\"\"},\"colorscale\":[[0.0,\"#0d0887\"],[0.1111111111111111,\"#46039f\"],[0.2222222222222222,\"#7201a8\"],[0.3333333333333333,\"#9c179e\"],[0.4444444444444444,\"#bd3786\"],[0.5555555555555556,\"#d8576b\"],[0.6666666666666666,\"#ed7953\"],[0.7777777777777778,\"#fb9f3a\"],[0.8888888888888888,\"#fdca26\"],[1.0,\"#f0f921\"]],\"type\":\"surface\"}],\"table\":[{\"cells\":{\"fill\":{\"color\":\"#EBF0F8\"},\"line\":{\"color\":\"white\"}},\"header\":{\"fill\":{\"color\":\"#C8D4E3\"},\"line\":{\"color\":\"white\"}},\"type\":\"table\"}]},\"layout\":{\"annotationdefaults\":{\"arrowcolor\":\"#2a3f5f\",\"arrowhead\":0,\"arrowwidth\":1},\"autotypenumbers\":\"strict\",\"coloraxis\":{\"colorbar\":{\"outlinewidth\":0,\"ticks\":\"\"}},\"colorscale\":{\"diverging\":[[0,\"#8e0152\"],[0.1,\"#c51b7d\"],[0.2,\"#de77ae\"],[0.3,\"#f1b6da\"],[0.4,\"#fde0ef\"],[0.5,\"#f7f7f7\"],[0.6,\"#e6f5d0\"],[0.7,\"#b8e186\"],[0.8,\"#7fbc41\"],[0.9,\"#4d9221\"],[1,\"#276419\"]],\"sequential\":[[0.0,\"#0d0887\"],[0.1111111111111111,\"#46039f\"],[0.2222222222222222,\"#7201a8\"],[0.3333333333333333,\"#9c179e\"],[0.4444444444444444,\"#bd3786\"],[0.5555555555555556,\"#d8576b\"],[0.6666666666666666,\"#ed7953\"],[0.7777777777777778,\"#fb9f3a\"],[0.8888888888888888,\"#fdca26\"],[1.0,\"#f0f921\"]],\"sequentialminus\":[[0.0,\"#0d0887\"],[0.1111111111111111,\"#46039f\"],[0.2222222222222222,\"#7201a8\"],[0.3333333333333333,\"#9c179e\"],[0.4444444444444444,\"#bd3786\"],[0.5555555555555556,\"#d8576b\"],[0.6666666666666666,\"#ed7953\"],[0.7777777777777778,\"#fb9f3a\"],[0.8888888888888888,\"#fdca26\"],[1.0,\"#f0f921\"]]},\"colorway\":[\"#636efa\",\"#EF553B\",\"#00cc96\",\"#ab63fa\",\"#FFA15A\",\"#19d3f3\",\"#FF6692\",\"#B6E880\",\"#FF97FF\",\"#FECB52\"],\"font\":{\"color\":\"#2a3f5f\"},\"geo\":{\"bgcolor\":\"white\",\"lakecolor\":\"white\",\"landcolor\":\"#E5ECF6\",\"showlakes\":true,\"showland\":true,\"subunitcolor\":\"white\"},\"hoverlabel\":{\"align\":\"left\"},\"hovermode\":\"closest\",\"mapbox\":{\"style\":\"light\"},\"paper_bgcolor\":\"white\",\"plot_bgcolor\":\"#E5ECF6\",\"polar\":{\"angularaxis\":{\"gridcolor\":\"white\",\"linecolor\":\"white\",\"ticks\":\"\"},\"bgcolor\":\"#E5ECF6\",\"radialaxis\":{\"gridcolor\":\"white\",\"linecolor\":\"white\",\"ticks\":\"\"}},\"scene\":{\"xaxis\":{\"backgroundcolor\":\"#E5ECF6\",\"gridcolor\":\"white\",\"gridwidth\":2,\"linecolor\":\"white\",\"showbackground\":true,\"ticks\":\"\",\"zerolinecolor\":\"white\"},\"yaxis\":{\"backgroundcolor\":\"#E5ECF6\",\"gridcolor\":\"white\",\"gridwidth\":2,\"linecolor\":\"white\",\"showbackground\":true,\"ticks\":\"\",\"zerolinecolor\":\"white\"},\"zaxis\":{\"backgroundcolor\":\"#E5ECF6\",\"gridcolor\":\"white\",\"gridwidth\":2,\"linecolor\":\"white\",\"showbackground\":true,\"ticks\":\"\",\"zerolinecolor\":\"white\"}},\"shapedefaults\":{\"line\":{\"color\":\"#2a3f5f\"}},\"ternary\":{\"aaxis\":{\"gridcolor\":\"white\",\"linecolor\":\"white\",\"ticks\":\"\"},\"baxis\":{\"gridcolor\":\"white\",\"linecolor\":\"white\",\"ticks\":\"\"},\"bgcolor\":\"#E5ECF6\",\"caxis\":{\"gridcolor\":\"white\",\"linecolor\":\"white\",\"ticks\":\"\"}},\"title\":{\"x\":0.05},\"xaxis\":{\"automargin\":true,\"gridcolor\":\"white\",\"linecolor\":\"white\",\"ticks\":\"\",\"title\":{\"standoff\":15},\"zerolinecolor\":\"white\",\"zerolinewidth\":2},\"yaxis\":{\"automargin\":true,\"gridcolor\":\"white\",\"linecolor\":\"white\",\"ticks\":\"\",\"title\":{\"standoff\":15},\"zerolinecolor\":\"white\",\"zerolinewidth\":2}}},\"xaxis\":{\"anchor\":\"y\",\"domain\":[0.0,1.0],\"title\":{\"text\":\"Mercado\"}},\"yaxis\":{\"anchor\":\"x\",\"domain\":[0.0,1.0],\"title\":{\"text\":\"Quantidade de Vendas Realizadas\"}}},                        {\"responsive\": true}                    ).then(function(){\n",
       "                            \n",
       "var gd = document.getElementById('f3ec484c-684b-4b9c-916a-9a8b25e7b4b7');\n",
       "var x = new MutationObserver(function (mutations, observer) {{\n",
       "        var display = window.getComputedStyle(gd).display;\n",
       "        if (!display || display === 'none') {{\n",
       "            console.log([gd, 'removed!']);\n",
       "            Plotly.purge(gd);\n",
       "            observer.disconnect();\n",
       "        }}\n",
       "}});\n",
       "\n",
       "// Listen for the removal of the full notebook cells\n",
       "var notebookContainer = gd.closest('#notebook-container');\n",
       "if (notebookContainer) {{\n",
       "    x.observe(notebookContainer, {childList: true});\n",
       "}}\n",
       "\n",
       "// Listen for the clearing of the current output cell\n",
       "var outputEl = gd.closest('.output');\n",
       "if (outputEl) {{\n",
       "    x.observe(outputEl, {childList: true});\n",
       "}}\n",
       "\n",
       "                        })                };                });            </script>        </div>"
      ]
     },
     "metadata": {},
     "output_type": "display_data"
    }
   ],
   "source": [
    "ax = venda[\"MERCADO\"].value_counts().index\n",
    "ay = venda[\"MERCADO\"].value_counts().values\n",
    "\n",
    "fig = px.bar(df, x=ax, y=ay, labels={\n",
    "                     'x': \"Mercado\",\n",
    "                     'y': \"Quantidade de Vendas Realizadas\"\n",
    "                 })\n",
    "fig.show()"
   ]
  },
  {
   "cell_type": "markdown",
   "id": "ba2c674c",
   "metadata": {},
   "source": [
    "Trata-se de um público heterogêneo; nossos clientes são compontos principalmente de empresas do ramo de prestadores de serviço, porém alcaçamos também vários tipos de empresa; "
   ]
  },
  {
   "cell_type": "markdown",
   "id": "0bd9c4da",
   "metadata": {},
   "source": [
    "Também quis mostrar de onde são os nossos LEADS convertidos: \n"
   ]
  },
  {
   "cell_type": "code",
   "execution_count": 191,
   "id": "c74b5eab",
   "metadata": {},
   "outputs": [
    {
     "data": {
      "application/vnd.plotly.v1+json": {
       "config": {
        "plotlyServerURL": "https://plot.ly"
       },
       "data": [
        {
         "orientation": "h",
         "type": "bar",
         "x": [
          18,
          5,
          5,
          3,
          3,
          2,
          2,
          2,
          2,
          1
         ],
         "y": [
          "São Paulo - SP",
          "-",
          "Campinas - SP",
          "Brasília - DF",
          "Niterói - RJ",
          "Belo Horizonte - MG",
          "Recife - PE",
          "Rio de Janeiro - RJ",
          "Rio Preto - SP",
          "Ribeirão Preto - SP"
         ]
        }
       ],
       "layout": {
        "template": {
         "data": {
          "bar": [
           {
            "error_x": {
             "color": "#2a3f5f"
            },
            "error_y": {
             "color": "#2a3f5f"
            },
            "marker": {
             "line": {
              "color": "#E5ECF6",
              "width": 0.5
             },
             "pattern": {
              "fillmode": "overlay",
              "size": 10,
              "solidity": 0.2
             }
            },
            "type": "bar"
           }
          ],
          "barpolar": [
           {
            "marker": {
             "line": {
              "color": "#E5ECF6",
              "width": 0.5
             },
             "pattern": {
              "fillmode": "overlay",
              "size": 10,
              "solidity": 0.2
             }
            },
            "type": "barpolar"
           }
          ],
          "carpet": [
           {
            "aaxis": {
             "endlinecolor": "#2a3f5f",
             "gridcolor": "white",
             "linecolor": "white",
             "minorgridcolor": "white",
             "startlinecolor": "#2a3f5f"
            },
            "baxis": {
             "endlinecolor": "#2a3f5f",
             "gridcolor": "white",
             "linecolor": "white",
             "minorgridcolor": "white",
             "startlinecolor": "#2a3f5f"
            },
            "type": "carpet"
           }
          ],
          "choropleth": [
           {
            "colorbar": {
             "outlinewidth": 0,
             "ticks": ""
            },
            "type": "choropleth"
           }
          ],
          "contour": [
           {
            "colorbar": {
             "outlinewidth": 0,
             "ticks": ""
            },
            "colorscale": [
             [
              0,
              "#0d0887"
             ],
             [
              0.1111111111111111,
              "#46039f"
             ],
             [
              0.2222222222222222,
              "#7201a8"
             ],
             [
              0.3333333333333333,
              "#9c179e"
             ],
             [
              0.4444444444444444,
              "#bd3786"
             ],
             [
              0.5555555555555556,
              "#d8576b"
             ],
             [
              0.6666666666666666,
              "#ed7953"
             ],
             [
              0.7777777777777778,
              "#fb9f3a"
             ],
             [
              0.8888888888888888,
              "#fdca26"
             ],
             [
              1,
              "#f0f921"
             ]
            ],
            "type": "contour"
           }
          ],
          "contourcarpet": [
           {
            "colorbar": {
             "outlinewidth": 0,
             "ticks": ""
            },
            "type": "contourcarpet"
           }
          ],
          "heatmap": [
           {
            "colorbar": {
             "outlinewidth": 0,
             "ticks": ""
            },
            "colorscale": [
             [
              0,
              "#0d0887"
             ],
             [
              0.1111111111111111,
              "#46039f"
             ],
             [
              0.2222222222222222,
              "#7201a8"
             ],
             [
              0.3333333333333333,
              "#9c179e"
             ],
             [
              0.4444444444444444,
              "#bd3786"
             ],
             [
              0.5555555555555556,
              "#d8576b"
             ],
             [
              0.6666666666666666,
              "#ed7953"
             ],
             [
              0.7777777777777778,
              "#fb9f3a"
             ],
             [
              0.8888888888888888,
              "#fdca26"
             ],
             [
              1,
              "#f0f921"
             ]
            ],
            "type": "heatmap"
           }
          ],
          "heatmapgl": [
           {
            "colorbar": {
             "outlinewidth": 0,
             "ticks": ""
            },
            "colorscale": [
             [
              0,
              "#0d0887"
             ],
             [
              0.1111111111111111,
              "#46039f"
             ],
             [
              0.2222222222222222,
              "#7201a8"
             ],
             [
              0.3333333333333333,
              "#9c179e"
             ],
             [
              0.4444444444444444,
              "#bd3786"
             ],
             [
              0.5555555555555556,
              "#d8576b"
             ],
             [
              0.6666666666666666,
              "#ed7953"
             ],
             [
              0.7777777777777778,
              "#fb9f3a"
             ],
             [
              0.8888888888888888,
              "#fdca26"
             ],
             [
              1,
              "#f0f921"
             ]
            ],
            "type": "heatmapgl"
           }
          ],
          "histogram": [
           {
            "marker": {
             "pattern": {
              "fillmode": "overlay",
              "size": 10,
              "solidity": 0.2
             }
            },
            "type": "histogram"
           }
          ],
          "histogram2d": [
           {
            "colorbar": {
             "outlinewidth": 0,
             "ticks": ""
            },
            "colorscale": [
             [
              0,
              "#0d0887"
             ],
             [
              0.1111111111111111,
              "#46039f"
             ],
             [
              0.2222222222222222,
              "#7201a8"
             ],
             [
              0.3333333333333333,
              "#9c179e"
             ],
             [
              0.4444444444444444,
              "#bd3786"
             ],
             [
              0.5555555555555556,
              "#d8576b"
             ],
             [
              0.6666666666666666,
              "#ed7953"
             ],
             [
              0.7777777777777778,
              "#fb9f3a"
             ],
             [
              0.8888888888888888,
              "#fdca26"
             ],
             [
              1,
              "#f0f921"
             ]
            ],
            "type": "histogram2d"
           }
          ],
          "histogram2dcontour": [
           {
            "colorbar": {
             "outlinewidth": 0,
             "ticks": ""
            },
            "colorscale": [
             [
              0,
              "#0d0887"
             ],
             [
              0.1111111111111111,
              "#46039f"
             ],
             [
              0.2222222222222222,
              "#7201a8"
             ],
             [
              0.3333333333333333,
              "#9c179e"
             ],
             [
              0.4444444444444444,
              "#bd3786"
             ],
             [
              0.5555555555555556,
              "#d8576b"
             ],
             [
              0.6666666666666666,
              "#ed7953"
             ],
             [
              0.7777777777777778,
              "#fb9f3a"
             ],
             [
              0.8888888888888888,
              "#fdca26"
             ],
             [
              1,
              "#f0f921"
             ]
            ],
            "type": "histogram2dcontour"
           }
          ],
          "mesh3d": [
           {
            "colorbar": {
             "outlinewidth": 0,
             "ticks": ""
            },
            "type": "mesh3d"
           }
          ],
          "parcoords": [
           {
            "line": {
             "colorbar": {
              "outlinewidth": 0,
              "ticks": ""
             }
            },
            "type": "parcoords"
           }
          ],
          "pie": [
           {
            "automargin": true,
            "type": "pie"
           }
          ],
          "scatter": [
           {
            "marker": {
             "colorbar": {
              "outlinewidth": 0,
              "ticks": ""
             }
            },
            "type": "scatter"
           }
          ],
          "scatter3d": [
           {
            "line": {
             "colorbar": {
              "outlinewidth": 0,
              "ticks": ""
             }
            },
            "marker": {
             "colorbar": {
              "outlinewidth": 0,
              "ticks": ""
             }
            },
            "type": "scatter3d"
           }
          ],
          "scattercarpet": [
           {
            "marker": {
             "colorbar": {
              "outlinewidth": 0,
              "ticks": ""
             }
            },
            "type": "scattercarpet"
           }
          ],
          "scattergeo": [
           {
            "marker": {
             "colorbar": {
              "outlinewidth": 0,
              "ticks": ""
             }
            },
            "type": "scattergeo"
           }
          ],
          "scattergl": [
           {
            "marker": {
             "colorbar": {
              "outlinewidth": 0,
              "ticks": ""
             }
            },
            "type": "scattergl"
           }
          ],
          "scattermapbox": [
           {
            "marker": {
             "colorbar": {
              "outlinewidth": 0,
              "ticks": ""
             }
            },
            "type": "scattermapbox"
           }
          ],
          "scatterpolar": [
           {
            "marker": {
             "colorbar": {
              "outlinewidth": 0,
              "ticks": ""
             }
            },
            "type": "scatterpolar"
           }
          ],
          "scatterpolargl": [
           {
            "marker": {
             "colorbar": {
              "outlinewidth": 0,
              "ticks": ""
             }
            },
            "type": "scatterpolargl"
           }
          ],
          "scatterternary": [
           {
            "marker": {
             "colorbar": {
              "outlinewidth": 0,
              "ticks": ""
             }
            },
            "type": "scatterternary"
           }
          ],
          "surface": [
           {
            "colorbar": {
             "outlinewidth": 0,
             "ticks": ""
            },
            "colorscale": [
             [
              0,
              "#0d0887"
             ],
             [
              0.1111111111111111,
              "#46039f"
             ],
             [
              0.2222222222222222,
              "#7201a8"
             ],
             [
              0.3333333333333333,
              "#9c179e"
             ],
             [
              0.4444444444444444,
              "#bd3786"
             ],
             [
              0.5555555555555556,
              "#d8576b"
             ],
             [
              0.6666666666666666,
              "#ed7953"
             ],
             [
              0.7777777777777778,
              "#fb9f3a"
             ],
             [
              0.8888888888888888,
              "#fdca26"
             ],
             [
              1,
              "#f0f921"
             ]
            ],
            "type": "surface"
           }
          ],
          "table": [
           {
            "cells": {
             "fill": {
              "color": "#EBF0F8"
             },
             "line": {
              "color": "white"
             }
            },
            "header": {
             "fill": {
              "color": "#C8D4E3"
             },
             "line": {
              "color": "white"
             }
            },
            "type": "table"
           }
          ]
         },
         "layout": {
          "annotationdefaults": {
           "arrowcolor": "#2a3f5f",
           "arrowhead": 0,
           "arrowwidth": 1
          },
          "autotypenumbers": "strict",
          "coloraxis": {
           "colorbar": {
            "outlinewidth": 0,
            "ticks": ""
           }
          },
          "colorscale": {
           "diverging": [
            [
             0,
             "#8e0152"
            ],
            [
             0.1,
             "#c51b7d"
            ],
            [
             0.2,
             "#de77ae"
            ],
            [
             0.3,
             "#f1b6da"
            ],
            [
             0.4,
             "#fde0ef"
            ],
            [
             0.5,
             "#f7f7f7"
            ],
            [
             0.6,
             "#e6f5d0"
            ],
            [
             0.7,
             "#b8e186"
            ],
            [
             0.8,
             "#7fbc41"
            ],
            [
             0.9,
             "#4d9221"
            ],
            [
             1,
             "#276419"
            ]
           ],
           "sequential": [
            [
             0,
             "#0d0887"
            ],
            [
             0.1111111111111111,
             "#46039f"
            ],
            [
             0.2222222222222222,
             "#7201a8"
            ],
            [
             0.3333333333333333,
             "#9c179e"
            ],
            [
             0.4444444444444444,
             "#bd3786"
            ],
            [
             0.5555555555555556,
             "#d8576b"
            ],
            [
             0.6666666666666666,
             "#ed7953"
            ],
            [
             0.7777777777777778,
             "#fb9f3a"
            ],
            [
             0.8888888888888888,
             "#fdca26"
            ],
            [
             1,
             "#f0f921"
            ]
           ],
           "sequentialminus": [
            [
             0,
             "#0d0887"
            ],
            [
             0.1111111111111111,
             "#46039f"
            ],
            [
             0.2222222222222222,
             "#7201a8"
            ],
            [
             0.3333333333333333,
             "#9c179e"
            ],
            [
             0.4444444444444444,
             "#bd3786"
            ],
            [
             0.5555555555555556,
             "#d8576b"
            ],
            [
             0.6666666666666666,
             "#ed7953"
            ],
            [
             0.7777777777777778,
             "#fb9f3a"
            ],
            [
             0.8888888888888888,
             "#fdca26"
            ],
            [
             1,
             "#f0f921"
            ]
           ]
          },
          "colorway": [
           "#636efa",
           "#EF553B",
           "#00cc96",
           "#ab63fa",
           "#FFA15A",
           "#19d3f3",
           "#FF6692",
           "#B6E880",
           "#FF97FF",
           "#FECB52"
          ],
          "font": {
           "color": "#2a3f5f"
          },
          "geo": {
           "bgcolor": "white",
           "lakecolor": "white",
           "landcolor": "#E5ECF6",
           "showlakes": true,
           "showland": true,
           "subunitcolor": "white"
          },
          "hoverlabel": {
           "align": "left"
          },
          "hovermode": "closest",
          "mapbox": {
           "style": "light"
          },
          "paper_bgcolor": "white",
          "plot_bgcolor": "#E5ECF6",
          "polar": {
           "angularaxis": {
            "gridcolor": "white",
            "linecolor": "white",
            "ticks": ""
           },
           "bgcolor": "#E5ECF6",
           "radialaxis": {
            "gridcolor": "white",
            "linecolor": "white",
            "ticks": ""
           }
          },
          "scene": {
           "xaxis": {
            "backgroundcolor": "#E5ECF6",
            "gridcolor": "white",
            "gridwidth": 2,
            "linecolor": "white",
            "showbackground": true,
            "ticks": "",
            "zerolinecolor": "white"
           },
           "yaxis": {
            "backgroundcolor": "#E5ECF6",
            "gridcolor": "white",
            "gridwidth": 2,
            "linecolor": "white",
            "showbackground": true,
            "ticks": "",
            "zerolinecolor": "white"
           },
           "zaxis": {
            "backgroundcolor": "#E5ECF6",
            "gridcolor": "white",
            "gridwidth": 2,
            "linecolor": "white",
            "showbackground": true,
            "ticks": "",
            "zerolinecolor": "white"
           }
          },
          "shapedefaults": {
           "line": {
            "color": "#2a3f5f"
           }
          },
          "ternary": {
           "aaxis": {
            "gridcolor": "white",
            "linecolor": "white",
            "ticks": ""
           },
           "baxis": {
            "gridcolor": "white",
            "linecolor": "white",
            "ticks": ""
           },
           "bgcolor": "#E5ECF6",
           "caxis": {
            "gridcolor": "white",
            "linecolor": "white",
            "ticks": ""
           }
          },
          "title": {
           "x": 0.05
          },
          "xaxis": {
           "automargin": true,
           "gridcolor": "white",
           "linecolor": "white",
           "ticks": "",
           "title": {
            "standoff": 15
           },
           "zerolinecolor": "white",
           "zerolinewidth": 2
          },
          "yaxis": {
           "automargin": true,
           "gridcolor": "white",
           "linecolor": "white",
           "ticks": "",
           "title": {
            "standoff": 15
           },
           "zerolinecolor": "white",
           "zerolinewidth": 2
          }
         }
        }
       }
      },
      "text/html": [
       "<div>                            <div id=\"4484b349-8c5f-4a43-8d2e-f5efae1efcac\" class=\"plotly-graph-div\" style=\"height:525px; width:100%;\"></div>            <script type=\"text/javascript\">                require([\"plotly\"], function(Plotly) {                    window.PLOTLYENV=window.PLOTLYENV || {};                                    if (document.getElementById(\"4484b349-8c5f-4a43-8d2e-f5efae1efcac\")) {                    Plotly.newPlot(                        \"4484b349-8c5f-4a43-8d2e-f5efae1efcac\",                        [{\"orientation\":\"h\",\"type\":\"bar\",\"x\":[18,5,5,3,3,2,2,2,2,1],\"y\":[\"S\\u00e3o Paulo - SP\",\"-\",\"Campinas - SP\",\"Bras\\u00edlia - DF\",\"Niter\\u00f3i - RJ\",\"Belo Horizonte - MG\",\"Recife - PE\",\"Rio de Janeiro - RJ\",\"Rio Preto - SP\",\"Ribeir\\u00e3o Preto - SP\"]}],                        {\"template\":{\"data\":{\"bar\":[{\"error_x\":{\"color\":\"#2a3f5f\"},\"error_y\":{\"color\":\"#2a3f5f\"},\"marker\":{\"line\":{\"color\":\"#E5ECF6\",\"width\":0.5},\"pattern\":{\"fillmode\":\"overlay\",\"size\":10,\"solidity\":0.2}},\"type\":\"bar\"}],\"barpolar\":[{\"marker\":{\"line\":{\"color\":\"#E5ECF6\",\"width\":0.5},\"pattern\":{\"fillmode\":\"overlay\",\"size\":10,\"solidity\":0.2}},\"type\":\"barpolar\"}],\"carpet\":[{\"aaxis\":{\"endlinecolor\":\"#2a3f5f\",\"gridcolor\":\"white\",\"linecolor\":\"white\",\"minorgridcolor\":\"white\",\"startlinecolor\":\"#2a3f5f\"},\"baxis\":{\"endlinecolor\":\"#2a3f5f\",\"gridcolor\":\"white\",\"linecolor\":\"white\",\"minorgridcolor\":\"white\",\"startlinecolor\":\"#2a3f5f\"},\"type\":\"carpet\"}],\"choropleth\":[{\"colorbar\":{\"outlinewidth\":0,\"ticks\":\"\"},\"type\":\"choropleth\"}],\"contour\":[{\"colorbar\":{\"outlinewidth\":0,\"ticks\":\"\"},\"colorscale\":[[0.0,\"#0d0887\"],[0.1111111111111111,\"#46039f\"],[0.2222222222222222,\"#7201a8\"],[0.3333333333333333,\"#9c179e\"],[0.4444444444444444,\"#bd3786\"],[0.5555555555555556,\"#d8576b\"],[0.6666666666666666,\"#ed7953\"],[0.7777777777777778,\"#fb9f3a\"],[0.8888888888888888,\"#fdca26\"],[1.0,\"#f0f921\"]],\"type\":\"contour\"}],\"contourcarpet\":[{\"colorbar\":{\"outlinewidth\":0,\"ticks\":\"\"},\"type\":\"contourcarpet\"}],\"heatmap\":[{\"colorbar\":{\"outlinewidth\":0,\"ticks\":\"\"},\"colorscale\":[[0.0,\"#0d0887\"],[0.1111111111111111,\"#46039f\"],[0.2222222222222222,\"#7201a8\"],[0.3333333333333333,\"#9c179e\"],[0.4444444444444444,\"#bd3786\"],[0.5555555555555556,\"#d8576b\"],[0.6666666666666666,\"#ed7953\"],[0.7777777777777778,\"#fb9f3a\"],[0.8888888888888888,\"#fdca26\"],[1.0,\"#f0f921\"]],\"type\":\"heatmap\"}],\"heatmapgl\":[{\"colorbar\":{\"outlinewidth\":0,\"ticks\":\"\"},\"colorscale\":[[0.0,\"#0d0887\"],[0.1111111111111111,\"#46039f\"],[0.2222222222222222,\"#7201a8\"],[0.3333333333333333,\"#9c179e\"],[0.4444444444444444,\"#bd3786\"],[0.5555555555555556,\"#d8576b\"],[0.6666666666666666,\"#ed7953\"],[0.7777777777777778,\"#fb9f3a\"],[0.8888888888888888,\"#fdca26\"],[1.0,\"#f0f921\"]],\"type\":\"heatmapgl\"}],\"histogram\":[{\"marker\":{\"pattern\":{\"fillmode\":\"overlay\",\"size\":10,\"solidity\":0.2}},\"type\":\"histogram\"}],\"histogram2d\":[{\"colorbar\":{\"outlinewidth\":0,\"ticks\":\"\"},\"colorscale\":[[0.0,\"#0d0887\"],[0.1111111111111111,\"#46039f\"],[0.2222222222222222,\"#7201a8\"],[0.3333333333333333,\"#9c179e\"],[0.4444444444444444,\"#bd3786\"],[0.5555555555555556,\"#d8576b\"],[0.6666666666666666,\"#ed7953\"],[0.7777777777777778,\"#fb9f3a\"],[0.8888888888888888,\"#fdca26\"],[1.0,\"#f0f921\"]],\"type\":\"histogram2d\"}],\"histogram2dcontour\":[{\"colorbar\":{\"outlinewidth\":0,\"ticks\":\"\"},\"colorscale\":[[0.0,\"#0d0887\"],[0.1111111111111111,\"#46039f\"],[0.2222222222222222,\"#7201a8\"],[0.3333333333333333,\"#9c179e\"],[0.4444444444444444,\"#bd3786\"],[0.5555555555555556,\"#d8576b\"],[0.6666666666666666,\"#ed7953\"],[0.7777777777777778,\"#fb9f3a\"],[0.8888888888888888,\"#fdca26\"],[1.0,\"#f0f921\"]],\"type\":\"histogram2dcontour\"}],\"mesh3d\":[{\"colorbar\":{\"outlinewidth\":0,\"ticks\":\"\"},\"type\":\"mesh3d\"}],\"parcoords\":[{\"line\":{\"colorbar\":{\"outlinewidth\":0,\"ticks\":\"\"}},\"type\":\"parcoords\"}],\"pie\":[{\"automargin\":true,\"type\":\"pie\"}],\"scatter\":[{\"marker\":{\"colorbar\":{\"outlinewidth\":0,\"ticks\":\"\"}},\"type\":\"scatter\"}],\"scatter3d\":[{\"line\":{\"colorbar\":{\"outlinewidth\":0,\"ticks\":\"\"}},\"marker\":{\"colorbar\":{\"outlinewidth\":0,\"ticks\":\"\"}},\"type\":\"scatter3d\"}],\"scattercarpet\":[{\"marker\":{\"colorbar\":{\"outlinewidth\":0,\"ticks\":\"\"}},\"type\":\"scattercarpet\"}],\"scattergeo\":[{\"marker\":{\"colorbar\":{\"outlinewidth\":0,\"ticks\":\"\"}},\"type\":\"scattergeo\"}],\"scattergl\":[{\"marker\":{\"colorbar\":{\"outlinewidth\":0,\"ticks\":\"\"}},\"type\":\"scattergl\"}],\"scattermapbox\":[{\"marker\":{\"colorbar\":{\"outlinewidth\":0,\"ticks\":\"\"}},\"type\":\"scattermapbox\"}],\"scatterpolar\":[{\"marker\":{\"colorbar\":{\"outlinewidth\":0,\"ticks\":\"\"}},\"type\":\"scatterpolar\"}],\"scatterpolargl\":[{\"marker\":{\"colorbar\":{\"outlinewidth\":0,\"ticks\":\"\"}},\"type\":\"scatterpolargl\"}],\"scatterternary\":[{\"marker\":{\"colorbar\":{\"outlinewidth\":0,\"ticks\":\"\"}},\"type\":\"scatterternary\"}],\"surface\":[{\"colorbar\":{\"outlinewidth\":0,\"ticks\":\"\"},\"colorscale\":[[0.0,\"#0d0887\"],[0.1111111111111111,\"#46039f\"],[0.2222222222222222,\"#7201a8\"],[0.3333333333333333,\"#9c179e\"],[0.4444444444444444,\"#bd3786\"],[0.5555555555555556,\"#d8576b\"],[0.6666666666666666,\"#ed7953\"],[0.7777777777777778,\"#fb9f3a\"],[0.8888888888888888,\"#fdca26\"],[1.0,\"#f0f921\"]],\"type\":\"surface\"}],\"table\":[{\"cells\":{\"fill\":{\"color\":\"#EBF0F8\"},\"line\":{\"color\":\"white\"}},\"header\":{\"fill\":{\"color\":\"#C8D4E3\"},\"line\":{\"color\":\"white\"}},\"type\":\"table\"}]},\"layout\":{\"annotationdefaults\":{\"arrowcolor\":\"#2a3f5f\",\"arrowhead\":0,\"arrowwidth\":1},\"autotypenumbers\":\"strict\",\"coloraxis\":{\"colorbar\":{\"outlinewidth\":0,\"ticks\":\"\"}},\"colorscale\":{\"diverging\":[[0,\"#8e0152\"],[0.1,\"#c51b7d\"],[0.2,\"#de77ae\"],[0.3,\"#f1b6da\"],[0.4,\"#fde0ef\"],[0.5,\"#f7f7f7\"],[0.6,\"#e6f5d0\"],[0.7,\"#b8e186\"],[0.8,\"#7fbc41\"],[0.9,\"#4d9221\"],[1,\"#276419\"]],\"sequential\":[[0.0,\"#0d0887\"],[0.1111111111111111,\"#46039f\"],[0.2222222222222222,\"#7201a8\"],[0.3333333333333333,\"#9c179e\"],[0.4444444444444444,\"#bd3786\"],[0.5555555555555556,\"#d8576b\"],[0.6666666666666666,\"#ed7953\"],[0.7777777777777778,\"#fb9f3a\"],[0.8888888888888888,\"#fdca26\"],[1.0,\"#f0f921\"]],\"sequentialminus\":[[0.0,\"#0d0887\"],[0.1111111111111111,\"#46039f\"],[0.2222222222222222,\"#7201a8\"],[0.3333333333333333,\"#9c179e\"],[0.4444444444444444,\"#bd3786\"],[0.5555555555555556,\"#d8576b\"],[0.6666666666666666,\"#ed7953\"],[0.7777777777777778,\"#fb9f3a\"],[0.8888888888888888,\"#fdca26\"],[1.0,\"#f0f921\"]]},\"colorway\":[\"#636efa\",\"#EF553B\",\"#00cc96\",\"#ab63fa\",\"#FFA15A\",\"#19d3f3\",\"#FF6692\",\"#B6E880\",\"#FF97FF\",\"#FECB52\"],\"font\":{\"color\":\"#2a3f5f\"},\"geo\":{\"bgcolor\":\"white\",\"lakecolor\":\"white\",\"landcolor\":\"#E5ECF6\",\"showlakes\":true,\"showland\":true,\"subunitcolor\":\"white\"},\"hoverlabel\":{\"align\":\"left\"},\"hovermode\":\"closest\",\"mapbox\":{\"style\":\"light\"},\"paper_bgcolor\":\"white\",\"plot_bgcolor\":\"#E5ECF6\",\"polar\":{\"angularaxis\":{\"gridcolor\":\"white\",\"linecolor\":\"white\",\"ticks\":\"\"},\"bgcolor\":\"#E5ECF6\",\"radialaxis\":{\"gridcolor\":\"white\",\"linecolor\":\"white\",\"ticks\":\"\"}},\"scene\":{\"xaxis\":{\"backgroundcolor\":\"#E5ECF6\",\"gridcolor\":\"white\",\"gridwidth\":2,\"linecolor\":\"white\",\"showbackground\":true,\"ticks\":\"\",\"zerolinecolor\":\"white\"},\"yaxis\":{\"backgroundcolor\":\"#E5ECF6\",\"gridcolor\":\"white\",\"gridwidth\":2,\"linecolor\":\"white\",\"showbackground\":true,\"ticks\":\"\",\"zerolinecolor\":\"white\"},\"zaxis\":{\"backgroundcolor\":\"#E5ECF6\",\"gridcolor\":\"white\",\"gridwidth\":2,\"linecolor\":\"white\",\"showbackground\":true,\"ticks\":\"\",\"zerolinecolor\":\"white\"}},\"shapedefaults\":{\"line\":{\"color\":\"#2a3f5f\"}},\"ternary\":{\"aaxis\":{\"gridcolor\":\"white\",\"linecolor\":\"white\",\"ticks\":\"\"},\"baxis\":{\"gridcolor\":\"white\",\"linecolor\":\"white\",\"ticks\":\"\"},\"bgcolor\":\"#E5ECF6\",\"caxis\":{\"gridcolor\":\"white\",\"linecolor\":\"white\",\"ticks\":\"\"}},\"title\":{\"x\":0.05},\"xaxis\":{\"automargin\":true,\"gridcolor\":\"white\",\"linecolor\":\"white\",\"ticks\":\"\",\"title\":{\"standoff\":15},\"zerolinecolor\":\"white\",\"zerolinewidth\":2},\"yaxis\":{\"automargin\":true,\"gridcolor\":\"white\",\"linecolor\":\"white\",\"ticks\":\"\",\"title\":{\"standoff\":15},\"zerolinecolor\":\"white\",\"zerolinewidth\":2}}}},                        {\"responsive\": true}                    ).then(function(){\n",
       "                            \n",
       "var gd = document.getElementById('4484b349-8c5f-4a43-8d2e-f5efae1efcac');\n",
       "var x = new MutationObserver(function (mutations, observer) {{\n",
       "        var display = window.getComputedStyle(gd).display;\n",
       "        if (!display || display === 'none') {{\n",
       "            console.log([gd, 'removed!']);\n",
       "            Plotly.purge(gd);\n",
       "            observer.disconnect();\n",
       "        }}\n",
       "}});\n",
       "\n",
       "// Listen for the removal of the full notebook cells\n",
       "var notebookContainer = gd.closest('#notebook-container');\n",
       "if (notebookContainer) {{\n",
       "    x.observe(notebookContainer, {childList: true});\n",
       "}}\n",
       "\n",
       "// Listen for the clearing of the current output cell\n",
       "var outputEl = gd.closest('.output');\n",
       "if (outputEl) {{\n",
       "    x.observe(outputEl, {childList: true});\n",
       "}}\n",
       "\n",
       "                        })                };                });            </script>        </div>"
      ]
     },
     "metadata": {},
     "output_type": "display_data"
    }
   ],
   "source": [
    "venda['LOCAL'] = venda['LOCAL'].replace('São Paulo, SP','São Paulo - SP')\n",
    "localidade = venda[\"LOCAL\"].value_counts()\n",
    "vendas = venda.groupby(\"LOCAL\")[\"VENDIDO\"].sum().to_frame()\n",
    "vendas = vendas.sort_values(by='VENDIDO', ascending=False).head(10)\n",
    "vendas['LOCAL'] = vendas.index\n",
    "vendas.reset_index(drop=True, inplace=True)\n",
    "import plotly.graph_objects as go\n",
    "\n",
    "fig = go.Figure()\n",
    "fig.add_trace(go.Bar(\n",
    "    y=vendas['LOCAL'],\n",
    "    x=vendas['VENDIDO'],\n",
    "    orientation='h'\n",
    "))"
   ]
  },
  {
   "cell_type": "markdown",
   "id": "3a3d88f8",
   "metadata": {},
   "source": [
    "Aqui está a lista de compradores por Cidade - Estado; \n",
    "\n",
    "    -  a maioria dos clientes são da cidade de São Paulo; \n",
    "    -  existem clientes que estão sem o nome da cidade (foi preenchido com um - )"
   ]
  },
  {
   "cell_type": "markdown",
   "id": "2800f68b",
   "metadata": {},
   "source": [
    "Uma análise mais completa poderia ser feita com mais dados desses leads; outra coisa que notei foram muitos dados faltantes ou ainda preenchidos incorretamente, como demonstra o gráfico acima; "
   ]
  },
  {
   "cell_type": "code",
   "execution_count": 192,
   "id": "31cf1296",
   "metadata": {},
   "outputs": [],
   "source": [
    "venda['DATA CADASTRO'] = pd.to_datetime(venda['DATA CADASTRO'])"
   ]
  },
  {
   "cell_type": "code",
   "execution_count": 193,
   "id": "a0e56bbd",
   "metadata": {},
   "outputs": [
    {
     "data": {
      "text/plain": [
       "1     18\n",
       "3     17\n",
       "12    15\n",
       "2     13\n",
       "4      9\n",
       "Name: DATA CADASTRO, dtype: int64"
      ]
     },
     "execution_count": 193,
     "metadata": {},
     "output_type": "execute_result"
    }
   ],
   "source": [
    "venda['DATA CADASTRO'].dt.month.value_counts().sort_values(ascending=False)"
   ]
  },
  {
   "cell_type": "markdown",
   "id": "46c52e97",
   "metadata": {},
   "source": [
    "O mês de maior vendas foi o Mês de Janeiro 2021, seguido de Março 2021 e Dezembro de 2020; "
   ]
  },
  {
   "cell_type": "code",
   "execution_count": 194,
   "id": "6e8734ba",
   "metadata": {},
   "outputs": [
    {
     "data": {
      "text/plain": [
       "<AxesSubplot:xlabel='DATA CADASTRO'>"
      ]
     },
     "execution_count": 194,
     "metadata": {},
     "output_type": "execute_result"
    },
    {
     "data": {
      "image/png": "[encoded data removed]",
      "text/plain": [
       "<Figure size 1440x360 with 1 Axes>"
      ]
     },
     "metadata": {
      "needs_background": "light"
     },
     "output_type": "display_data"
    }
   ],
   "source": [
    "venda.groupby([venda['DATA CADASTRO'].dt.year, 'PORTE']).size().unstack(1).fillna(0).plot(kind='bar', figsize=(20,5))"
   ]
  },
  {
   "cell_type": "markdown",
   "id": "66bb2d26",
   "metadata": {},
   "source": [
    "Neste último gráfico mostro a quantidade de vendas relacionada ao porte da empresa com o ano de cadastro na tabela; "
   ]
  },
  {
   "cell_type": "markdown",
   "id": "fccf8068",
   "metadata": {},
   "source": [
    "### d.\tA partir dessa análse, que recomendação você daria ao setor de marketing, visando aumentar as chances de conversão em futuras campanhas/investimentos?"
   ]
  },
  {
   "cell_type": "markdown",
   "id": "c70cc9a6",
   "metadata": {},
   "source": [
    "alguns insigths dos dados disponibilizados: \n",
    "\n",
    "    - A maioria dos Leads convertidos são empresas pequenas;\n",
    "    - A maioria do alcance a esses Leads deu-se por campanhas pagas (Google) e ainda \n",
    "    Anúncios/Posts espontâneos (Orgânico);\n",
    "    - A campanha de Abertura/Expansão foi a que mais converteu clientes; \n",
    "    - Temos um público diverso (vários tipos de atividades de Mercado);\n",
    "\n",
    "minhas recomendações em cima desses insigths são:\n",
    "\n",
    "    - Focar no pequeno, focar em empresas que tem poucos funcionários e consequentemente são as que tem menos receita, \n",
    "    eles são o nosso principal público. \n",
    "    - Sugiro alguns incentivos a esses possíveis compradores como: oferecimento de vantagens; oferecimento de fidelização (alguma campanha voltada para fidelizar esse cliente fazendo com que ele volte a comprar ou renovar o serviço oferecido);\n",
    "    - Sugiro aumentar o conteúdo de e-mail marketing (notei que não é uma das maneiras mais usadas pela empresa para \n",
    "    campanhas) e é uma ótima ferramenta de atração de novos clientes, onde pode-se atingir todo tipo de empresa independente\n",
    "    do porte; \n",
    "    - Refazer campanhas como a de Abertura/Expansão usando  a mesma tática já que ela trouxe muitos Leads convertidos;\n",
    "    - Sugiro além do Marketing prezar pelo preenchimento das tabelas para não ter muitos itens faltantes como no caso do\n",
    "    Ranking das cidades; \n",
    "    - Sugiro focar no produto como solução já que temos clientes de vários ramos, fazendo melhoria na entrega\n",
    "    do nosso produto;\n",
    "    - Continuar realizando análise de Leads; \n",
    "   "
   ]
  },
  {
   "cell_type": "code",
   "execution_count": null,
   "id": "7ea03141",
   "metadata": {},
   "outputs": [],
   "source": []
  }
 ],
 "metadata": {
  "kernelspec": {
   "display_name": "Python 3",
   "language": "python",
   "name": "python3"
  },
  "language_info": {
   "codemirror_mode": {
    "name": "ipython",
    "version": 3
   },
   "file_extension": ".py",
   "mimetype": "text/x-python",
   "name": "python",
   "nbconvert_exporter": "python",
   "pygments_lexer": "ipython3",
   "version": "3.8.8"
  }
 },
 "nbformat": 4,
 "nbformat_minor": 5
}
